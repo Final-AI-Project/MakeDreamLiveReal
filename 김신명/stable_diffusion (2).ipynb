{
  "nbformat": 4,
  "nbformat_minor": 0,
  "metadata": {
    "colab": {
      "provenance": [],
      "machine_shape": "hm",
      "gpuType": "A100"
    },
    "kernelspec": {
      "name": "python3",
      "display_name": "Python 3"
    },
    "language_info": {
      "name": "python"
    },
    "accelerator": "GPU",
    "widgets": {
      "application/vnd.jupyter.widget-state+json": {
        "17ac24a5670548a59ef7fdf2916bcb53": {
          "model_module": "@jupyter-widgets/controls",
          "model_name": "HBoxModel",
          "model_module_version": "1.5.0",
          "state": {
            "_dom_classes": [],
            "_model_module": "@jupyter-widgets/controls",
            "_model_module_version": "1.5.0",
            "_model_name": "HBoxModel",
            "_view_count": null,
            "_view_module": "@jupyter-widgets/controls",
            "_view_module_version": "1.5.0",
            "_view_name": "HBoxView",
            "box_style": "",
            "children": [
              "IPY_MODEL_a841f33883684b76abc27474c13ac10a",
              "IPY_MODEL_a30833aef9534ad2bcdd28c88bd5782b",
              "IPY_MODEL_bf1d189792bf4c669c6fdb7f87433159"
            ],
            "layout": "IPY_MODEL_b5c456886f1647c0b2f6b7dc0aff1f0a"
          }
        },
        "a841f33883684b76abc27474c13ac10a": {
          "model_module": "@jupyter-widgets/controls",
          "model_name": "HTMLModel",
          "model_module_version": "1.5.0",
          "state": {
            "_dom_classes": [],
            "_model_module": "@jupyter-widgets/controls",
            "_model_module_version": "1.5.0",
            "_model_name": "HTMLModel",
            "_view_count": null,
            "_view_module": "@jupyter-widgets/controls",
            "_view_module_version": "1.5.0",
            "_view_name": "HTMLView",
            "description": "",
            "description_tooltip": null,
            "layout": "IPY_MODEL_4a79c44740524490a17e737e55d36779",
            "placeholder": "​",
            "style": "IPY_MODEL_2c42f28994d44dcf8504da29856804d4",
            "value": "100%"
          }
        },
        "a30833aef9534ad2bcdd28c88bd5782b": {
          "model_module": "@jupyter-widgets/controls",
          "model_name": "FloatProgressModel",
          "model_module_version": "1.5.0",
          "state": {
            "_dom_classes": [],
            "_model_module": "@jupyter-widgets/controls",
            "_model_module_version": "1.5.0",
            "_model_name": "FloatProgressModel",
            "_view_count": null,
            "_view_module": "@jupyter-widgets/controls",
            "_view_module_version": "1.5.0",
            "_view_name": "ProgressView",
            "bar_style": "success",
            "description": "",
            "description_tooltip": null,
            "layout": "IPY_MODEL_c7dd8547133841cd870c9d8a8d020f8d",
            "max": 30,
            "min": 0,
            "orientation": "horizontal",
            "style": "IPY_MODEL_44399082e65d4031b207d5e937a90d1a",
            "value": 30
          }
        },
        "bf1d189792bf4c669c6fdb7f87433159": {
          "model_module": "@jupyter-widgets/controls",
          "model_name": "HTMLModel",
          "model_module_version": "1.5.0",
          "state": {
            "_dom_classes": [],
            "_model_module": "@jupyter-widgets/controls",
            "_model_module_version": "1.5.0",
            "_model_name": "HTMLModel",
            "_view_count": null,
            "_view_module": "@jupyter-widgets/controls",
            "_view_module_version": "1.5.0",
            "_view_name": "HTMLView",
            "description": "",
            "description_tooltip": null,
            "layout": "IPY_MODEL_8495174305a641c9a630907520a4098f",
            "placeholder": "​",
            "style": "IPY_MODEL_18f5766b12554d3cbba7bbe4ef716b0b",
            "value": " 30/30 [00:01&lt;00:00, 16.67it/s]"
          }
        },
        "b5c456886f1647c0b2f6b7dc0aff1f0a": {
          "model_module": "@jupyter-widgets/base",
          "model_name": "LayoutModel",
          "model_module_version": "1.2.0",
          "state": {
            "_model_module": "@jupyter-widgets/base",
            "_model_module_version": "1.2.0",
            "_model_name": "LayoutModel",
            "_view_count": null,
            "_view_module": "@jupyter-widgets/base",
            "_view_module_version": "1.2.0",
            "_view_name": "LayoutView",
            "align_content": null,
            "align_items": null,
            "align_self": null,
            "border": null,
            "bottom": null,
            "display": null,
            "flex": null,
            "flex_flow": null,
            "grid_area": null,
            "grid_auto_columns": null,
            "grid_auto_flow": null,
            "grid_auto_rows": null,
            "grid_column": null,
            "grid_gap": null,
            "grid_row": null,
            "grid_template_areas": null,
            "grid_template_columns": null,
            "grid_template_rows": null,
            "height": null,
            "justify_content": null,
            "justify_items": null,
            "left": null,
            "margin": null,
            "max_height": null,
            "max_width": null,
            "min_height": null,
            "min_width": null,
            "object_fit": null,
            "object_position": null,
            "order": null,
            "overflow": null,
            "overflow_x": null,
            "overflow_y": null,
            "padding": null,
            "right": null,
            "top": null,
            "visibility": null,
            "width": null
          }
        },
        "4a79c44740524490a17e737e55d36779": {
          "model_module": "@jupyter-widgets/base",
          "model_name": "LayoutModel",
          "model_module_version": "1.2.0",
          "state": {
            "_model_module": "@jupyter-widgets/base",
            "_model_module_version": "1.2.0",
            "_model_name": "LayoutModel",
            "_view_count": null,
            "_view_module": "@jupyter-widgets/base",
            "_view_module_version": "1.2.0",
            "_view_name": "LayoutView",
            "align_content": null,
            "align_items": null,
            "align_self": null,
            "border": null,
            "bottom": null,
            "display": null,
            "flex": null,
            "flex_flow": null,
            "grid_area": null,
            "grid_auto_columns": null,
            "grid_auto_flow": null,
            "grid_auto_rows": null,
            "grid_column": null,
            "grid_gap": null,
            "grid_row": null,
            "grid_template_areas": null,
            "grid_template_columns": null,
            "grid_template_rows": null,
            "height": null,
            "justify_content": null,
            "justify_items": null,
            "left": null,
            "margin": null,
            "max_height": null,
            "max_width": null,
            "min_height": null,
            "min_width": null,
            "object_fit": null,
            "object_position": null,
            "order": null,
            "overflow": null,
            "overflow_x": null,
            "overflow_y": null,
            "padding": null,
            "right": null,
            "top": null,
            "visibility": null,
            "width": null
          }
        },
        "2c42f28994d44dcf8504da29856804d4": {
          "model_module": "@jupyter-widgets/controls",
          "model_name": "DescriptionStyleModel",
          "model_module_version": "1.5.0",
          "state": {
            "_model_module": "@jupyter-widgets/controls",
            "_model_module_version": "1.5.0",
            "_model_name": "DescriptionStyleModel",
            "_view_count": null,
            "_view_module": "@jupyter-widgets/base",
            "_view_module_version": "1.2.0",
            "_view_name": "StyleView",
            "description_width": ""
          }
        },
        "c7dd8547133841cd870c9d8a8d020f8d": {
          "model_module": "@jupyter-widgets/base",
          "model_name": "LayoutModel",
          "model_module_version": "1.2.0",
          "state": {
            "_model_module": "@jupyter-widgets/base",
            "_model_module_version": "1.2.0",
            "_model_name": "LayoutModel",
            "_view_count": null,
            "_view_module": "@jupyter-widgets/base",
            "_view_module_version": "1.2.0",
            "_view_name": "LayoutView",
            "align_content": null,
            "align_items": null,
            "align_self": null,
            "border": null,
            "bottom": null,
            "display": null,
            "flex": null,
            "flex_flow": null,
            "grid_area": null,
            "grid_auto_columns": null,
            "grid_auto_flow": null,
            "grid_auto_rows": null,
            "grid_column": null,
            "grid_gap": null,
            "grid_row": null,
            "grid_template_areas": null,
            "grid_template_columns": null,
            "grid_template_rows": null,
            "height": null,
            "justify_content": null,
            "justify_items": null,
            "left": null,
            "margin": null,
            "max_height": null,
            "max_width": null,
            "min_height": null,
            "min_width": null,
            "object_fit": null,
            "object_position": null,
            "order": null,
            "overflow": null,
            "overflow_x": null,
            "overflow_y": null,
            "padding": null,
            "right": null,
            "top": null,
            "visibility": null,
            "width": null
          }
        },
        "44399082e65d4031b207d5e937a90d1a": {
          "model_module": "@jupyter-widgets/controls",
          "model_name": "ProgressStyleModel",
          "model_module_version": "1.5.0",
          "state": {
            "_model_module": "@jupyter-widgets/controls",
            "_model_module_version": "1.5.0",
            "_model_name": "ProgressStyleModel",
            "_view_count": null,
            "_view_module": "@jupyter-widgets/base",
            "_view_module_version": "1.2.0",
            "_view_name": "StyleView",
            "bar_color": null,
            "description_width": ""
          }
        },
        "8495174305a641c9a630907520a4098f": {
          "model_module": "@jupyter-widgets/base",
          "model_name": "LayoutModel",
          "model_module_version": "1.2.0",
          "state": {
            "_model_module": "@jupyter-widgets/base",
            "_model_module_version": "1.2.0",
            "_model_name": "LayoutModel",
            "_view_count": null,
            "_view_module": "@jupyter-widgets/base",
            "_view_module_version": "1.2.0",
            "_view_name": "LayoutView",
            "align_content": null,
            "align_items": null,
            "align_self": null,
            "border": null,
            "bottom": null,
            "display": null,
            "flex": null,
            "flex_flow": null,
            "grid_area": null,
            "grid_auto_columns": null,
            "grid_auto_flow": null,
            "grid_auto_rows": null,
            "grid_column": null,
            "grid_gap": null,
            "grid_row": null,
            "grid_template_areas": null,
            "grid_template_columns": null,
            "grid_template_rows": null,
            "height": null,
            "justify_content": null,
            "justify_items": null,
            "left": null,
            "margin": null,
            "max_height": null,
            "max_width": null,
            "min_height": null,
            "min_width": null,
            "object_fit": null,
            "object_position": null,
            "order": null,
            "overflow": null,
            "overflow_x": null,
            "overflow_y": null,
            "padding": null,
            "right": null,
            "top": null,
            "visibility": null,
            "width": null
          }
        },
        "18f5766b12554d3cbba7bbe4ef716b0b": {
          "model_module": "@jupyter-widgets/controls",
          "model_name": "DescriptionStyleModel",
          "model_module_version": "1.5.0",
          "state": {
            "_model_module": "@jupyter-widgets/controls",
            "_model_module_version": "1.5.0",
            "_model_name": "DescriptionStyleModel",
            "_view_count": null,
            "_view_module": "@jupyter-widgets/base",
            "_view_module_version": "1.2.0",
            "_view_name": "StyleView",
            "description_width": ""
          }
        },
        "c3dc14594ea7417895fd2839f00f283f": {
          "model_module": "@jupyter-widgets/controls",
          "model_name": "HBoxModel",
          "model_module_version": "1.5.0",
          "state": {
            "_dom_classes": [],
            "_model_module": "@jupyter-widgets/controls",
            "_model_module_version": "1.5.0",
            "_model_name": "HBoxModel",
            "_view_count": null,
            "_view_module": "@jupyter-widgets/controls",
            "_view_module_version": "1.5.0",
            "_view_name": "HBoxView",
            "box_style": "",
            "children": [
              "IPY_MODEL_8a2b6ee68f444439b469fd157b321504",
              "IPY_MODEL_a48338be416840609a5d0efcad0185c1",
              "IPY_MODEL_e0ba9975e43a4bfca02dd6ed8ad7bf47"
            ],
            "layout": "IPY_MODEL_df425f49daca42aaac8f7b9e69b9fe2f"
          }
        },
        "8a2b6ee68f444439b469fd157b321504": {
          "model_module": "@jupyter-widgets/controls",
          "model_name": "HTMLModel",
          "model_module_version": "1.5.0",
          "state": {
            "_dom_classes": [],
            "_model_module": "@jupyter-widgets/controls",
            "_model_module_version": "1.5.0",
            "_model_name": "HTMLModel",
            "_view_count": null,
            "_view_module": "@jupyter-widgets/controls",
            "_view_module_version": "1.5.0",
            "_view_name": "HTMLView",
            "description": "",
            "description_tooltip": null,
            "layout": "IPY_MODEL_2d8fa5cd1d014edcbeab026a5b76b98e",
            "placeholder": "​",
            "style": "IPY_MODEL_3afc6030539242a3870299f5356698ee",
            "value": "model_index.json: 100%"
          }
        },
        "a48338be416840609a5d0efcad0185c1": {
          "model_module": "@jupyter-widgets/controls",
          "model_name": "FloatProgressModel",
          "model_module_version": "1.5.0",
          "state": {
            "_dom_classes": [],
            "_model_module": "@jupyter-widgets/controls",
            "_model_module_version": "1.5.0",
            "_model_name": "FloatProgressModel",
            "_view_count": null,
            "_view_module": "@jupyter-widgets/controls",
            "_view_module_version": "1.5.0",
            "_view_name": "ProgressView",
            "bar_style": "success",
            "description": "",
            "description_tooltip": null,
            "layout": "IPY_MODEL_61377284013e440db5f2884d2610976c",
            "max": 541,
            "min": 0,
            "orientation": "horizontal",
            "style": "IPY_MODEL_154cd7d3e4954790be611c4be802c5e8",
            "value": 541
          }
        },
        "e0ba9975e43a4bfca02dd6ed8ad7bf47": {
          "model_module": "@jupyter-widgets/controls",
          "model_name": "HTMLModel",
          "model_module_version": "1.5.0",
          "state": {
            "_dom_classes": [],
            "_model_module": "@jupyter-widgets/controls",
            "_model_module_version": "1.5.0",
            "_model_name": "HTMLModel",
            "_view_count": null,
            "_view_module": "@jupyter-widgets/controls",
            "_view_module_version": "1.5.0",
            "_view_name": "HTMLView",
            "description": "",
            "description_tooltip": null,
            "layout": "IPY_MODEL_c6b1e80b26eb4d739cc1838716ee7f51",
            "placeholder": "​",
            "style": "IPY_MODEL_da547de72bea435c97a9a7bae453887d",
            "value": " 541/541 [00:00&lt;00:00, 62.9kB/s]"
          }
        },
        "df425f49daca42aaac8f7b9e69b9fe2f": {
          "model_module": "@jupyter-widgets/base",
          "model_name": "LayoutModel",
          "model_module_version": "1.2.0",
          "state": {
            "_model_module": "@jupyter-widgets/base",
            "_model_module_version": "1.2.0",
            "_model_name": "LayoutModel",
            "_view_count": null,
            "_view_module": "@jupyter-widgets/base",
            "_view_module_version": "1.2.0",
            "_view_name": "LayoutView",
            "align_content": null,
            "align_items": null,
            "align_self": null,
            "border": null,
            "bottom": null,
            "display": null,
            "flex": null,
            "flex_flow": null,
            "grid_area": null,
            "grid_auto_columns": null,
            "grid_auto_flow": null,
            "grid_auto_rows": null,
            "grid_column": null,
            "grid_gap": null,
            "grid_row": null,
            "grid_template_areas": null,
            "grid_template_columns": null,
            "grid_template_rows": null,
            "height": null,
            "justify_content": null,
            "justify_items": null,
            "left": null,
            "margin": null,
            "max_height": null,
            "max_width": null,
            "min_height": null,
            "min_width": null,
            "object_fit": null,
            "object_position": null,
            "order": null,
            "overflow": null,
            "overflow_x": null,
            "overflow_y": null,
            "padding": null,
            "right": null,
            "top": null,
            "visibility": null,
            "width": null
          }
        },
        "2d8fa5cd1d014edcbeab026a5b76b98e": {
          "model_module": "@jupyter-widgets/base",
          "model_name": "LayoutModel",
          "model_module_version": "1.2.0",
          "state": {
            "_model_module": "@jupyter-widgets/base",
            "_model_module_version": "1.2.0",
            "_model_name": "LayoutModel",
            "_view_count": null,
            "_view_module": "@jupyter-widgets/base",
            "_view_module_version": "1.2.0",
            "_view_name": "LayoutView",
            "align_content": null,
            "align_items": null,
            "align_self": null,
            "border": null,
            "bottom": null,
            "display": null,
            "flex": null,
            "flex_flow": null,
            "grid_area": null,
            "grid_auto_columns": null,
            "grid_auto_flow": null,
            "grid_auto_rows": null,
            "grid_column": null,
            "grid_gap": null,
            "grid_row": null,
            "grid_template_areas": null,
            "grid_template_columns": null,
            "grid_template_rows": null,
            "height": null,
            "justify_content": null,
            "justify_items": null,
            "left": null,
            "margin": null,
            "max_height": null,
            "max_width": null,
            "min_height": null,
            "min_width": null,
            "object_fit": null,
            "object_position": null,
            "order": null,
            "overflow": null,
            "overflow_x": null,
            "overflow_y": null,
            "padding": null,
            "right": null,
            "top": null,
            "visibility": null,
            "width": null
          }
        },
        "3afc6030539242a3870299f5356698ee": {
          "model_module": "@jupyter-widgets/controls",
          "model_name": "DescriptionStyleModel",
          "model_module_version": "1.5.0",
          "state": {
            "_model_module": "@jupyter-widgets/controls",
            "_model_module_version": "1.5.0",
            "_model_name": "DescriptionStyleModel",
            "_view_count": null,
            "_view_module": "@jupyter-widgets/base",
            "_view_module_version": "1.2.0",
            "_view_name": "StyleView",
            "description_width": ""
          }
        },
        "61377284013e440db5f2884d2610976c": {
          "model_module": "@jupyter-widgets/base",
          "model_name": "LayoutModel",
          "model_module_version": "1.2.0",
          "state": {
            "_model_module": "@jupyter-widgets/base",
            "_model_module_version": "1.2.0",
            "_model_name": "LayoutModel",
            "_view_count": null,
            "_view_module": "@jupyter-widgets/base",
            "_view_module_version": "1.2.0",
            "_view_name": "LayoutView",
            "align_content": null,
            "align_items": null,
            "align_self": null,
            "border": null,
            "bottom": null,
            "display": null,
            "flex": null,
            "flex_flow": null,
            "grid_area": null,
            "grid_auto_columns": null,
            "grid_auto_flow": null,
            "grid_auto_rows": null,
            "grid_column": null,
            "grid_gap": null,
            "grid_row": null,
            "grid_template_areas": null,
            "grid_template_columns": null,
            "grid_template_rows": null,
            "height": null,
            "justify_content": null,
            "justify_items": null,
            "left": null,
            "margin": null,
            "max_height": null,
            "max_width": null,
            "min_height": null,
            "min_width": null,
            "object_fit": null,
            "object_position": null,
            "order": null,
            "overflow": null,
            "overflow_x": null,
            "overflow_y": null,
            "padding": null,
            "right": null,
            "top": null,
            "visibility": null,
            "width": null
          }
        },
        "154cd7d3e4954790be611c4be802c5e8": {
          "model_module": "@jupyter-widgets/controls",
          "model_name": "ProgressStyleModel",
          "model_module_version": "1.5.0",
          "state": {
            "_model_module": "@jupyter-widgets/controls",
            "_model_module_version": "1.5.0",
            "_model_name": "ProgressStyleModel",
            "_view_count": null,
            "_view_module": "@jupyter-widgets/base",
            "_view_module_version": "1.2.0",
            "_view_name": "StyleView",
            "bar_color": null,
            "description_width": ""
          }
        },
        "c6b1e80b26eb4d739cc1838716ee7f51": {
          "model_module": "@jupyter-widgets/base",
          "model_name": "LayoutModel",
          "model_module_version": "1.2.0",
          "state": {
            "_model_module": "@jupyter-widgets/base",
            "_model_module_version": "1.2.0",
            "_model_name": "LayoutModel",
            "_view_count": null,
            "_view_module": "@jupyter-widgets/base",
            "_view_module_version": "1.2.0",
            "_view_name": "LayoutView",
            "align_content": null,
            "align_items": null,
            "align_self": null,
            "border": null,
            "bottom": null,
            "display": null,
            "flex": null,
            "flex_flow": null,
            "grid_area": null,
            "grid_auto_columns": null,
            "grid_auto_flow": null,
            "grid_auto_rows": null,
            "grid_column": null,
            "grid_gap": null,
            "grid_row": null,
            "grid_template_areas": null,
            "grid_template_columns": null,
            "grid_template_rows": null,
            "height": null,
            "justify_content": null,
            "justify_items": null,
            "left": null,
            "margin": null,
            "max_height": null,
            "max_width": null,
            "min_height": null,
            "min_width": null,
            "object_fit": null,
            "object_position": null,
            "order": null,
            "overflow": null,
            "overflow_x": null,
            "overflow_y": null,
            "padding": null,
            "right": null,
            "top": null,
            "visibility": null,
            "width": null
          }
        },
        "da547de72bea435c97a9a7bae453887d": {
          "model_module": "@jupyter-widgets/controls",
          "model_name": "DescriptionStyleModel",
          "model_module_version": "1.5.0",
          "state": {
            "_model_module": "@jupyter-widgets/controls",
            "_model_module_version": "1.5.0",
            "_model_name": "DescriptionStyleModel",
            "_view_count": null,
            "_view_module": "@jupyter-widgets/base",
            "_view_module_version": "1.2.0",
            "_view_name": "StyleView",
            "description_width": ""
          }
        },
        "f7b4cd8dddd64b81b253425459055e74": {
          "model_module": "@jupyter-widgets/controls",
          "model_name": "HBoxModel",
          "model_module_version": "1.5.0",
          "state": {
            "_dom_classes": [],
            "_model_module": "@jupyter-widgets/controls",
            "_model_module_version": "1.5.0",
            "_model_name": "HBoxModel",
            "_view_count": null,
            "_view_module": "@jupyter-widgets/controls",
            "_view_module_version": "1.5.0",
            "_view_name": "HBoxView",
            "box_style": "",
            "children": [
              "IPY_MODEL_238b54e4c26f4f5698da34fe6f12e967",
              "IPY_MODEL_48ce6eeb11244ee19e1bf87634763692",
              "IPY_MODEL_6def890310a244b98615d0f475b8b976"
            ],
            "layout": "IPY_MODEL_37e22378174246dcbc4ebca88cc69a3f"
          }
        },
        "238b54e4c26f4f5698da34fe6f12e967": {
          "model_module": "@jupyter-widgets/controls",
          "model_name": "HTMLModel",
          "model_module_version": "1.5.0",
          "state": {
            "_dom_classes": [],
            "_model_module": "@jupyter-widgets/controls",
            "_model_module_version": "1.5.0",
            "_model_name": "HTMLModel",
            "_view_count": null,
            "_view_module": "@jupyter-widgets/controls",
            "_view_module_version": "1.5.0",
            "_view_name": "HTMLView",
            "description": "",
            "description_tooltip": null,
            "layout": "IPY_MODEL_72526de5cc3040158dfed84d1c1eb363",
            "placeholder": "​",
            "style": "IPY_MODEL_e7e56ab53d194592883d5ef6646c278a",
            "value": "Fetching 15 files: 100%"
          }
        },
        "48ce6eeb11244ee19e1bf87634763692": {
          "model_module": "@jupyter-widgets/controls",
          "model_name": "FloatProgressModel",
          "model_module_version": "1.5.0",
          "state": {
            "_dom_classes": [],
            "_model_module": "@jupyter-widgets/controls",
            "_model_module_version": "1.5.0",
            "_model_name": "FloatProgressModel",
            "_view_count": null,
            "_view_module": "@jupyter-widgets/controls",
            "_view_module_version": "1.5.0",
            "_view_name": "ProgressView",
            "bar_style": "success",
            "description": "",
            "description_tooltip": null,
            "layout": "IPY_MODEL_9d98b0f6cfdd4f538cd670ebdcbfab34",
            "max": 15,
            "min": 0,
            "orientation": "horizontal",
            "style": "IPY_MODEL_43a22d03bd19491b902623630e8a04e8",
            "value": 15
          }
        },
        "6def890310a244b98615d0f475b8b976": {
          "model_module": "@jupyter-widgets/controls",
          "model_name": "HTMLModel",
          "model_module_version": "1.5.0",
          "state": {
            "_dom_classes": [],
            "_model_module": "@jupyter-widgets/controls",
            "_model_module_version": "1.5.0",
            "_model_name": "HTMLModel",
            "_view_count": null,
            "_view_module": "@jupyter-widgets/controls",
            "_view_module_version": "1.5.0",
            "_view_name": "HTMLView",
            "description": "",
            "description_tooltip": null,
            "layout": "IPY_MODEL_64c8116442b0447899c8717bba0ca78e",
            "placeholder": "​",
            "style": "IPY_MODEL_3b34a0f6e60348b4ae49aeefbf3873e0",
            "value": " 15/15 [00:27&lt;00:00,  1.58s/it]"
          }
        },
        "37e22378174246dcbc4ebca88cc69a3f": {
          "model_module": "@jupyter-widgets/base",
          "model_name": "LayoutModel",
          "model_module_version": "1.2.0",
          "state": {
            "_model_module": "@jupyter-widgets/base",
            "_model_module_version": "1.2.0",
            "_model_name": "LayoutModel",
            "_view_count": null,
            "_view_module": "@jupyter-widgets/base",
            "_view_module_version": "1.2.0",
            "_view_name": "LayoutView",
            "align_content": null,
            "align_items": null,
            "align_self": null,
            "border": null,
            "bottom": null,
            "display": null,
            "flex": null,
            "flex_flow": null,
            "grid_area": null,
            "grid_auto_columns": null,
            "grid_auto_flow": null,
            "grid_auto_rows": null,
            "grid_column": null,
            "grid_gap": null,
            "grid_row": null,
            "grid_template_areas": null,
            "grid_template_columns": null,
            "grid_template_rows": null,
            "height": null,
            "justify_content": null,
            "justify_items": null,
            "left": null,
            "margin": null,
            "max_height": null,
            "max_width": null,
            "min_height": null,
            "min_width": null,
            "object_fit": null,
            "object_position": null,
            "order": null,
            "overflow": null,
            "overflow_x": null,
            "overflow_y": null,
            "padding": null,
            "right": null,
            "top": null,
            "visibility": null,
            "width": null
          }
        },
        "72526de5cc3040158dfed84d1c1eb363": {
          "model_module": "@jupyter-widgets/base",
          "model_name": "LayoutModel",
          "model_module_version": "1.2.0",
          "state": {
            "_model_module": "@jupyter-widgets/base",
            "_model_module_version": "1.2.0",
            "_model_name": "LayoutModel",
            "_view_count": null,
            "_view_module": "@jupyter-widgets/base",
            "_view_module_version": "1.2.0",
            "_view_name": "LayoutView",
            "align_content": null,
            "align_items": null,
            "align_self": null,
            "border": null,
            "bottom": null,
            "display": null,
            "flex": null,
            "flex_flow": null,
            "grid_area": null,
            "grid_auto_columns": null,
            "grid_auto_flow": null,
            "grid_auto_rows": null,
            "grid_column": null,
            "grid_gap": null,
            "grid_row": null,
            "grid_template_areas": null,
            "grid_template_columns": null,
            "grid_template_rows": null,
            "height": null,
            "justify_content": null,
            "justify_items": null,
            "left": null,
            "margin": null,
            "max_height": null,
            "max_width": null,
            "min_height": null,
            "min_width": null,
            "object_fit": null,
            "object_position": null,
            "order": null,
            "overflow": null,
            "overflow_x": null,
            "overflow_y": null,
            "padding": null,
            "right": null,
            "top": null,
            "visibility": null,
            "width": null
          }
        },
        "e7e56ab53d194592883d5ef6646c278a": {
          "model_module": "@jupyter-widgets/controls",
          "model_name": "DescriptionStyleModel",
          "model_module_version": "1.5.0",
          "state": {
            "_model_module": "@jupyter-widgets/controls",
            "_model_module_version": "1.5.0",
            "_model_name": "DescriptionStyleModel",
            "_view_count": null,
            "_view_module": "@jupyter-widgets/base",
            "_view_module_version": "1.2.0",
            "_view_name": "StyleView",
            "description_width": ""
          }
        },
        "9d98b0f6cfdd4f538cd670ebdcbfab34": {
          "model_module": "@jupyter-widgets/base",
          "model_name": "LayoutModel",
          "model_module_version": "1.2.0",
          "state": {
            "_model_module": "@jupyter-widgets/base",
            "_model_module_version": "1.2.0",
            "_model_name": "LayoutModel",
            "_view_count": null,
            "_view_module": "@jupyter-widgets/base",
            "_view_module_version": "1.2.0",
            "_view_name": "LayoutView",
            "align_content": null,
            "align_items": null,
            "align_self": null,
            "border": null,
            "bottom": null,
            "display": null,
            "flex": null,
            "flex_flow": null,
            "grid_area": null,
            "grid_auto_columns": null,
            "grid_auto_flow": null,
            "grid_auto_rows": null,
            "grid_column": null,
            "grid_gap": null,
            "grid_row": null,
            "grid_template_areas": null,
            "grid_template_columns": null,
            "grid_template_rows": null,
            "height": null,
            "justify_content": null,
            "justify_items": null,
            "left": null,
            "margin": null,
            "max_height": null,
            "max_width": null,
            "min_height": null,
            "min_width": null,
            "object_fit": null,
            "object_position": null,
            "order": null,
            "overflow": null,
            "overflow_x": null,
            "overflow_y": null,
            "padding": null,
            "right": null,
            "top": null,
            "visibility": null,
            "width": null
          }
        },
        "43a22d03bd19491b902623630e8a04e8": {
          "model_module": "@jupyter-widgets/controls",
          "model_name": "ProgressStyleModel",
          "model_module_version": "1.5.0",
          "state": {
            "_model_module": "@jupyter-widgets/controls",
            "_model_module_version": "1.5.0",
            "_model_name": "ProgressStyleModel",
            "_view_count": null,
            "_view_module": "@jupyter-widgets/base",
            "_view_module_version": "1.2.0",
            "_view_name": "StyleView",
            "bar_color": null,
            "description_width": ""
          }
        },
        "64c8116442b0447899c8717bba0ca78e": {
          "model_module": "@jupyter-widgets/base",
          "model_name": "LayoutModel",
          "model_module_version": "1.2.0",
          "state": {
            "_model_module": "@jupyter-widgets/base",
            "_model_module_version": "1.2.0",
            "_model_name": "LayoutModel",
            "_view_count": null,
            "_view_module": "@jupyter-widgets/base",
            "_view_module_version": "1.2.0",
            "_view_name": "LayoutView",
            "align_content": null,
            "align_items": null,
            "align_self": null,
            "border": null,
            "bottom": null,
            "display": null,
            "flex": null,
            "flex_flow": null,
            "grid_area": null,
            "grid_auto_columns": null,
            "grid_auto_flow": null,
            "grid_auto_rows": null,
            "grid_column": null,
            "grid_gap": null,
            "grid_row": null,
            "grid_template_areas": null,
            "grid_template_columns": null,
            "grid_template_rows": null,
            "height": null,
            "justify_content": null,
            "justify_items": null,
            "left": null,
            "margin": null,
            "max_height": null,
            "max_width": null,
            "min_height": null,
            "min_width": null,
            "object_fit": null,
            "object_position": null,
            "order": null,
            "overflow": null,
            "overflow_x": null,
            "overflow_y": null,
            "padding": null,
            "right": null,
            "top": null,
            "visibility": null,
            "width": null
          }
        },
        "3b34a0f6e60348b4ae49aeefbf3873e0": {
          "model_module": "@jupyter-widgets/controls",
          "model_name": "DescriptionStyleModel",
          "model_module_version": "1.5.0",
          "state": {
            "_model_module": "@jupyter-widgets/controls",
            "_model_module_version": "1.5.0",
            "_model_name": "DescriptionStyleModel",
            "_view_count": null,
            "_view_module": "@jupyter-widgets/base",
            "_view_module_version": "1.2.0",
            "_view_name": "StyleView",
            "description_width": ""
          }
        },
        "77a27df42fdf44d08a693f5603bc0081": {
          "model_module": "@jupyter-widgets/controls",
          "model_name": "HBoxModel",
          "model_module_version": "1.5.0",
          "state": {
            "_dom_classes": [],
            "_model_module": "@jupyter-widgets/controls",
            "_model_module_version": "1.5.0",
            "_model_name": "HBoxModel",
            "_view_count": null,
            "_view_module": "@jupyter-widgets/controls",
            "_view_module_version": "1.5.0",
            "_view_name": "HBoxView",
            "box_style": "",
            "children": [
              "IPY_MODEL_98dacb3d54894e859d0561aed1f610c0",
              "IPY_MODEL_1d1aee37b3b1491fb5a531fcabbbeaf3",
              "IPY_MODEL_dcb1aea742e540ab82e46fedc4e1a47b"
            ],
            "layout": "IPY_MODEL_78640c22f7284e24bdad0229217b1c58"
          }
        },
        "98dacb3d54894e859d0561aed1f610c0": {
          "model_module": "@jupyter-widgets/controls",
          "model_name": "HTMLModel",
          "model_module_version": "1.5.0",
          "state": {
            "_dom_classes": [],
            "_model_module": "@jupyter-widgets/controls",
            "_model_module_version": "1.5.0",
            "_model_name": "HTMLModel",
            "_view_count": null,
            "_view_module": "@jupyter-widgets/controls",
            "_view_module_version": "1.5.0",
            "_view_name": "HTMLView",
            "description": "",
            "description_tooltip": null,
            "layout": "IPY_MODEL_09f45eee71384802bb1eb35f9b78f13a",
            "placeholder": "​",
            "style": "IPY_MODEL_e1047a1e1f8e41cfb5be8937146c4c32",
            "value": "special_tokens_map.json: 100%"
          }
        },
        "1d1aee37b3b1491fb5a531fcabbbeaf3": {
          "model_module": "@jupyter-widgets/controls",
          "model_name": "FloatProgressModel",
          "model_module_version": "1.5.0",
          "state": {
            "_dom_classes": [],
            "_model_module": "@jupyter-widgets/controls",
            "_model_module_version": "1.5.0",
            "_model_name": "FloatProgressModel",
            "_view_count": null,
            "_view_module": "@jupyter-widgets/controls",
            "_view_module_version": "1.5.0",
            "_view_name": "ProgressView",
            "bar_style": "success",
            "description": "",
            "description_tooltip": null,
            "layout": "IPY_MODEL_726584bc4d984cbca65abcaf55d0116f",
            "max": 472,
            "min": 0,
            "orientation": "horizontal",
            "style": "IPY_MODEL_2be88491e81c4f7887e926bbf48d18e1",
            "value": 472
          }
        },
        "dcb1aea742e540ab82e46fedc4e1a47b": {
          "model_module": "@jupyter-widgets/controls",
          "model_name": "HTMLModel",
          "model_module_version": "1.5.0",
          "state": {
            "_dom_classes": [],
            "_model_module": "@jupyter-widgets/controls",
            "_model_module_version": "1.5.0",
            "_model_name": "HTMLModel",
            "_view_count": null,
            "_view_module": "@jupyter-widgets/controls",
            "_view_module_version": "1.5.0",
            "_view_name": "HTMLView",
            "description": "",
            "description_tooltip": null,
            "layout": "IPY_MODEL_7f6f36fba53a4d55a8f31beef651aeb5",
            "placeholder": "​",
            "style": "IPY_MODEL_601835f3a70e4408946345fbda034078",
            "value": " 472/472 [00:00&lt;00:00, 13.9kB/s]"
          }
        },
        "78640c22f7284e24bdad0229217b1c58": {
          "model_module": "@jupyter-widgets/base",
          "model_name": "LayoutModel",
          "model_module_version": "1.2.0",
          "state": {
            "_model_module": "@jupyter-widgets/base",
            "_model_module_version": "1.2.0",
            "_model_name": "LayoutModel",
            "_view_count": null,
            "_view_module": "@jupyter-widgets/base",
            "_view_module_version": "1.2.0",
            "_view_name": "LayoutView",
            "align_content": null,
            "align_items": null,
            "align_self": null,
            "border": null,
            "bottom": null,
            "display": null,
            "flex": null,
            "flex_flow": null,
            "grid_area": null,
            "grid_auto_columns": null,
            "grid_auto_flow": null,
            "grid_auto_rows": null,
            "grid_column": null,
            "grid_gap": null,
            "grid_row": null,
            "grid_template_areas": null,
            "grid_template_columns": null,
            "grid_template_rows": null,
            "height": null,
            "justify_content": null,
            "justify_items": null,
            "left": null,
            "margin": null,
            "max_height": null,
            "max_width": null,
            "min_height": null,
            "min_width": null,
            "object_fit": null,
            "object_position": null,
            "order": null,
            "overflow": null,
            "overflow_x": null,
            "overflow_y": null,
            "padding": null,
            "right": null,
            "top": null,
            "visibility": null,
            "width": null
          }
        },
        "09f45eee71384802bb1eb35f9b78f13a": {
          "model_module": "@jupyter-widgets/base",
          "model_name": "LayoutModel",
          "model_module_version": "1.2.0",
          "state": {
            "_model_module": "@jupyter-widgets/base",
            "_model_module_version": "1.2.0",
            "_model_name": "LayoutModel",
            "_view_count": null,
            "_view_module": "@jupyter-widgets/base",
            "_view_module_version": "1.2.0",
            "_view_name": "LayoutView",
            "align_content": null,
            "align_items": null,
            "align_self": null,
            "border": null,
            "bottom": null,
            "display": null,
            "flex": null,
            "flex_flow": null,
            "grid_area": null,
            "grid_auto_columns": null,
            "grid_auto_flow": null,
            "grid_auto_rows": null,
            "grid_column": null,
            "grid_gap": null,
            "grid_row": null,
            "grid_template_areas": null,
            "grid_template_columns": null,
            "grid_template_rows": null,
            "height": null,
            "justify_content": null,
            "justify_items": null,
            "left": null,
            "margin": null,
            "max_height": null,
            "max_width": null,
            "min_height": null,
            "min_width": null,
            "object_fit": null,
            "object_position": null,
            "order": null,
            "overflow": null,
            "overflow_x": null,
            "overflow_y": null,
            "padding": null,
            "right": null,
            "top": null,
            "visibility": null,
            "width": null
          }
        },
        "e1047a1e1f8e41cfb5be8937146c4c32": {
          "model_module": "@jupyter-widgets/controls",
          "model_name": "DescriptionStyleModel",
          "model_module_version": "1.5.0",
          "state": {
            "_model_module": "@jupyter-widgets/controls",
            "_model_module_version": "1.5.0",
            "_model_name": "DescriptionStyleModel",
            "_view_count": null,
            "_view_module": "@jupyter-widgets/base",
            "_view_module_version": "1.2.0",
            "_view_name": "StyleView",
            "description_width": ""
          }
        },
        "726584bc4d984cbca65abcaf55d0116f": {
          "model_module": "@jupyter-widgets/base",
          "model_name": "LayoutModel",
          "model_module_version": "1.2.0",
          "state": {
            "_model_module": "@jupyter-widgets/base",
            "_model_module_version": "1.2.0",
            "_model_name": "LayoutModel",
            "_view_count": null,
            "_view_module": "@jupyter-widgets/base",
            "_view_module_version": "1.2.0",
            "_view_name": "LayoutView",
            "align_content": null,
            "align_items": null,
            "align_self": null,
            "border": null,
            "bottom": null,
            "display": null,
            "flex": null,
            "flex_flow": null,
            "grid_area": null,
            "grid_auto_columns": null,
            "grid_auto_flow": null,
            "grid_auto_rows": null,
            "grid_column": null,
            "grid_gap": null,
            "grid_row": null,
            "grid_template_areas": null,
            "grid_template_columns": null,
            "grid_template_rows": null,
            "height": null,
            "justify_content": null,
            "justify_items": null,
            "left": null,
            "margin": null,
            "max_height": null,
            "max_width": null,
            "min_height": null,
            "min_width": null,
            "object_fit": null,
            "object_position": null,
            "order": null,
            "overflow": null,
            "overflow_x": null,
            "overflow_y": null,
            "padding": null,
            "right": null,
            "top": null,
            "visibility": null,
            "width": null
          }
        },
        "2be88491e81c4f7887e926bbf48d18e1": {
          "model_module": "@jupyter-widgets/controls",
          "model_name": "ProgressStyleModel",
          "model_module_version": "1.5.0",
          "state": {
            "_model_module": "@jupyter-widgets/controls",
            "_model_module_version": "1.5.0",
            "_model_name": "ProgressStyleModel",
            "_view_count": null,
            "_view_module": "@jupyter-widgets/base",
            "_view_module_version": "1.2.0",
            "_view_name": "StyleView",
            "bar_color": null,
            "description_width": ""
          }
        },
        "7f6f36fba53a4d55a8f31beef651aeb5": {
          "model_module": "@jupyter-widgets/base",
          "model_name": "LayoutModel",
          "model_module_version": "1.2.0",
          "state": {
            "_model_module": "@jupyter-widgets/base",
            "_model_module_version": "1.2.0",
            "_model_name": "LayoutModel",
            "_view_count": null,
            "_view_module": "@jupyter-widgets/base",
            "_view_module_version": "1.2.0",
            "_view_name": "LayoutView",
            "align_content": null,
            "align_items": null,
            "align_self": null,
            "border": null,
            "bottom": null,
            "display": null,
            "flex": null,
            "flex_flow": null,
            "grid_area": null,
            "grid_auto_columns": null,
            "grid_auto_flow": null,
            "grid_auto_rows": null,
            "grid_column": null,
            "grid_gap": null,
            "grid_row": null,
            "grid_template_areas": null,
            "grid_template_columns": null,
            "grid_template_rows": null,
            "height": null,
            "justify_content": null,
            "justify_items": null,
            "left": null,
            "margin": null,
            "max_height": null,
            "max_width": null,
            "min_height": null,
            "min_width": null,
            "object_fit": null,
            "object_position": null,
            "order": null,
            "overflow": null,
            "overflow_x": null,
            "overflow_y": null,
            "padding": null,
            "right": null,
            "top": null,
            "visibility": null,
            "width": null
          }
        },
        "601835f3a70e4408946345fbda034078": {
          "model_module": "@jupyter-widgets/controls",
          "model_name": "DescriptionStyleModel",
          "model_module_version": "1.5.0",
          "state": {
            "_model_module": "@jupyter-widgets/controls",
            "_model_module_version": "1.5.0",
            "_model_name": "DescriptionStyleModel",
            "_view_count": null,
            "_view_module": "@jupyter-widgets/base",
            "_view_module_version": "1.2.0",
            "_view_name": "StyleView",
            "description_width": ""
          }
        },
        "cbb34c6e130b4b068bcae93fc5f5f9c1": {
          "model_module": "@jupyter-widgets/controls",
          "model_name": "HBoxModel",
          "model_module_version": "1.5.0",
          "state": {
            "_dom_classes": [],
            "_model_module": "@jupyter-widgets/controls",
            "_model_module_version": "1.5.0",
            "_model_name": "HBoxModel",
            "_view_count": null,
            "_view_module": "@jupyter-widgets/controls",
            "_view_module_version": "1.5.0",
            "_view_name": "HBoxView",
            "box_style": "",
            "children": [
              "IPY_MODEL_afbb2c9d5af1459896d449416e03f2dc",
              "IPY_MODEL_ec8a9b773de9459c9c8ed0c89f8ea035",
              "IPY_MODEL_8389bf1ff117425498077a93e159f4c6"
            ],
            "layout": "IPY_MODEL_47f0184034de42beadbe19308514d56c"
          }
        },
        "afbb2c9d5af1459896d449416e03f2dc": {
          "model_module": "@jupyter-widgets/controls",
          "model_name": "HTMLModel",
          "model_module_version": "1.5.0",
          "state": {
            "_dom_classes": [],
            "_model_module": "@jupyter-widgets/controls",
            "_model_module_version": "1.5.0",
            "_model_name": "HTMLModel",
            "_view_count": null,
            "_view_module": "@jupyter-widgets/controls",
            "_view_module_version": "1.5.0",
            "_view_name": "HTMLView",
            "description": "",
            "description_tooltip": null,
            "layout": "IPY_MODEL_ebda2caed0bc43b6b28ab5172d5f16ca",
            "placeholder": "​",
            "style": "IPY_MODEL_cf6238638bc542fe8eac63ce9f8e10ee",
            "value": "merges.txt: "
          }
        },
        "ec8a9b773de9459c9c8ed0c89f8ea035": {
          "model_module": "@jupyter-widgets/controls",
          "model_name": "FloatProgressModel",
          "model_module_version": "1.5.0",
          "state": {
            "_dom_classes": [],
            "_model_module": "@jupyter-widgets/controls",
            "_model_module_version": "1.5.0",
            "_model_name": "FloatProgressModel",
            "_view_count": null,
            "_view_module": "@jupyter-widgets/controls",
            "_view_module_version": "1.5.0",
            "_view_name": "ProgressView",
            "bar_style": "success",
            "description": "",
            "description_tooltip": null,
            "layout": "IPY_MODEL_c2d03c61dce14208a6a78f2fdb010171",
            "max": 1,
            "min": 0,
            "orientation": "horizontal",
            "style": "IPY_MODEL_ce5b6ee7523d4cf7bda35a6ecb34fadf",
            "value": 1
          }
        },
        "8389bf1ff117425498077a93e159f4c6": {
          "model_module": "@jupyter-widgets/controls",
          "model_name": "HTMLModel",
          "model_module_version": "1.5.0",
          "state": {
            "_dom_classes": [],
            "_model_module": "@jupyter-widgets/controls",
            "_model_module_version": "1.5.0",
            "_model_name": "HTMLModel",
            "_view_count": null,
            "_view_module": "@jupyter-widgets/controls",
            "_view_module_version": "1.5.0",
            "_view_name": "HTMLView",
            "description": "",
            "description_tooltip": null,
            "layout": "IPY_MODEL_cb81027932934d2b98117ad20b379f13",
            "placeholder": "​",
            "style": "IPY_MODEL_0b0518bd9fb34f70a7adc2e59a1998e7",
            "value": " 525k/? [00:00&lt;00:00, 4.92MB/s]"
          }
        },
        "47f0184034de42beadbe19308514d56c": {
          "model_module": "@jupyter-widgets/base",
          "model_name": "LayoutModel",
          "model_module_version": "1.2.0",
          "state": {
            "_model_module": "@jupyter-widgets/base",
            "_model_module_version": "1.2.0",
            "_model_name": "LayoutModel",
            "_view_count": null,
            "_view_module": "@jupyter-widgets/base",
            "_view_module_version": "1.2.0",
            "_view_name": "LayoutView",
            "align_content": null,
            "align_items": null,
            "align_self": null,
            "border": null,
            "bottom": null,
            "display": null,
            "flex": null,
            "flex_flow": null,
            "grid_area": null,
            "grid_auto_columns": null,
            "grid_auto_flow": null,
            "grid_auto_rows": null,
            "grid_column": null,
            "grid_gap": null,
            "grid_row": null,
            "grid_template_areas": null,
            "grid_template_columns": null,
            "grid_template_rows": null,
            "height": null,
            "justify_content": null,
            "justify_items": null,
            "left": null,
            "margin": null,
            "max_height": null,
            "max_width": null,
            "min_height": null,
            "min_width": null,
            "object_fit": null,
            "object_position": null,
            "order": null,
            "overflow": null,
            "overflow_x": null,
            "overflow_y": null,
            "padding": null,
            "right": null,
            "top": null,
            "visibility": null,
            "width": null
          }
        },
        "ebda2caed0bc43b6b28ab5172d5f16ca": {
          "model_module": "@jupyter-widgets/base",
          "model_name": "LayoutModel",
          "model_module_version": "1.2.0",
          "state": {
            "_model_module": "@jupyter-widgets/base",
            "_model_module_version": "1.2.0",
            "_model_name": "LayoutModel",
            "_view_count": null,
            "_view_module": "@jupyter-widgets/base",
            "_view_module_version": "1.2.0",
            "_view_name": "LayoutView",
            "align_content": null,
            "align_items": null,
            "align_self": null,
            "border": null,
            "bottom": null,
            "display": null,
            "flex": null,
            "flex_flow": null,
            "grid_area": null,
            "grid_auto_columns": null,
            "grid_auto_flow": null,
            "grid_auto_rows": null,
            "grid_column": null,
            "grid_gap": null,
            "grid_row": null,
            "grid_template_areas": null,
            "grid_template_columns": null,
            "grid_template_rows": null,
            "height": null,
            "justify_content": null,
            "justify_items": null,
            "left": null,
            "margin": null,
            "max_height": null,
            "max_width": null,
            "min_height": null,
            "min_width": null,
            "object_fit": null,
            "object_position": null,
            "order": null,
            "overflow": null,
            "overflow_x": null,
            "overflow_y": null,
            "padding": null,
            "right": null,
            "top": null,
            "visibility": null,
            "width": null
          }
        },
        "cf6238638bc542fe8eac63ce9f8e10ee": {
          "model_module": "@jupyter-widgets/controls",
          "model_name": "DescriptionStyleModel",
          "model_module_version": "1.5.0",
          "state": {
            "_model_module": "@jupyter-widgets/controls",
            "_model_module_version": "1.5.0",
            "_model_name": "DescriptionStyleModel",
            "_view_count": null,
            "_view_module": "@jupyter-widgets/base",
            "_view_module_version": "1.2.0",
            "_view_name": "StyleView",
            "description_width": ""
          }
        },
        "c2d03c61dce14208a6a78f2fdb010171": {
          "model_module": "@jupyter-widgets/base",
          "model_name": "LayoutModel",
          "model_module_version": "1.2.0",
          "state": {
            "_model_module": "@jupyter-widgets/base",
            "_model_module_version": "1.2.0",
            "_model_name": "LayoutModel",
            "_view_count": null,
            "_view_module": "@jupyter-widgets/base",
            "_view_module_version": "1.2.0",
            "_view_name": "LayoutView",
            "align_content": null,
            "align_items": null,
            "align_self": null,
            "border": null,
            "bottom": null,
            "display": null,
            "flex": null,
            "flex_flow": null,
            "grid_area": null,
            "grid_auto_columns": null,
            "grid_auto_flow": null,
            "grid_auto_rows": null,
            "grid_column": null,
            "grid_gap": null,
            "grid_row": null,
            "grid_template_areas": null,
            "grid_template_columns": null,
            "grid_template_rows": null,
            "height": null,
            "justify_content": null,
            "justify_items": null,
            "left": null,
            "margin": null,
            "max_height": null,
            "max_width": null,
            "min_height": null,
            "min_width": null,
            "object_fit": null,
            "object_position": null,
            "order": null,
            "overflow": null,
            "overflow_x": null,
            "overflow_y": null,
            "padding": null,
            "right": null,
            "top": null,
            "visibility": null,
            "width": "20px"
          }
        },
        "ce5b6ee7523d4cf7bda35a6ecb34fadf": {
          "model_module": "@jupyter-widgets/controls",
          "model_name": "ProgressStyleModel",
          "model_module_version": "1.5.0",
          "state": {
            "_model_module": "@jupyter-widgets/controls",
            "_model_module_version": "1.5.0",
            "_model_name": "ProgressStyleModel",
            "_view_count": null,
            "_view_module": "@jupyter-widgets/base",
            "_view_module_version": "1.2.0",
            "_view_name": "StyleView",
            "bar_color": null,
            "description_width": ""
          }
        },
        "cb81027932934d2b98117ad20b379f13": {
          "model_module": "@jupyter-widgets/base",
          "model_name": "LayoutModel",
          "model_module_version": "1.2.0",
          "state": {
            "_model_module": "@jupyter-widgets/base",
            "_model_module_version": "1.2.0",
            "_model_name": "LayoutModel",
            "_view_count": null,
            "_view_module": "@jupyter-widgets/base",
            "_view_module_version": "1.2.0",
            "_view_name": "LayoutView",
            "align_content": null,
            "align_items": null,
            "align_self": null,
            "border": null,
            "bottom": null,
            "display": null,
            "flex": null,
            "flex_flow": null,
            "grid_area": null,
            "grid_auto_columns": null,
            "grid_auto_flow": null,
            "grid_auto_rows": null,
            "grid_column": null,
            "grid_gap": null,
            "grid_row": null,
            "grid_template_areas": null,
            "grid_template_columns": null,
            "grid_template_rows": null,
            "height": null,
            "justify_content": null,
            "justify_items": null,
            "left": null,
            "margin": null,
            "max_height": null,
            "max_width": null,
            "min_height": null,
            "min_width": null,
            "object_fit": null,
            "object_position": null,
            "order": null,
            "overflow": null,
            "overflow_x": null,
            "overflow_y": null,
            "padding": null,
            "right": null,
            "top": null,
            "visibility": null,
            "width": null
          }
        },
        "0b0518bd9fb34f70a7adc2e59a1998e7": {
          "model_module": "@jupyter-widgets/controls",
          "model_name": "DescriptionStyleModel",
          "model_module_version": "1.5.0",
          "state": {
            "_model_module": "@jupyter-widgets/controls",
            "_model_module_version": "1.5.0",
            "_model_name": "DescriptionStyleModel",
            "_view_count": null,
            "_view_module": "@jupyter-widgets/base",
            "_view_module_version": "1.2.0",
            "_view_name": "StyleView",
            "description_width": ""
          }
        },
        "9999c39e1f844acf95ffb8b7a7702094": {
          "model_module": "@jupyter-widgets/controls",
          "model_name": "HBoxModel",
          "model_module_version": "1.5.0",
          "state": {
            "_dom_classes": [],
            "_model_module": "@jupyter-widgets/controls",
            "_model_module_version": "1.5.0",
            "_model_name": "HBoxModel",
            "_view_count": null,
            "_view_module": "@jupyter-widgets/controls",
            "_view_module_version": "1.5.0",
            "_view_name": "HBoxView",
            "box_style": "",
            "children": [
              "IPY_MODEL_8707fc557ccc4bd188398b0a89329aa4",
              "IPY_MODEL_272a0ca2fa9a4eb09337baac9810a66d",
              "IPY_MODEL_7bebcb75b2a4452889d5b32cfabb6eee"
            ],
            "layout": "IPY_MODEL_a5f8e1cc7c614800b62082a8bf52837c"
          }
        },
        "8707fc557ccc4bd188398b0a89329aa4": {
          "model_module": "@jupyter-widgets/controls",
          "model_name": "HTMLModel",
          "model_module_version": "1.5.0",
          "state": {
            "_dom_classes": [],
            "_model_module": "@jupyter-widgets/controls",
            "_model_module_version": "1.5.0",
            "_model_name": "HTMLModel",
            "_view_count": null,
            "_view_module": "@jupyter-widgets/controls",
            "_view_module_version": "1.5.0",
            "_view_name": "HTMLView",
            "description": "",
            "description_tooltip": null,
            "layout": "IPY_MODEL_4b46740051654e13a439fabaed45aa86",
            "placeholder": "​",
            "style": "IPY_MODEL_b4a7e7c3db644aaab656edb853992f12",
            "value": "scheduler_config.json: 100%"
          }
        },
        "272a0ca2fa9a4eb09337baac9810a66d": {
          "model_module": "@jupyter-widgets/controls",
          "model_name": "FloatProgressModel",
          "model_module_version": "1.5.0",
          "state": {
            "_dom_classes": [],
            "_model_module": "@jupyter-widgets/controls",
            "_model_module_version": "1.5.0",
            "_model_name": "FloatProgressModel",
            "_view_count": null,
            "_view_module": "@jupyter-widgets/controls",
            "_view_module_version": "1.5.0",
            "_view_name": "ProgressView",
            "bar_style": "success",
            "description": "",
            "description_tooltip": null,
            "layout": "IPY_MODEL_0dd5bd0bb79b410d8b67206a1ec334b8",
            "max": 308,
            "min": 0,
            "orientation": "horizontal",
            "style": "IPY_MODEL_5f90ecbbb50e469099055fd8c3b8e6b9",
            "value": 308
          }
        },
        "7bebcb75b2a4452889d5b32cfabb6eee": {
          "model_module": "@jupyter-widgets/controls",
          "model_name": "HTMLModel",
          "model_module_version": "1.5.0",
          "state": {
            "_dom_classes": [],
            "_model_module": "@jupyter-widgets/controls",
            "_model_module_version": "1.5.0",
            "_model_name": "HTMLModel",
            "_view_count": null,
            "_view_module": "@jupyter-widgets/controls",
            "_view_module_version": "1.5.0",
            "_view_name": "HTMLView",
            "description": "",
            "description_tooltip": null,
            "layout": "IPY_MODEL_4b4b78b562ba47d987a79ec995554cf8",
            "placeholder": "​",
            "style": "IPY_MODEL_31a1e22927d144ab90f1d7351d5b03c9",
            "value": " 308/308 [00:00&lt;00:00, 6.33kB/s]"
          }
        },
        "a5f8e1cc7c614800b62082a8bf52837c": {
          "model_module": "@jupyter-widgets/base",
          "model_name": "LayoutModel",
          "model_module_version": "1.2.0",
          "state": {
            "_model_module": "@jupyter-widgets/base",
            "_model_module_version": "1.2.0",
            "_model_name": "LayoutModel",
            "_view_count": null,
            "_view_module": "@jupyter-widgets/base",
            "_view_module_version": "1.2.0",
            "_view_name": "LayoutView",
            "align_content": null,
            "align_items": null,
            "align_self": null,
            "border": null,
            "bottom": null,
            "display": null,
            "flex": null,
            "flex_flow": null,
            "grid_area": null,
            "grid_auto_columns": null,
            "grid_auto_flow": null,
            "grid_auto_rows": null,
            "grid_column": null,
            "grid_gap": null,
            "grid_row": null,
            "grid_template_areas": null,
            "grid_template_columns": null,
            "grid_template_rows": null,
            "height": null,
            "justify_content": null,
            "justify_items": null,
            "left": null,
            "margin": null,
            "max_height": null,
            "max_width": null,
            "min_height": null,
            "min_width": null,
            "object_fit": null,
            "object_position": null,
            "order": null,
            "overflow": null,
            "overflow_x": null,
            "overflow_y": null,
            "padding": null,
            "right": null,
            "top": null,
            "visibility": null,
            "width": null
          }
        },
        "4b46740051654e13a439fabaed45aa86": {
          "model_module": "@jupyter-widgets/base",
          "model_name": "LayoutModel",
          "model_module_version": "1.2.0",
          "state": {
            "_model_module": "@jupyter-widgets/base",
            "_model_module_version": "1.2.0",
            "_model_name": "LayoutModel",
            "_view_count": null,
            "_view_module": "@jupyter-widgets/base",
            "_view_module_version": "1.2.0",
            "_view_name": "LayoutView",
            "align_content": null,
            "align_items": null,
            "align_self": null,
            "border": null,
            "bottom": null,
            "display": null,
            "flex": null,
            "flex_flow": null,
            "grid_area": null,
            "grid_auto_columns": null,
            "grid_auto_flow": null,
            "grid_auto_rows": null,
            "grid_column": null,
            "grid_gap": null,
            "grid_row": null,
            "grid_template_areas": null,
            "grid_template_columns": null,
            "grid_template_rows": null,
            "height": null,
            "justify_content": null,
            "justify_items": null,
            "left": null,
            "margin": null,
            "max_height": null,
            "max_width": null,
            "min_height": null,
            "min_width": null,
            "object_fit": null,
            "object_position": null,
            "order": null,
            "overflow": null,
            "overflow_x": null,
            "overflow_y": null,
            "padding": null,
            "right": null,
            "top": null,
            "visibility": null,
            "width": null
          }
        },
        "b4a7e7c3db644aaab656edb853992f12": {
          "model_module": "@jupyter-widgets/controls",
          "model_name": "DescriptionStyleModel",
          "model_module_version": "1.5.0",
          "state": {
            "_model_module": "@jupyter-widgets/controls",
            "_model_module_version": "1.5.0",
            "_model_name": "DescriptionStyleModel",
            "_view_count": null,
            "_view_module": "@jupyter-widgets/base",
            "_view_module_version": "1.2.0",
            "_view_name": "StyleView",
            "description_width": ""
          }
        },
        "0dd5bd0bb79b410d8b67206a1ec334b8": {
          "model_module": "@jupyter-widgets/base",
          "model_name": "LayoutModel",
          "model_module_version": "1.2.0",
          "state": {
            "_model_module": "@jupyter-widgets/base",
            "_model_module_version": "1.2.0",
            "_model_name": "LayoutModel",
            "_view_count": null,
            "_view_module": "@jupyter-widgets/base",
            "_view_module_version": "1.2.0",
            "_view_name": "LayoutView",
            "align_content": null,
            "align_items": null,
            "align_self": null,
            "border": null,
            "bottom": null,
            "display": null,
            "flex": null,
            "flex_flow": null,
            "grid_area": null,
            "grid_auto_columns": null,
            "grid_auto_flow": null,
            "grid_auto_rows": null,
            "grid_column": null,
            "grid_gap": null,
            "grid_row": null,
            "grid_template_areas": null,
            "grid_template_columns": null,
            "grid_template_rows": null,
            "height": null,
            "justify_content": null,
            "justify_items": null,
            "left": null,
            "margin": null,
            "max_height": null,
            "max_width": null,
            "min_height": null,
            "min_width": null,
            "object_fit": null,
            "object_position": null,
            "order": null,
            "overflow": null,
            "overflow_x": null,
            "overflow_y": null,
            "padding": null,
            "right": null,
            "top": null,
            "visibility": null,
            "width": null
          }
        },
        "5f90ecbbb50e469099055fd8c3b8e6b9": {
          "model_module": "@jupyter-widgets/controls",
          "model_name": "ProgressStyleModel",
          "model_module_version": "1.5.0",
          "state": {
            "_model_module": "@jupyter-widgets/controls",
            "_model_module_version": "1.5.0",
            "_model_name": "ProgressStyleModel",
            "_view_count": null,
            "_view_module": "@jupyter-widgets/base",
            "_view_module_version": "1.2.0",
            "_view_name": "StyleView",
            "bar_color": null,
            "description_width": ""
          }
        },
        "4b4b78b562ba47d987a79ec995554cf8": {
          "model_module": "@jupyter-widgets/base",
          "model_name": "LayoutModel",
          "model_module_version": "1.2.0",
          "state": {
            "_model_module": "@jupyter-widgets/base",
            "_model_module_version": "1.2.0",
            "_model_name": "LayoutModel",
            "_view_count": null,
            "_view_module": "@jupyter-widgets/base",
            "_view_module_version": "1.2.0",
            "_view_name": "LayoutView",
            "align_content": null,
            "align_items": null,
            "align_self": null,
            "border": null,
            "bottom": null,
            "display": null,
            "flex": null,
            "flex_flow": null,
            "grid_area": null,
            "grid_auto_columns": null,
            "grid_auto_flow": null,
            "grid_auto_rows": null,
            "grid_column": null,
            "grid_gap": null,
            "grid_row": null,
            "grid_template_areas": null,
            "grid_template_columns": null,
            "grid_template_rows": null,
            "height": null,
            "justify_content": null,
            "justify_items": null,
            "left": null,
            "margin": null,
            "max_height": null,
            "max_width": null,
            "min_height": null,
            "min_width": null,
            "object_fit": null,
            "object_position": null,
            "order": null,
            "overflow": null,
            "overflow_x": null,
            "overflow_y": null,
            "padding": null,
            "right": null,
            "top": null,
            "visibility": null,
            "width": null
          }
        },
        "31a1e22927d144ab90f1d7351d5b03c9": {
          "model_module": "@jupyter-widgets/controls",
          "model_name": "DescriptionStyleModel",
          "model_module_version": "1.5.0",
          "state": {
            "_model_module": "@jupyter-widgets/controls",
            "_model_module_version": "1.5.0",
            "_model_name": "DescriptionStyleModel",
            "_view_count": null,
            "_view_module": "@jupyter-widgets/base",
            "_view_module_version": "1.2.0",
            "_view_name": "StyleView",
            "description_width": ""
          }
        },
        "cd4137c9bed640d491fd61ae39fe61c6": {
          "model_module": "@jupyter-widgets/controls",
          "model_name": "HBoxModel",
          "model_module_version": "1.5.0",
          "state": {
            "_dom_classes": [],
            "_model_module": "@jupyter-widgets/controls",
            "_model_module_version": "1.5.0",
            "_model_name": "HBoxModel",
            "_view_count": null,
            "_view_module": "@jupyter-widgets/controls",
            "_view_module_version": "1.5.0",
            "_view_name": "HBoxView",
            "box_style": "",
            "children": [
              "IPY_MODEL_016cef24ca7142cfb5bb790c3205a9c2",
              "IPY_MODEL_42787123b4454005940c0d2f6cbb0b99",
              "IPY_MODEL_6e9ca7a3fb2948fbbf7a032c988d6fc0"
            ],
            "layout": "IPY_MODEL_1da20c2ab3d84488a63056eb27b9d0fc"
          }
        },
        "016cef24ca7142cfb5bb790c3205a9c2": {
          "model_module": "@jupyter-widgets/controls",
          "model_name": "HTMLModel",
          "model_module_version": "1.5.0",
          "state": {
            "_dom_classes": [],
            "_model_module": "@jupyter-widgets/controls",
            "_model_module_version": "1.5.0",
            "_model_name": "HTMLModel",
            "_view_count": null,
            "_view_module": "@jupyter-widgets/controls",
            "_view_module_version": "1.5.0",
            "_view_name": "HTMLView",
            "description": "",
            "description_tooltip": null,
            "layout": "IPY_MODEL_46fef3ecf99f496c9ac1fa274dd87ba6",
            "placeholder": "​",
            "style": "IPY_MODEL_56fccb49a0de4ca1b48c73327a5d3da3",
            "value": "safety_checker/model.safetensors: 100%"
          }
        },
        "42787123b4454005940c0d2f6cbb0b99": {
          "model_module": "@jupyter-widgets/controls",
          "model_name": "FloatProgressModel",
          "model_module_version": "1.5.0",
          "state": {
            "_dom_classes": [],
            "_model_module": "@jupyter-widgets/controls",
            "_model_module_version": "1.5.0",
            "_model_name": "FloatProgressModel",
            "_view_count": null,
            "_view_module": "@jupyter-widgets/controls",
            "_view_module_version": "1.5.0",
            "_view_name": "ProgressView",
            "bar_style": "success",
            "description": "",
            "description_tooltip": null,
            "layout": "IPY_MODEL_a3cc69cfeb43413b81d993f09fb9e468",
            "max": 1215981830,
            "min": 0,
            "orientation": "horizontal",
            "style": "IPY_MODEL_d24b11d76a9349778e762fc6d7e78435",
            "value": 1215981830
          }
        },
        "6e9ca7a3fb2948fbbf7a032c988d6fc0": {
          "model_module": "@jupyter-widgets/controls",
          "model_name": "HTMLModel",
          "model_module_version": "1.5.0",
          "state": {
            "_dom_classes": [],
            "_model_module": "@jupyter-widgets/controls",
            "_model_module_version": "1.5.0",
            "_model_name": "HTMLModel",
            "_view_count": null,
            "_view_module": "@jupyter-widgets/controls",
            "_view_module_version": "1.5.0",
            "_view_name": "HTMLView",
            "description": "",
            "description_tooltip": null,
            "layout": "IPY_MODEL_0da1bee47b994074a41ab429092a2203",
            "placeholder": "​",
            "style": "IPY_MODEL_cc628629814e497494f4a447f6e3a256",
            "value": " 1.22G/1.22G [00:22&lt;00:00, 22.6MB/s]"
          }
        },
        "1da20c2ab3d84488a63056eb27b9d0fc": {
          "model_module": "@jupyter-widgets/base",
          "model_name": "LayoutModel",
          "model_module_version": "1.2.0",
          "state": {
            "_model_module": "@jupyter-widgets/base",
            "_model_module_version": "1.2.0",
            "_model_name": "LayoutModel",
            "_view_count": null,
            "_view_module": "@jupyter-widgets/base",
            "_view_module_version": "1.2.0",
            "_view_name": "LayoutView",
            "align_content": null,
            "align_items": null,
            "align_self": null,
            "border": null,
            "bottom": null,
            "display": null,
            "flex": null,
            "flex_flow": null,
            "grid_area": null,
            "grid_auto_columns": null,
            "grid_auto_flow": null,
            "grid_auto_rows": null,
            "grid_column": null,
            "grid_gap": null,
            "grid_row": null,
            "grid_template_areas": null,
            "grid_template_columns": null,
            "grid_template_rows": null,
            "height": null,
            "justify_content": null,
            "justify_items": null,
            "left": null,
            "margin": null,
            "max_height": null,
            "max_width": null,
            "min_height": null,
            "min_width": null,
            "object_fit": null,
            "object_position": null,
            "order": null,
            "overflow": null,
            "overflow_x": null,
            "overflow_y": null,
            "padding": null,
            "right": null,
            "top": null,
            "visibility": null,
            "width": null
          }
        },
        "46fef3ecf99f496c9ac1fa274dd87ba6": {
          "model_module": "@jupyter-widgets/base",
          "model_name": "LayoutModel",
          "model_module_version": "1.2.0",
          "state": {
            "_model_module": "@jupyter-widgets/base",
            "_model_module_version": "1.2.0",
            "_model_name": "LayoutModel",
            "_view_count": null,
            "_view_module": "@jupyter-widgets/base",
            "_view_module_version": "1.2.0",
            "_view_name": "LayoutView",
            "align_content": null,
            "align_items": null,
            "align_self": null,
            "border": null,
            "bottom": null,
            "display": null,
            "flex": null,
            "flex_flow": null,
            "grid_area": null,
            "grid_auto_columns": null,
            "grid_auto_flow": null,
            "grid_auto_rows": null,
            "grid_column": null,
            "grid_gap": null,
            "grid_row": null,
            "grid_template_areas": null,
            "grid_template_columns": null,
            "grid_template_rows": null,
            "height": null,
            "justify_content": null,
            "justify_items": null,
            "left": null,
            "margin": null,
            "max_height": null,
            "max_width": null,
            "min_height": null,
            "min_width": null,
            "object_fit": null,
            "object_position": null,
            "order": null,
            "overflow": null,
            "overflow_x": null,
            "overflow_y": null,
            "padding": null,
            "right": null,
            "top": null,
            "visibility": null,
            "width": null
          }
        },
        "56fccb49a0de4ca1b48c73327a5d3da3": {
          "model_module": "@jupyter-widgets/controls",
          "model_name": "DescriptionStyleModel",
          "model_module_version": "1.5.0",
          "state": {
            "_model_module": "@jupyter-widgets/controls",
            "_model_module_version": "1.5.0",
            "_model_name": "DescriptionStyleModel",
            "_view_count": null,
            "_view_module": "@jupyter-widgets/base",
            "_view_module_version": "1.2.0",
            "_view_name": "StyleView",
            "description_width": ""
          }
        },
        "a3cc69cfeb43413b81d993f09fb9e468": {
          "model_module": "@jupyter-widgets/base",
          "model_name": "LayoutModel",
          "model_module_version": "1.2.0",
          "state": {
            "_model_module": "@jupyter-widgets/base",
            "_model_module_version": "1.2.0",
            "_model_name": "LayoutModel",
            "_view_count": null,
            "_view_module": "@jupyter-widgets/base",
            "_view_module_version": "1.2.0",
            "_view_name": "LayoutView",
            "align_content": null,
            "align_items": null,
            "align_self": null,
            "border": null,
            "bottom": null,
            "display": null,
            "flex": null,
            "flex_flow": null,
            "grid_area": null,
            "grid_auto_columns": null,
            "grid_auto_flow": null,
            "grid_auto_rows": null,
            "grid_column": null,
            "grid_gap": null,
            "grid_row": null,
            "grid_template_areas": null,
            "grid_template_columns": null,
            "grid_template_rows": null,
            "height": null,
            "justify_content": null,
            "justify_items": null,
            "left": null,
            "margin": null,
            "max_height": null,
            "max_width": null,
            "min_height": null,
            "min_width": null,
            "object_fit": null,
            "object_position": null,
            "order": null,
            "overflow": null,
            "overflow_x": null,
            "overflow_y": null,
            "padding": null,
            "right": null,
            "top": null,
            "visibility": null,
            "width": null
          }
        },
        "d24b11d76a9349778e762fc6d7e78435": {
          "model_module": "@jupyter-widgets/controls",
          "model_name": "ProgressStyleModel",
          "model_module_version": "1.5.0",
          "state": {
            "_model_module": "@jupyter-widgets/controls",
            "_model_module_version": "1.5.0",
            "_model_name": "ProgressStyleModel",
            "_view_count": null,
            "_view_module": "@jupyter-widgets/base",
            "_view_module_version": "1.2.0",
            "_view_name": "StyleView",
            "bar_color": null,
            "description_width": ""
          }
        },
        "0da1bee47b994074a41ab429092a2203": {
          "model_module": "@jupyter-widgets/base",
          "model_name": "LayoutModel",
          "model_module_version": "1.2.0",
          "state": {
            "_model_module": "@jupyter-widgets/base",
            "_model_module_version": "1.2.0",
            "_model_name": "LayoutModel",
            "_view_count": null,
            "_view_module": "@jupyter-widgets/base",
            "_view_module_version": "1.2.0",
            "_view_name": "LayoutView",
            "align_content": null,
            "align_items": null,
            "align_self": null,
            "border": null,
            "bottom": null,
            "display": null,
            "flex": null,
            "flex_flow": null,
            "grid_area": null,
            "grid_auto_columns": null,
            "grid_auto_flow": null,
            "grid_auto_rows": null,
            "grid_column": null,
            "grid_gap": null,
            "grid_row": null,
            "grid_template_areas": null,
            "grid_template_columns": null,
            "grid_template_rows": null,
            "height": null,
            "justify_content": null,
            "justify_items": null,
            "left": null,
            "margin": null,
            "max_height": null,
            "max_width": null,
            "min_height": null,
            "min_width": null,
            "object_fit": null,
            "object_position": null,
            "order": null,
            "overflow": null,
            "overflow_x": null,
            "overflow_y": null,
            "padding": null,
            "right": null,
            "top": null,
            "visibility": null,
            "width": null
          }
        },
        "cc628629814e497494f4a447f6e3a256": {
          "model_module": "@jupyter-widgets/controls",
          "model_name": "DescriptionStyleModel",
          "model_module_version": "1.5.0",
          "state": {
            "_model_module": "@jupyter-widgets/controls",
            "_model_module_version": "1.5.0",
            "_model_name": "DescriptionStyleModel",
            "_view_count": null,
            "_view_module": "@jupyter-widgets/base",
            "_view_module_version": "1.2.0",
            "_view_name": "StyleView",
            "description_width": ""
          }
        },
        "6f4676dea03940fdbd8d6b08458cdc2f": {
          "model_module": "@jupyter-widgets/controls",
          "model_name": "HBoxModel",
          "model_module_version": "1.5.0",
          "state": {
            "_dom_classes": [],
            "_model_module": "@jupyter-widgets/controls",
            "_model_module_version": "1.5.0",
            "_model_name": "HBoxModel",
            "_view_count": null,
            "_view_module": "@jupyter-widgets/controls",
            "_view_module_version": "1.5.0",
            "_view_name": "HBoxView",
            "box_style": "",
            "children": [
              "IPY_MODEL_82f33913f53e4ac1b3599ce7dded319a",
              "IPY_MODEL_516081bd88d349a8a4689c291111e65f",
              "IPY_MODEL_6c14eccc6fc041d59c8d38028209f691"
            ],
            "layout": "IPY_MODEL_d83e7fd679924256b8f7d26014e4322c"
          }
        },
        "82f33913f53e4ac1b3599ce7dded319a": {
          "model_module": "@jupyter-widgets/controls",
          "model_name": "HTMLModel",
          "model_module_version": "1.5.0",
          "state": {
            "_dom_classes": [],
            "_model_module": "@jupyter-widgets/controls",
            "_model_module_version": "1.5.0",
            "_model_name": "HTMLModel",
            "_view_count": null,
            "_view_module": "@jupyter-widgets/controls",
            "_view_module_version": "1.5.0",
            "_view_name": "HTMLView",
            "description": "",
            "description_tooltip": null,
            "layout": "IPY_MODEL_6fdf37fbf9a44fa3b85f76c3d393cd9e",
            "placeholder": "​",
            "style": "IPY_MODEL_7fc21cd6088f4187bc151cca7607ab3d",
            "value": "config.json: 100%"
          }
        },
        "516081bd88d349a8a4689c291111e65f": {
          "model_module": "@jupyter-widgets/controls",
          "model_name": "FloatProgressModel",
          "model_module_version": "1.5.0",
          "state": {
            "_dom_classes": [],
            "_model_module": "@jupyter-widgets/controls",
            "_model_module_version": "1.5.0",
            "_model_name": "FloatProgressModel",
            "_view_count": null,
            "_view_module": "@jupyter-widgets/controls",
            "_view_module_version": "1.5.0",
            "_view_name": "ProgressView",
            "bar_style": "success",
            "description": "",
            "description_tooltip": null,
            "layout": "IPY_MODEL_fb81ca7dff4a40738d1dcc0dfd8a275f",
            "max": 617,
            "min": 0,
            "orientation": "horizontal",
            "style": "IPY_MODEL_6104c54652604ba1b00b10dab2f3c48f",
            "value": 617
          }
        },
        "6c14eccc6fc041d59c8d38028209f691": {
          "model_module": "@jupyter-widgets/controls",
          "model_name": "HTMLModel",
          "model_module_version": "1.5.0",
          "state": {
            "_dom_classes": [],
            "_model_module": "@jupyter-widgets/controls",
            "_model_module_version": "1.5.0",
            "_model_name": "HTMLModel",
            "_view_count": null,
            "_view_module": "@jupyter-widgets/controls",
            "_view_module_version": "1.5.0",
            "_view_name": "HTMLView",
            "description": "",
            "description_tooltip": null,
            "layout": "IPY_MODEL_0c917aaa76f64b60af2e51c57123d0f0",
            "placeholder": "​",
            "style": "IPY_MODEL_776449fec84d43f28c8df02262fa41c9",
            "value": " 617/617 [00:00&lt;00:00, 24.7kB/s]"
          }
        },
        "d83e7fd679924256b8f7d26014e4322c": {
          "model_module": "@jupyter-widgets/base",
          "model_name": "LayoutModel",
          "model_module_version": "1.2.0",
          "state": {
            "_model_module": "@jupyter-widgets/base",
            "_model_module_version": "1.2.0",
            "_model_name": "LayoutModel",
            "_view_count": null,
            "_view_module": "@jupyter-widgets/base",
            "_view_module_version": "1.2.0",
            "_view_name": "LayoutView",
            "align_content": null,
            "align_items": null,
            "align_self": null,
            "border": null,
            "bottom": null,
            "display": null,
            "flex": null,
            "flex_flow": null,
            "grid_area": null,
            "grid_auto_columns": null,
            "grid_auto_flow": null,
            "grid_auto_rows": null,
            "grid_column": null,
            "grid_gap": null,
            "grid_row": null,
            "grid_template_areas": null,
            "grid_template_columns": null,
            "grid_template_rows": null,
            "height": null,
            "justify_content": null,
            "justify_items": null,
            "left": null,
            "margin": null,
            "max_height": null,
            "max_width": null,
            "min_height": null,
            "min_width": null,
            "object_fit": null,
            "object_position": null,
            "order": null,
            "overflow": null,
            "overflow_x": null,
            "overflow_y": null,
            "padding": null,
            "right": null,
            "top": null,
            "visibility": null,
            "width": null
          }
        },
        "6fdf37fbf9a44fa3b85f76c3d393cd9e": {
          "model_module": "@jupyter-widgets/base",
          "model_name": "LayoutModel",
          "model_module_version": "1.2.0",
          "state": {
            "_model_module": "@jupyter-widgets/base",
            "_model_module_version": "1.2.0",
            "_model_name": "LayoutModel",
            "_view_count": null,
            "_view_module": "@jupyter-widgets/base",
            "_view_module_version": "1.2.0",
            "_view_name": "LayoutView",
            "align_content": null,
            "align_items": null,
            "align_self": null,
            "border": null,
            "bottom": null,
            "display": null,
            "flex": null,
            "flex_flow": null,
            "grid_area": null,
            "grid_auto_columns": null,
            "grid_auto_flow": null,
            "grid_auto_rows": null,
            "grid_column": null,
            "grid_gap": null,
            "grid_row": null,
            "grid_template_areas": null,
            "grid_template_columns": null,
            "grid_template_rows": null,
            "height": null,
            "justify_content": null,
            "justify_items": null,
            "left": null,
            "margin": null,
            "max_height": null,
            "max_width": null,
            "min_height": null,
            "min_width": null,
            "object_fit": null,
            "object_position": null,
            "order": null,
            "overflow": null,
            "overflow_x": null,
            "overflow_y": null,
            "padding": null,
            "right": null,
            "top": null,
            "visibility": null,
            "width": null
          }
        },
        "7fc21cd6088f4187bc151cca7607ab3d": {
          "model_module": "@jupyter-widgets/controls",
          "model_name": "DescriptionStyleModel",
          "model_module_version": "1.5.0",
          "state": {
            "_model_module": "@jupyter-widgets/controls",
            "_model_module_version": "1.5.0",
            "_model_name": "DescriptionStyleModel",
            "_view_count": null,
            "_view_module": "@jupyter-widgets/base",
            "_view_module_version": "1.2.0",
            "_view_name": "StyleView",
            "description_width": ""
          }
        },
        "fb81ca7dff4a40738d1dcc0dfd8a275f": {
          "model_module": "@jupyter-widgets/base",
          "model_name": "LayoutModel",
          "model_module_version": "1.2.0",
          "state": {
            "_model_module": "@jupyter-widgets/base",
            "_model_module_version": "1.2.0",
            "_model_name": "LayoutModel",
            "_view_count": null,
            "_view_module": "@jupyter-widgets/base",
            "_view_module_version": "1.2.0",
            "_view_name": "LayoutView",
            "align_content": null,
            "align_items": null,
            "align_self": null,
            "border": null,
            "bottom": null,
            "display": null,
            "flex": null,
            "flex_flow": null,
            "grid_area": null,
            "grid_auto_columns": null,
            "grid_auto_flow": null,
            "grid_auto_rows": null,
            "grid_column": null,
            "grid_gap": null,
            "grid_row": null,
            "grid_template_areas": null,
            "grid_template_columns": null,
            "grid_template_rows": null,
            "height": null,
            "justify_content": null,
            "justify_items": null,
            "left": null,
            "margin": null,
            "max_height": null,
            "max_width": null,
            "min_height": null,
            "min_width": null,
            "object_fit": null,
            "object_position": null,
            "order": null,
            "overflow": null,
            "overflow_x": null,
            "overflow_y": null,
            "padding": null,
            "right": null,
            "top": null,
            "visibility": null,
            "width": null
          }
        },
        "6104c54652604ba1b00b10dab2f3c48f": {
          "model_module": "@jupyter-widgets/controls",
          "model_name": "ProgressStyleModel",
          "model_module_version": "1.5.0",
          "state": {
            "_model_module": "@jupyter-widgets/controls",
            "_model_module_version": "1.5.0",
            "_model_name": "ProgressStyleModel",
            "_view_count": null,
            "_view_module": "@jupyter-widgets/base",
            "_view_module_version": "1.2.0",
            "_view_name": "StyleView",
            "bar_color": null,
            "description_width": ""
          }
        },
        "0c917aaa76f64b60af2e51c57123d0f0": {
          "model_module": "@jupyter-widgets/base",
          "model_name": "LayoutModel",
          "model_module_version": "1.2.0",
          "state": {
            "_model_module": "@jupyter-widgets/base",
            "_model_module_version": "1.2.0",
            "_model_name": "LayoutModel",
            "_view_count": null,
            "_view_module": "@jupyter-widgets/base",
            "_view_module_version": "1.2.0",
            "_view_name": "LayoutView",
            "align_content": null,
            "align_items": null,
            "align_self": null,
            "border": null,
            "bottom": null,
            "display": null,
            "flex": null,
            "flex_flow": null,
            "grid_area": null,
            "grid_auto_columns": null,
            "grid_auto_flow": null,
            "grid_auto_rows": null,
            "grid_column": null,
            "grid_gap": null,
            "grid_row": null,
            "grid_template_areas": null,
            "grid_template_columns": null,
            "grid_template_rows": null,
            "height": null,
            "justify_content": null,
            "justify_items": null,
            "left": null,
            "margin": null,
            "max_height": null,
            "max_width": null,
            "min_height": null,
            "min_width": null,
            "object_fit": null,
            "object_position": null,
            "order": null,
            "overflow": null,
            "overflow_x": null,
            "overflow_y": null,
            "padding": null,
            "right": null,
            "top": null,
            "visibility": null,
            "width": null
          }
        },
        "776449fec84d43f28c8df02262fa41c9": {
          "model_module": "@jupyter-widgets/controls",
          "model_name": "DescriptionStyleModel",
          "model_module_version": "1.5.0",
          "state": {
            "_model_module": "@jupyter-widgets/controls",
            "_model_module_version": "1.5.0",
            "_model_name": "DescriptionStyleModel",
            "_view_count": null,
            "_view_module": "@jupyter-widgets/base",
            "_view_module_version": "1.2.0",
            "_view_name": "StyleView",
            "description_width": ""
          }
        },
        "d0e23ebde5ce4ecb8e33662190010d2a": {
          "model_module": "@jupyter-widgets/controls",
          "model_name": "HBoxModel",
          "model_module_version": "1.5.0",
          "state": {
            "_dom_classes": [],
            "_model_module": "@jupyter-widgets/controls",
            "_model_module_version": "1.5.0",
            "_model_name": "HBoxModel",
            "_view_count": null,
            "_view_module": "@jupyter-widgets/controls",
            "_view_module_version": "1.5.0",
            "_view_name": "HBoxView",
            "box_style": "",
            "children": [
              "IPY_MODEL_3846804b16094f55843a8f8029c85772",
              "IPY_MODEL_c9078c418219414b9685b48e7fe2c5bc",
              "IPY_MODEL_7218842ed0b746569a6c35e0d0647c19"
            ],
            "layout": "IPY_MODEL_cf2b77b6f2e54b5ea7d3d72ff1a8199f"
          }
        },
        "3846804b16094f55843a8f8029c85772": {
          "model_module": "@jupyter-widgets/controls",
          "model_name": "HTMLModel",
          "model_module_version": "1.5.0",
          "state": {
            "_dom_classes": [],
            "_model_module": "@jupyter-widgets/controls",
            "_model_module_version": "1.5.0",
            "_model_name": "HTMLModel",
            "_view_count": null,
            "_view_module": "@jupyter-widgets/controls",
            "_view_module_version": "1.5.0",
            "_view_name": "HTMLView",
            "description": "",
            "description_tooltip": null,
            "layout": "IPY_MODEL_1dde8edec51849dab95ac1b54285e33a",
            "placeholder": "​",
            "style": "IPY_MODEL_52f14f732d704aa2a6f7091a89163e4b",
            "value": "config.json: "
          }
        },
        "c9078c418219414b9685b48e7fe2c5bc": {
          "model_module": "@jupyter-widgets/controls",
          "model_name": "FloatProgressModel",
          "model_module_version": "1.5.0",
          "state": {
            "_dom_classes": [],
            "_model_module": "@jupyter-widgets/controls",
            "_model_module_version": "1.5.0",
            "_model_name": "FloatProgressModel",
            "_view_count": null,
            "_view_module": "@jupyter-widgets/controls",
            "_view_module_version": "1.5.0",
            "_view_name": "ProgressView",
            "bar_style": "success",
            "description": "",
            "description_tooltip": null,
            "layout": "IPY_MODEL_6f7eef9385c14a83a0c16c92ea8c36e4",
            "max": 1,
            "min": 0,
            "orientation": "horizontal",
            "style": "IPY_MODEL_1aa426047327494b9e3d517b33819932",
            "value": 1
          }
        },
        "7218842ed0b746569a6c35e0d0647c19": {
          "model_module": "@jupyter-widgets/controls",
          "model_name": "HTMLModel",
          "model_module_version": "1.5.0",
          "state": {
            "_dom_classes": [],
            "_model_module": "@jupyter-widgets/controls",
            "_model_module_version": "1.5.0",
            "_model_name": "HTMLModel",
            "_view_count": null,
            "_view_module": "@jupyter-widgets/controls",
            "_view_module_version": "1.5.0",
            "_view_name": "HTMLView",
            "description": "",
            "description_tooltip": null,
            "layout": "IPY_MODEL_04173e6f2b95413eb2c29fadb986191f",
            "placeholder": "​",
            "style": "IPY_MODEL_f7ee351fe60c4680b648b802bcfa6976",
            "value": " 4.72k/? [00:00&lt;00:00, 72.2kB/s]"
          }
        },
        "cf2b77b6f2e54b5ea7d3d72ff1a8199f": {
          "model_module": "@jupyter-widgets/base",
          "model_name": "LayoutModel",
          "model_module_version": "1.2.0",
          "state": {
            "_model_module": "@jupyter-widgets/base",
            "_model_module_version": "1.2.0",
            "_model_name": "LayoutModel",
            "_view_count": null,
            "_view_module": "@jupyter-widgets/base",
            "_view_module_version": "1.2.0",
            "_view_name": "LayoutView",
            "align_content": null,
            "align_items": null,
            "align_self": null,
            "border": null,
            "bottom": null,
            "display": null,
            "flex": null,
            "flex_flow": null,
            "grid_area": null,
            "grid_auto_columns": null,
            "grid_auto_flow": null,
            "grid_auto_rows": null,
            "grid_column": null,
            "grid_gap": null,
            "grid_row": null,
            "grid_template_areas": null,
            "grid_template_columns": null,
            "grid_template_rows": null,
            "height": null,
            "justify_content": null,
            "justify_items": null,
            "left": null,
            "margin": null,
            "max_height": null,
            "max_width": null,
            "min_height": null,
            "min_width": null,
            "object_fit": null,
            "object_position": null,
            "order": null,
            "overflow": null,
            "overflow_x": null,
            "overflow_y": null,
            "padding": null,
            "right": null,
            "top": null,
            "visibility": null,
            "width": null
          }
        },
        "1dde8edec51849dab95ac1b54285e33a": {
          "model_module": "@jupyter-widgets/base",
          "model_name": "LayoutModel",
          "model_module_version": "1.2.0",
          "state": {
            "_model_module": "@jupyter-widgets/base",
            "_model_module_version": "1.2.0",
            "_model_name": "LayoutModel",
            "_view_count": null,
            "_view_module": "@jupyter-widgets/base",
            "_view_module_version": "1.2.0",
            "_view_name": "LayoutView",
            "align_content": null,
            "align_items": null,
            "align_self": null,
            "border": null,
            "bottom": null,
            "display": null,
            "flex": null,
            "flex_flow": null,
            "grid_area": null,
            "grid_auto_columns": null,
            "grid_auto_flow": null,
            "grid_auto_rows": null,
            "grid_column": null,
            "grid_gap": null,
            "grid_row": null,
            "grid_template_areas": null,
            "grid_template_columns": null,
            "grid_template_rows": null,
            "height": null,
            "justify_content": null,
            "justify_items": null,
            "left": null,
            "margin": null,
            "max_height": null,
            "max_width": null,
            "min_height": null,
            "min_width": null,
            "object_fit": null,
            "object_position": null,
            "order": null,
            "overflow": null,
            "overflow_x": null,
            "overflow_y": null,
            "padding": null,
            "right": null,
            "top": null,
            "visibility": null,
            "width": null
          }
        },
        "52f14f732d704aa2a6f7091a89163e4b": {
          "model_module": "@jupyter-widgets/controls",
          "model_name": "DescriptionStyleModel",
          "model_module_version": "1.5.0",
          "state": {
            "_model_module": "@jupyter-widgets/controls",
            "_model_module_version": "1.5.0",
            "_model_name": "DescriptionStyleModel",
            "_view_count": null,
            "_view_module": "@jupyter-widgets/base",
            "_view_module_version": "1.2.0",
            "_view_name": "StyleView",
            "description_width": ""
          }
        },
        "6f7eef9385c14a83a0c16c92ea8c36e4": {
          "model_module": "@jupyter-widgets/base",
          "model_name": "LayoutModel",
          "model_module_version": "1.2.0",
          "state": {
            "_model_module": "@jupyter-widgets/base",
            "_model_module_version": "1.2.0",
            "_model_name": "LayoutModel",
            "_view_count": null,
            "_view_module": "@jupyter-widgets/base",
            "_view_module_version": "1.2.0",
            "_view_name": "LayoutView",
            "align_content": null,
            "align_items": null,
            "align_self": null,
            "border": null,
            "bottom": null,
            "display": null,
            "flex": null,
            "flex_flow": null,
            "grid_area": null,
            "grid_auto_columns": null,
            "grid_auto_flow": null,
            "grid_auto_rows": null,
            "grid_column": null,
            "grid_gap": null,
            "grid_row": null,
            "grid_template_areas": null,
            "grid_template_columns": null,
            "grid_template_rows": null,
            "height": null,
            "justify_content": null,
            "justify_items": null,
            "left": null,
            "margin": null,
            "max_height": null,
            "max_width": null,
            "min_height": null,
            "min_width": null,
            "object_fit": null,
            "object_position": null,
            "order": null,
            "overflow": null,
            "overflow_x": null,
            "overflow_y": null,
            "padding": null,
            "right": null,
            "top": null,
            "visibility": null,
            "width": "20px"
          }
        },
        "1aa426047327494b9e3d517b33819932": {
          "model_module": "@jupyter-widgets/controls",
          "model_name": "ProgressStyleModel",
          "model_module_version": "1.5.0",
          "state": {
            "_model_module": "@jupyter-widgets/controls",
            "_model_module_version": "1.5.0",
            "_model_name": "ProgressStyleModel",
            "_view_count": null,
            "_view_module": "@jupyter-widgets/base",
            "_view_module_version": "1.2.0",
            "_view_name": "StyleView",
            "bar_color": null,
            "description_width": ""
          }
        },
        "04173e6f2b95413eb2c29fadb986191f": {
          "model_module": "@jupyter-widgets/base",
          "model_name": "LayoutModel",
          "model_module_version": "1.2.0",
          "state": {
            "_model_module": "@jupyter-widgets/base",
            "_model_module_version": "1.2.0",
            "_model_name": "LayoutModel",
            "_view_count": null,
            "_view_module": "@jupyter-widgets/base",
            "_view_module_version": "1.2.0",
            "_view_name": "LayoutView",
            "align_content": null,
            "align_items": null,
            "align_self": null,
            "border": null,
            "bottom": null,
            "display": null,
            "flex": null,
            "flex_flow": null,
            "grid_area": null,
            "grid_auto_columns": null,
            "grid_auto_flow": null,
            "grid_auto_rows": null,
            "grid_column": null,
            "grid_gap": null,
            "grid_row": null,
            "grid_template_areas": null,
            "grid_template_columns": null,
            "grid_template_rows": null,
            "height": null,
            "justify_content": null,
            "justify_items": null,
            "left": null,
            "margin": null,
            "max_height": null,
            "max_width": null,
            "min_height": null,
            "min_width": null,
            "object_fit": null,
            "object_position": null,
            "order": null,
            "overflow": null,
            "overflow_x": null,
            "overflow_y": null,
            "padding": null,
            "right": null,
            "top": null,
            "visibility": null,
            "width": null
          }
        },
        "f7ee351fe60c4680b648b802bcfa6976": {
          "model_module": "@jupyter-widgets/controls",
          "model_name": "DescriptionStyleModel",
          "model_module_version": "1.5.0",
          "state": {
            "_model_module": "@jupyter-widgets/controls",
            "_model_module_version": "1.5.0",
            "_model_name": "DescriptionStyleModel",
            "_view_count": null,
            "_view_module": "@jupyter-widgets/base",
            "_view_module_version": "1.2.0",
            "_view_name": "StyleView",
            "description_width": ""
          }
        },
        "b21c752a158c473ebe934052b88602d2": {
          "model_module": "@jupyter-widgets/controls",
          "model_name": "HBoxModel",
          "model_module_version": "1.5.0",
          "state": {
            "_dom_classes": [],
            "_model_module": "@jupyter-widgets/controls",
            "_model_module_version": "1.5.0",
            "_model_name": "HBoxModel",
            "_view_count": null,
            "_view_module": "@jupyter-widgets/controls",
            "_view_module_version": "1.5.0",
            "_view_name": "HBoxView",
            "box_style": "",
            "children": [
              "IPY_MODEL_3ef80e7fe85042e7b8315a4de4d04eef",
              "IPY_MODEL_e7fada8b330f483b91ab55c0500675f8",
              "IPY_MODEL_88a68c5df0194184904149425d1b70e9"
            ],
            "layout": "IPY_MODEL_e0f0dde4df104f90896a8e3f25682bf4"
          }
        },
        "3ef80e7fe85042e7b8315a4de4d04eef": {
          "model_module": "@jupyter-widgets/controls",
          "model_name": "HTMLModel",
          "model_module_version": "1.5.0",
          "state": {
            "_dom_classes": [],
            "_model_module": "@jupyter-widgets/controls",
            "_model_module_version": "1.5.0",
            "_model_name": "HTMLModel",
            "_view_count": null,
            "_view_module": "@jupyter-widgets/controls",
            "_view_module_version": "1.5.0",
            "_view_name": "HTMLView",
            "description": "",
            "description_tooltip": null,
            "layout": "IPY_MODEL_e2fa46815c1e4dfdb0ccfa64cec1dd42",
            "placeholder": "​",
            "style": "IPY_MODEL_7dc79cfb3e574c87bd957740277e6227",
            "value": "preprocessor_config.json: 100%"
          }
        },
        "e7fada8b330f483b91ab55c0500675f8": {
          "model_module": "@jupyter-widgets/controls",
          "model_name": "FloatProgressModel",
          "model_module_version": "1.5.0",
          "state": {
            "_dom_classes": [],
            "_model_module": "@jupyter-widgets/controls",
            "_model_module_version": "1.5.0",
            "_model_name": "FloatProgressModel",
            "_view_count": null,
            "_view_module": "@jupyter-widgets/controls",
            "_view_module_version": "1.5.0",
            "_view_name": "ProgressView",
            "bar_style": "success",
            "description": "",
            "description_tooltip": null,
            "layout": "IPY_MODEL_770b8406b08843b8a4510be08a0d67ae",
            "max": 342,
            "min": 0,
            "orientation": "horizontal",
            "style": "IPY_MODEL_71da72148e8245ff8d9bb8ef8a987083",
            "value": 342
          }
        },
        "88a68c5df0194184904149425d1b70e9": {
          "model_module": "@jupyter-widgets/controls",
          "model_name": "HTMLModel",
          "model_module_version": "1.5.0",
          "state": {
            "_dom_classes": [],
            "_model_module": "@jupyter-widgets/controls",
            "_model_module_version": "1.5.0",
            "_model_name": "HTMLModel",
            "_view_count": null,
            "_view_module": "@jupyter-widgets/controls",
            "_view_module_version": "1.5.0",
            "_view_name": "HTMLView",
            "description": "",
            "description_tooltip": null,
            "layout": "IPY_MODEL_6ecc151d0c6d4b17b99283b013847154",
            "placeholder": "​",
            "style": "IPY_MODEL_5fd826f97dad473aad169cd7a3aa3805",
            "value": " 342/342 [00:00&lt;00:00, 4.77kB/s]"
          }
        },
        "e0f0dde4df104f90896a8e3f25682bf4": {
          "model_module": "@jupyter-widgets/base",
          "model_name": "LayoutModel",
          "model_module_version": "1.2.0",
          "state": {
            "_model_module": "@jupyter-widgets/base",
            "_model_module_version": "1.2.0",
            "_model_name": "LayoutModel",
            "_view_count": null,
            "_view_module": "@jupyter-widgets/base",
            "_view_module_version": "1.2.0",
            "_view_name": "LayoutView",
            "align_content": null,
            "align_items": null,
            "align_self": null,
            "border": null,
            "bottom": null,
            "display": null,
            "flex": null,
            "flex_flow": null,
            "grid_area": null,
            "grid_auto_columns": null,
            "grid_auto_flow": null,
            "grid_auto_rows": null,
            "grid_column": null,
            "grid_gap": null,
            "grid_row": null,
            "grid_template_areas": null,
            "grid_template_columns": null,
            "grid_template_rows": null,
            "height": null,
            "justify_content": null,
            "justify_items": null,
            "left": null,
            "margin": null,
            "max_height": null,
            "max_width": null,
            "min_height": null,
            "min_width": null,
            "object_fit": null,
            "object_position": null,
            "order": null,
            "overflow": null,
            "overflow_x": null,
            "overflow_y": null,
            "padding": null,
            "right": null,
            "top": null,
            "visibility": null,
            "width": null
          }
        },
        "e2fa46815c1e4dfdb0ccfa64cec1dd42": {
          "model_module": "@jupyter-widgets/base",
          "model_name": "LayoutModel",
          "model_module_version": "1.2.0",
          "state": {
            "_model_module": "@jupyter-widgets/base",
            "_model_module_version": "1.2.0",
            "_model_name": "LayoutModel",
            "_view_count": null,
            "_view_module": "@jupyter-widgets/base",
            "_view_module_version": "1.2.0",
            "_view_name": "LayoutView",
            "align_content": null,
            "align_items": null,
            "align_self": null,
            "border": null,
            "bottom": null,
            "display": null,
            "flex": null,
            "flex_flow": null,
            "grid_area": null,
            "grid_auto_columns": null,
            "grid_auto_flow": null,
            "grid_auto_rows": null,
            "grid_column": null,
            "grid_gap": null,
            "grid_row": null,
            "grid_template_areas": null,
            "grid_template_columns": null,
            "grid_template_rows": null,
            "height": null,
            "justify_content": null,
            "justify_items": null,
            "left": null,
            "margin": null,
            "max_height": null,
            "max_width": null,
            "min_height": null,
            "min_width": null,
            "object_fit": null,
            "object_position": null,
            "order": null,
            "overflow": null,
            "overflow_x": null,
            "overflow_y": null,
            "padding": null,
            "right": null,
            "top": null,
            "visibility": null,
            "width": null
          }
        },
        "7dc79cfb3e574c87bd957740277e6227": {
          "model_module": "@jupyter-widgets/controls",
          "model_name": "DescriptionStyleModel",
          "model_module_version": "1.5.0",
          "state": {
            "_model_module": "@jupyter-widgets/controls",
            "_model_module_version": "1.5.0",
            "_model_name": "DescriptionStyleModel",
            "_view_count": null,
            "_view_module": "@jupyter-widgets/base",
            "_view_module_version": "1.2.0",
            "_view_name": "StyleView",
            "description_width": ""
          }
        },
        "770b8406b08843b8a4510be08a0d67ae": {
          "model_module": "@jupyter-widgets/base",
          "model_name": "LayoutModel",
          "model_module_version": "1.2.0",
          "state": {
            "_model_module": "@jupyter-widgets/base",
            "_model_module_version": "1.2.0",
            "_model_name": "LayoutModel",
            "_view_count": null,
            "_view_module": "@jupyter-widgets/base",
            "_view_module_version": "1.2.0",
            "_view_name": "LayoutView",
            "align_content": null,
            "align_items": null,
            "align_self": null,
            "border": null,
            "bottom": null,
            "display": null,
            "flex": null,
            "flex_flow": null,
            "grid_area": null,
            "grid_auto_columns": null,
            "grid_auto_flow": null,
            "grid_auto_rows": null,
            "grid_column": null,
            "grid_gap": null,
            "grid_row": null,
            "grid_template_areas": null,
            "grid_template_columns": null,
            "grid_template_rows": null,
            "height": null,
            "justify_content": null,
            "justify_items": null,
            "left": null,
            "margin": null,
            "max_height": null,
            "max_width": null,
            "min_height": null,
            "min_width": null,
            "object_fit": null,
            "object_position": null,
            "order": null,
            "overflow": null,
            "overflow_x": null,
            "overflow_y": null,
            "padding": null,
            "right": null,
            "top": null,
            "visibility": null,
            "width": null
          }
        },
        "71da72148e8245ff8d9bb8ef8a987083": {
          "model_module": "@jupyter-widgets/controls",
          "model_name": "ProgressStyleModel",
          "model_module_version": "1.5.0",
          "state": {
            "_model_module": "@jupyter-widgets/controls",
            "_model_module_version": "1.5.0",
            "_model_name": "ProgressStyleModel",
            "_view_count": null,
            "_view_module": "@jupyter-widgets/base",
            "_view_module_version": "1.2.0",
            "_view_name": "StyleView",
            "bar_color": null,
            "description_width": ""
          }
        },
        "6ecc151d0c6d4b17b99283b013847154": {
          "model_module": "@jupyter-widgets/base",
          "model_name": "LayoutModel",
          "model_module_version": "1.2.0",
          "state": {
            "_model_module": "@jupyter-widgets/base",
            "_model_module_version": "1.2.0",
            "_model_name": "LayoutModel",
            "_view_count": null,
            "_view_module": "@jupyter-widgets/base",
            "_view_module_version": "1.2.0",
            "_view_name": "LayoutView",
            "align_content": null,
            "align_items": null,
            "align_self": null,
            "border": null,
            "bottom": null,
            "display": null,
            "flex": null,
            "flex_flow": null,
            "grid_area": null,
            "grid_auto_columns": null,
            "grid_auto_flow": null,
            "grid_auto_rows": null,
            "grid_column": null,
            "grid_gap": null,
            "grid_row": null,
            "grid_template_areas": null,
            "grid_template_columns": null,
            "grid_template_rows": null,
            "height": null,
            "justify_content": null,
            "justify_items": null,
            "left": null,
            "margin": null,
            "max_height": null,
            "max_width": null,
            "min_height": null,
            "min_width": null,
            "object_fit": null,
            "object_position": null,
            "order": null,
            "overflow": null,
            "overflow_x": null,
            "overflow_y": null,
            "padding": null,
            "right": null,
            "top": null,
            "visibility": null,
            "width": null
          }
        },
        "5fd826f97dad473aad169cd7a3aa3805": {
          "model_module": "@jupyter-widgets/controls",
          "model_name": "DescriptionStyleModel",
          "model_module_version": "1.5.0",
          "state": {
            "_model_module": "@jupyter-widgets/controls",
            "_model_module_version": "1.5.0",
            "_model_name": "DescriptionStyleModel",
            "_view_count": null,
            "_view_module": "@jupyter-widgets/base",
            "_view_module_version": "1.2.0",
            "_view_name": "StyleView",
            "description_width": ""
          }
        },
        "e79afe642e1145e88800a2eb4638c028": {
          "model_module": "@jupyter-widgets/controls",
          "model_name": "HBoxModel",
          "model_module_version": "1.5.0",
          "state": {
            "_dom_classes": [],
            "_model_module": "@jupyter-widgets/controls",
            "_model_module_version": "1.5.0",
            "_model_name": "HBoxModel",
            "_view_count": null,
            "_view_module": "@jupyter-widgets/controls",
            "_view_module_version": "1.5.0",
            "_view_name": "HBoxView",
            "box_style": "",
            "children": [
              "IPY_MODEL_de415340a29f4e9c8c7b763f5fe7157c",
              "IPY_MODEL_093d9251523b40f78d37884190956028",
              "IPY_MODEL_ee67c532b10b47a39abaf7cd486cb5b7"
            ],
            "layout": "IPY_MODEL_d7878dd230ff4092af2619876f48a1ff"
          }
        },
        "de415340a29f4e9c8c7b763f5fe7157c": {
          "model_module": "@jupyter-widgets/controls",
          "model_name": "HTMLModel",
          "model_module_version": "1.5.0",
          "state": {
            "_dom_classes": [],
            "_model_module": "@jupyter-widgets/controls",
            "_model_module_version": "1.5.0",
            "_model_name": "HTMLModel",
            "_view_count": null,
            "_view_module": "@jupyter-widgets/controls",
            "_view_module_version": "1.5.0",
            "_view_name": "HTMLView",
            "description": "",
            "description_tooltip": null,
            "layout": "IPY_MODEL_0ba206a528cf4570acb402b8259ba001",
            "placeholder": "​",
            "style": "IPY_MODEL_713b623450614f72901e75f52fc0b7b4",
            "value": "text_encoder/model.safetensors: 100%"
          }
        },
        "093d9251523b40f78d37884190956028": {
          "model_module": "@jupyter-widgets/controls",
          "model_name": "FloatProgressModel",
          "model_module_version": "1.5.0",
          "state": {
            "_dom_classes": [],
            "_model_module": "@jupyter-widgets/controls",
            "_model_module_version": "1.5.0",
            "_model_name": "FloatProgressModel",
            "_view_count": null,
            "_view_module": "@jupyter-widgets/controls",
            "_view_module_version": "1.5.0",
            "_view_name": "ProgressView",
            "bar_style": "success",
            "description": "",
            "description_tooltip": null,
            "layout": "IPY_MODEL_f275a4c9e09b44bd880206f9a5987a62",
            "max": 492265874,
            "min": 0,
            "orientation": "horizontal",
            "style": "IPY_MODEL_0bcad76947434e4695445caf48b1fc61",
            "value": 492265874
          }
        },
        "ee67c532b10b47a39abaf7cd486cb5b7": {
          "model_module": "@jupyter-widgets/controls",
          "model_name": "HTMLModel",
          "model_module_version": "1.5.0",
          "state": {
            "_dom_classes": [],
            "_model_module": "@jupyter-widgets/controls",
            "_model_module_version": "1.5.0",
            "_model_name": "HTMLModel",
            "_view_count": null,
            "_view_module": "@jupyter-widgets/controls",
            "_view_module_version": "1.5.0",
            "_view_name": "HTMLView",
            "description": "",
            "description_tooltip": null,
            "layout": "IPY_MODEL_bfc41e19c94c45c294a90e083f684f30",
            "placeholder": "​",
            "style": "IPY_MODEL_1250b9cae1a1407bb098ad295f87366b",
            "value": " 492M/492M [00:22&lt;00:00, 32.5MB/s]"
          }
        },
        "d7878dd230ff4092af2619876f48a1ff": {
          "model_module": "@jupyter-widgets/base",
          "model_name": "LayoutModel",
          "model_module_version": "1.2.0",
          "state": {
            "_model_module": "@jupyter-widgets/base",
            "_model_module_version": "1.2.0",
            "_model_name": "LayoutModel",
            "_view_count": null,
            "_view_module": "@jupyter-widgets/base",
            "_view_module_version": "1.2.0",
            "_view_name": "LayoutView",
            "align_content": null,
            "align_items": null,
            "align_self": null,
            "border": null,
            "bottom": null,
            "display": null,
            "flex": null,
            "flex_flow": null,
            "grid_area": null,
            "grid_auto_columns": null,
            "grid_auto_flow": null,
            "grid_auto_rows": null,
            "grid_column": null,
            "grid_gap": null,
            "grid_row": null,
            "grid_template_areas": null,
            "grid_template_columns": null,
            "grid_template_rows": null,
            "height": null,
            "justify_content": null,
            "justify_items": null,
            "left": null,
            "margin": null,
            "max_height": null,
            "max_width": null,
            "min_height": null,
            "min_width": null,
            "object_fit": null,
            "object_position": null,
            "order": null,
            "overflow": null,
            "overflow_x": null,
            "overflow_y": null,
            "padding": null,
            "right": null,
            "top": null,
            "visibility": null,
            "width": null
          }
        },
        "0ba206a528cf4570acb402b8259ba001": {
          "model_module": "@jupyter-widgets/base",
          "model_name": "LayoutModel",
          "model_module_version": "1.2.0",
          "state": {
            "_model_module": "@jupyter-widgets/base",
            "_model_module_version": "1.2.0",
            "_model_name": "LayoutModel",
            "_view_count": null,
            "_view_module": "@jupyter-widgets/base",
            "_view_module_version": "1.2.0",
            "_view_name": "LayoutView",
            "align_content": null,
            "align_items": null,
            "align_self": null,
            "border": null,
            "bottom": null,
            "display": null,
            "flex": null,
            "flex_flow": null,
            "grid_area": null,
            "grid_auto_columns": null,
            "grid_auto_flow": null,
            "grid_auto_rows": null,
            "grid_column": null,
            "grid_gap": null,
            "grid_row": null,
            "grid_template_areas": null,
            "grid_template_columns": null,
            "grid_template_rows": null,
            "height": null,
            "justify_content": null,
            "justify_items": null,
            "left": null,
            "margin": null,
            "max_height": null,
            "max_width": null,
            "min_height": null,
            "min_width": null,
            "object_fit": null,
            "object_position": null,
            "order": null,
            "overflow": null,
            "overflow_x": null,
            "overflow_y": null,
            "padding": null,
            "right": null,
            "top": null,
            "visibility": null,
            "width": null
          }
        },
        "713b623450614f72901e75f52fc0b7b4": {
          "model_module": "@jupyter-widgets/controls",
          "model_name": "DescriptionStyleModel",
          "model_module_version": "1.5.0",
          "state": {
            "_model_module": "@jupyter-widgets/controls",
            "_model_module_version": "1.5.0",
            "_model_name": "DescriptionStyleModel",
            "_view_count": null,
            "_view_module": "@jupyter-widgets/base",
            "_view_module_version": "1.2.0",
            "_view_name": "StyleView",
            "description_width": ""
          }
        },
        "f275a4c9e09b44bd880206f9a5987a62": {
          "model_module": "@jupyter-widgets/base",
          "model_name": "LayoutModel",
          "model_module_version": "1.2.0",
          "state": {
            "_model_module": "@jupyter-widgets/base",
            "_model_module_version": "1.2.0",
            "_model_name": "LayoutModel",
            "_view_count": null,
            "_view_module": "@jupyter-widgets/base",
            "_view_module_version": "1.2.0",
            "_view_name": "LayoutView",
            "align_content": null,
            "align_items": null,
            "align_self": null,
            "border": null,
            "bottom": null,
            "display": null,
            "flex": null,
            "flex_flow": null,
            "grid_area": null,
            "grid_auto_columns": null,
            "grid_auto_flow": null,
            "grid_auto_rows": null,
            "grid_column": null,
            "grid_gap": null,
            "grid_row": null,
            "grid_template_areas": null,
            "grid_template_columns": null,
            "grid_template_rows": null,
            "height": null,
            "justify_content": null,
            "justify_items": null,
            "left": null,
            "margin": null,
            "max_height": null,
            "max_width": null,
            "min_height": null,
            "min_width": null,
            "object_fit": null,
            "object_position": null,
            "order": null,
            "overflow": null,
            "overflow_x": null,
            "overflow_y": null,
            "padding": null,
            "right": null,
            "top": null,
            "visibility": null,
            "width": null
          }
        },
        "0bcad76947434e4695445caf48b1fc61": {
          "model_module": "@jupyter-widgets/controls",
          "model_name": "ProgressStyleModel",
          "model_module_version": "1.5.0",
          "state": {
            "_model_module": "@jupyter-widgets/controls",
            "_model_module_version": "1.5.0",
            "_model_name": "ProgressStyleModel",
            "_view_count": null,
            "_view_module": "@jupyter-widgets/base",
            "_view_module_version": "1.2.0",
            "_view_name": "StyleView",
            "bar_color": null,
            "description_width": ""
          }
        },
        "bfc41e19c94c45c294a90e083f684f30": {
          "model_module": "@jupyter-widgets/base",
          "model_name": "LayoutModel",
          "model_module_version": "1.2.0",
          "state": {
            "_model_module": "@jupyter-widgets/base",
            "_model_module_version": "1.2.0",
            "_model_name": "LayoutModel",
            "_view_count": null,
            "_view_module": "@jupyter-widgets/base",
            "_view_module_version": "1.2.0",
            "_view_name": "LayoutView",
            "align_content": null,
            "align_items": null,
            "align_self": null,
            "border": null,
            "bottom": null,
            "display": null,
            "flex": null,
            "flex_flow": null,
            "grid_area": null,
            "grid_auto_columns": null,
            "grid_auto_flow": null,
            "grid_auto_rows": null,
            "grid_column": null,
            "grid_gap": null,
            "grid_row": null,
            "grid_template_areas": null,
            "grid_template_columns": null,
            "grid_template_rows": null,
            "height": null,
            "justify_content": null,
            "justify_items": null,
            "left": null,
            "margin": null,
            "max_height": null,
            "max_width": null,
            "min_height": null,
            "min_width": null,
            "object_fit": null,
            "object_position": null,
            "order": null,
            "overflow": null,
            "overflow_x": null,
            "overflow_y": null,
            "padding": null,
            "right": null,
            "top": null,
            "visibility": null,
            "width": null
          }
        },
        "1250b9cae1a1407bb098ad295f87366b": {
          "model_module": "@jupyter-widgets/controls",
          "model_name": "DescriptionStyleModel",
          "model_module_version": "1.5.0",
          "state": {
            "_model_module": "@jupyter-widgets/controls",
            "_model_module_version": "1.5.0",
            "_model_name": "DescriptionStyleModel",
            "_view_count": null,
            "_view_module": "@jupyter-widgets/base",
            "_view_module_version": "1.2.0",
            "_view_name": "StyleView",
            "description_width": ""
          }
        },
        "c8ec3de1ba264d529cb977527d51d0b4": {
          "model_module": "@jupyter-widgets/controls",
          "model_name": "HBoxModel",
          "model_module_version": "1.5.0",
          "state": {
            "_dom_classes": [],
            "_model_module": "@jupyter-widgets/controls",
            "_model_module_version": "1.5.0",
            "_model_name": "HBoxModel",
            "_view_count": null,
            "_view_module": "@jupyter-widgets/controls",
            "_view_module_version": "1.5.0",
            "_view_name": "HBoxView",
            "box_style": "",
            "children": [
              "IPY_MODEL_84005380efd04216a2e09f88d37e6246",
              "IPY_MODEL_dfe5c176184245dd9929d829fa2824e9",
              "IPY_MODEL_eb3edb3ca95c4857ae81bef9ac1603e1"
            ],
            "layout": "IPY_MODEL_77788e8f6e3a429da4933249b30211af"
          }
        },
        "84005380efd04216a2e09f88d37e6246": {
          "model_module": "@jupyter-widgets/controls",
          "model_name": "HTMLModel",
          "model_module_version": "1.5.0",
          "state": {
            "_dom_classes": [],
            "_model_module": "@jupyter-widgets/controls",
            "_model_module_version": "1.5.0",
            "_model_name": "HTMLModel",
            "_view_count": null,
            "_view_module": "@jupyter-widgets/controls",
            "_view_module_version": "1.5.0",
            "_view_name": "HTMLView",
            "description": "",
            "description_tooltip": null,
            "layout": "IPY_MODEL_11f6a5d1b35e462ca82bf4b3fa2fd1a8",
            "placeholder": "​",
            "style": "IPY_MODEL_b87450df5a9a4bd8a1f00b3374993431",
            "value": "vocab.json: "
          }
        },
        "dfe5c176184245dd9929d829fa2824e9": {
          "model_module": "@jupyter-widgets/controls",
          "model_name": "FloatProgressModel",
          "model_module_version": "1.5.0",
          "state": {
            "_dom_classes": [],
            "_model_module": "@jupyter-widgets/controls",
            "_model_module_version": "1.5.0",
            "_model_name": "FloatProgressModel",
            "_view_count": null,
            "_view_module": "@jupyter-widgets/controls",
            "_view_module_version": "1.5.0",
            "_view_name": "ProgressView",
            "bar_style": "success",
            "description": "",
            "description_tooltip": null,
            "layout": "IPY_MODEL_811d0f96dd9d4d14919eac3be6362ad3",
            "max": 1,
            "min": 0,
            "orientation": "horizontal",
            "style": "IPY_MODEL_75de2244e56d457da6860fa37ffa571b",
            "value": 1
          }
        },
        "eb3edb3ca95c4857ae81bef9ac1603e1": {
          "model_module": "@jupyter-widgets/controls",
          "model_name": "HTMLModel",
          "model_module_version": "1.5.0",
          "state": {
            "_dom_classes": [],
            "_model_module": "@jupyter-widgets/controls",
            "_model_module_version": "1.5.0",
            "_model_name": "HTMLModel",
            "_view_count": null,
            "_view_module": "@jupyter-widgets/controls",
            "_view_module_version": "1.5.0",
            "_view_name": "HTMLView",
            "description": "",
            "description_tooltip": null,
            "layout": "IPY_MODEL_a16ffee2738f46a09a56c142eed223d6",
            "placeholder": "​",
            "style": "IPY_MODEL_7ca3cfaf94984ce691ec7c0e1b6dc717",
            "value": " 1.06M/? [00:00&lt;00:00, 7.93MB/s]"
          }
        },
        "77788e8f6e3a429da4933249b30211af": {
          "model_module": "@jupyter-widgets/base",
          "model_name": "LayoutModel",
          "model_module_version": "1.2.0",
          "state": {
            "_model_module": "@jupyter-widgets/base",
            "_model_module_version": "1.2.0",
            "_model_name": "LayoutModel",
            "_view_count": null,
            "_view_module": "@jupyter-widgets/base",
            "_view_module_version": "1.2.0",
            "_view_name": "LayoutView",
            "align_content": null,
            "align_items": null,
            "align_self": null,
            "border": null,
            "bottom": null,
            "display": null,
            "flex": null,
            "flex_flow": null,
            "grid_area": null,
            "grid_auto_columns": null,
            "grid_auto_flow": null,
            "grid_auto_rows": null,
            "grid_column": null,
            "grid_gap": null,
            "grid_row": null,
            "grid_template_areas": null,
            "grid_template_columns": null,
            "grid_template_rows": null,
            "height": null,
            "justify_content": null,
            "justify_items": null,
            "left": null,
            "margin": null,
            "max_height": null,
            "max_width": null,
            "min_height": null,
            "min_width": null,
            "object_fit": null,
            "object_position": null,
            "order": null,
            "overflow": null,
            "overflow_x": null,
            "overflow_y": null,
            "padding": null,
            "right": null,
            "top": null,
            "visibility": null,
            "width": null
          }
        },
        "11f6a5d1b35e462ca82bf4b3fa2fd1a8": {
          "model_module": "@jupyter-widgets/base",
          "model_name": "LayoutModel",
          "model_module_version": "1.2.0",
          "state": {
            "_model_module": "@jupyter-widgets/base",
            "_model_module_version": "1.2.0",
            "_model_name": "LayoutModel",
            "_view_count": null,
            "_view_module": "@jupyter-widgets/base",
            "_view_module_version": "1.2.0",
            "_view_name": "LayoutView",
            "align_content": null,
            "align_items": null,
            "align_self": null,
            "border": null,
            "bottom": null,
            "display": null,
            "flex": null,
            "flex_flow": null,
            "grid_area": null,
            "grid_auto_columns": null,
            "grid_auto_flow": null,
            "grid_auto_rows": null,
            "grid_column": null,
            "grid_gap": null,
            "grid_row": null,
            "grid_template_areas": null,
            "grid_template_columns": null,
            "grid_template_rows": null,
            "height": null,
            "justify_content": null,
            "justify_items": null,
            "left": null,
            "margin": null,
            "max_height": null,
            "max_width": null,
            "min_height": null,
            "min_width": null,
            "object_fit": null,
            "object_position": null,
            "order": null,
            "overflow": null,
            "overflow_x": null,
            "overflow_y": null,
            "padding": null,
            "right": null,
            "top": null,
            "visibility": null,
            "width": null
          }
        },
        "b87450df5a9a4bd8a1f00b3374993431": {
          "model_module": "@jupyter-widgets/controls",
          "model_name": "DescriptionStyleModel",
          "model_module_version": "1.5.0",
          "state": {
            "_model_module": "@jupyter-widgets/controls",
            "_model_module_version": "1.5.0",
            "_model_name": "DescriptionStyleModel",
            "_view_count": null,
            "_view_module": "@jupyter-widgets/base",
            "_view_module_version": "1.2.0",
            "_view_name": "StyleView",
            "description_width": ""
          }
        },
        "811d0f96dd9d4d14919eac3be6362ad3": {
          "model_module": "@jupyter-widgets/base",
          "model_name": "LayoutModel",
          "model_module_version": "1.2.0",
          "state": {
            "_model_module": "@jupyter-widgets/base",
            "_model_module_version": "1.2.0",
            "_model_name": "LayoutModel",
            "_view_count": null,
            "_view_module": "@jupyter-widgets/base",
            "_view_module_version": "1.2.0",
            "_view_name": "LayoutView",
            "align_content": null,
            "align_items": null,
            "align_self": null,
            "border": null,
            "bottom": null,
            "display": null,
            "flex": null,
            "flex_flow": null,
            "grid_area": null,
            "grid_auto_columns": null,
            "grid_auto_flow": null,
            "grid_auto_rows": null,
            "grid_column": null,
            "grid_gap": null,
            "grid_row": null,
            "grid_template_areas": null,
            "grid_template_columns": null,
            "grid_template_rows": null,
            "height": null,
            "justify_content": null,
            "justify_items": null,
            "left": null,
            "margin": null,
            "max_height": null,
            "max_width": null,
            "min_height": null,
            "min_width": null,
            "object_fit": null,
            "object_position": null,
            "order": null,
            "overflow": null,
            "overflow_x": null,
            "overflow_y": null,
            "padding": null,
            "right": null,
            "top": null,
            "visibility": null,
            "width": "20px"
          }
        },
        "75de2244e56d457da6860fa37ffa571b": {
          "model_module": "@jupyter-widgets/controls",
          "model_name": "ProgressStyleModel",
          "model_module_version": "1.5.0",
          "state": {
            "_model_module": "@jupyter-widgets/controls",
            "_model_module_version": "1.5.0",
            "_model_name": "ProgressStyleModel",
            "_view_count": null,
            "_view_module": "@jupyter-widgets/base",
            "_view_module_version": "1.2.0",
            "_view_name": "StyleView",
            "bar_color": null,
            "description_width": ""
          }
        },
        "a16ffee2738f46a09a56c142eed223d6": {
          "model_module": "@jupyter-widgets/base",
          "model_name": "LayoutModel",
          "model_module_version": "1.2.0",
          "state": {
            "_model_module": "@jupyter-widgets/base",
            "_model_module_version": "1.2.0",
            "_model_name": "LayoutModel",
            "_view_count": null,
            "_view_module": "@jupyter-widgets/base",
            "_view_module_version": "1.2.0",
            "_view_name": "LayoutView",
            "align_content": null,
            "align_items": null,
            "align_self": null,
            "border": null,
            "bottom": null,
            "display": null,
            "flex": null,
            "flex_flow": null,
            "grid_area": null,
            "grid_auto_columns": null,
            "grid_auto_flow": null,
            "grid_auto_rows": null,
            "grid_column": null,
            "grid_gap": null,
            "grid_row": null,
            "grid_template_areas": null,
            "grid_template_columns": null,
            "grid_template_rows": null,
            "height": null,
            "justify_content": null,
            "justify_items": null,
            "left": null,
            "margin": null,
            "max_height": null,
            "max_width": null,
            "min_height": null,
            "min_width": null,
            "object_fit": null,
            "object_position": null,
            "order": null,
            "overflow": null,
            "overflow_x": null,
            "overflow_y": null,
            "padding": null,
            "right": null,
            "top": null,
            "visibility": null,
            "width": null
          }
        },
        "7ca3cfaf94984ce691ec7c0e1b6dc717": {
          "model_module": "@jupyter-widgets/controls",
          "model_name": "DescriptionStyleModel",
          "model_module_version": "1.5.0",
          "state": {
            "_model_module": "@jupyter-widgets/controls",
            "_model_module_version": "1.5.0",
            "_model_name": "DescriptionStyleModel",
            "_view_count": null,
            "_view_module": "@jupyter-widgets/base",
            "_view_module_version": "1.2.0",
            "_view_name": "StyleView",
            "description_width": ""
          }
        },
        "65d89f5f0d3140f8a1615d86347535c1": {
          "model_module": "@jupyter-widgets/controls",
          "model_name": "HBoxModel",
          "model_module_version": "1.5.0",
          "state": {
            "_dom_classes": [],
            "_model_module": "@jupyter-widgets/controls",
            "_model_module_version": "1.5.0",
            "_model_name": "HBoxModel",
            "_view_count": null,
            "_view_module": "@jupyter-widgets/controls",
            "_view_module_version": "1.5.0",
            "_view_name": "HBoxView",
            "box_style": "",
            "children": [
              "IPY_MODEL_6964d10834324b70ab4450a5ab8d818e",
              "IPY_MODEL_dbbdb8c2f1624a69b53f60fc71f179dd",
              "IPY_MODEL_3f878ffea6f449cda5ac87410f8a377a"
            ],
            "layout": "IPY_MODEL_24203c6323f646279e9ce9050c1d96d1"
          }
        },
        "6964d10834324b70ab4450a5ab8d818e": {
          "model_module": "@jupyter-widgets/controls",
          "model_name": "HTMLModel",
          "model_module_version": "1.5.0",
          "state": {
            "_dom_classes": [],
            "_model_module": "@jupyter-widgets/controls",
            "_model_module_version": "1.5.0",
            "_model_name": "HTMLModel",
            "_view_count": null,
            "_view_module": "@jupyter-widgets/controls",
            "_view_module_version": "1.5.0",
            "_view_name": "HTMLView",
            "description": "",
            "description_tooltip": null,
            "layout": "IPY_MODEL_42c475bee470493196cdf0bd16f5496b",
            "placeholder": "​",
            "style": "IPY_MODEL_d157a85b99704eb39024bb279cface11",
            "value": "unet/diffusion_pytorch_model.safetensors: 100%"
          }
        },
        "dbbdb8c2f1624a69b53f60fc71f179dd": {
          "model_module": "@jupyter-widgets/controls",
          "model_name": "FloatProgressModel",
          "model_module_version": "1.5.0",
          "state": {
            "_dom_classes": [],
            "_model_module": "@jupyter-widgets/controls",
            "_model_module_version": "1.5.0",
            "_model_name": "FloatProgressModel",
            "_view_count": null,
            "_view_module": "@jupyter-widgets/controls",
            "_view_module_version": "1.5.0",
            "_view_name": "ProgressView",
            "bar_style": "success",
            "description": "",
            "description_tooltip": null,
            "layout": "IPY_MODEL_5be562efd0004bd393abd2d9c8d95c77",
            "max": 3438167540,
            "min": 0,
            "orientation": "horizontal",
            "style": "IPY_MODEL_5e76511d85cf4650a1217412bd78919d",
            "value": 3438167540
          }
        },
        "3f878ffea6f449cda5ac87410f8a377a": {
          "model_module": "@jupyter-widgets/controls",
          "model_name": "HTMLModel",
          "model_module_version": "1.5.0",
          "state": {
            "_dom_classes": [],
            "_model_module": "@jupyter-widgets/controls",
            "_model_module_version": "1.5.0",
            "_model_name": "HTMLModel",
            "_view_count": null,
            "_view_module": "@jupyter-widgets/controls",
            "_view_module_version": "1.5.0",
            "_view_name": "HTMLView",
            "description": "",
            "description_tooltip": null,
            "layout": "IPY_MODEL_9262348e2ba14ee6bcff3c2d99b76ab8",
            "placeholder": "​",
            "style": "IPY_MODEL_7b29be783bd544a09254f13eadaeb261",
            "value": " 3.44G/3.44G [00:26&lt;00:00, 311MB/s]"
          }
        },
        "24203c6323f646279e9ce9050c1d96d1": {
          "model_module": "@jupyter-widgets/base",
          "model_name": "LayoutModel",
          "model_module_version": "1.2.0",
          "state": {
            "_model_module": "@jupyter-widgets/base",
            "_model_module_version": "1.2.0",
            "_model_name": "LayoutModel",
            "_view_count": null,
            "_view_module": "@jupyter-widgets/base",
            "_view_module_version": "1.2.0",
            "_view_name": "LayoutView",
            "align_content": null,
            "align_items": null,
            "align_self": null,
            "border": null,
            "bottom": null,
            "display": null,
            "flex": null,
            "flex_flow": null,
            "grid_area": null,
            "grid_auto_columns": null,
            "grid_auto_flow": null,
            "grid_auto_rows": null,
            "grid_column": null,
            "grid_gap": null,
            "grid_row": null,
            "grid_template_areas": null,
            "grid_template_columns": null,
            "grid_template_rows": null,
            "height": null,
            "justify_content": null,
            "justify_items": null,
            "left": null,
            "margin": null,
            "max_height": null,
            "max_width": null,
            "min_height": null,
            "min_width": null,
            "object_fit": null,
            "object_position": null,
            "order": null,
            "overflow": null,
            "overflow_x": null,
            "overflow_y": null,
            "padding": null,
            "right": null,
            "top": null,
            "visibility": null,
            "width": null
          }
        },
        "42c475bee470493196cdf0bd16f5496b": {
          "model_module": "@jupyter-widgets/base",
          "model_name": "LayoutModel",
          "model_module_version": "1.2.0",
          "state": {
            "_model_module": "@jupyter-widgets/base",
            "_model_module_version": "1.2.0",
            "_model_name": "LayoutModel",
            "_view_count": null,
            "_view_module": "@jupyter-widgets/base",
            "_view_module_version": "1.2.0",
            "_view_name": "LayoutView",
            "align_content": null,
            "align_items": null,
            "align_self": null,
            "border": null,
            "bottom": null,
            "display": null,
            "flex": null,
            "flex_flow": null,
            "grid_area": null,
            "grid_auto_columns": null,
            "grid_auto_flow": null,
            "grid_auto_rows": null,
            "grid_column": null,
            "grid_gap": null,
            "grid_row": null,
            "grid_template_areas": null,
            "grid_template_columns": null,
            "grid_template_rows": null,
            "height": null,
            "justify_content": null,
            "justify_items": null,
            "left": null,
            "margin": null,
            "max_height": null,
            "max_width": null,
            "min_height": null,
            "min_width": null,
            "object_fit": null,
            "object_position": null,
            "order": null,
            "overflow": null,
            "overflow_x": null,
            "overflow_y": null,
            "padding": null,
            "right": null,
            "top": null,
            "visibility": null,
            "width": null
          }
        },
        "d157a85b99704eb39024bb279cface11": {
          "model_module": "@jupyter-widgets/controls",
          "model_name": "DescriptionStyleModel",
          "model_module_version": "1.5.0",
          "state": {
            "_model_module": "@jupyter-widgets/controls",
            "_model_module_version": "1.5.0",
            "_model_name": "DescriptionStyleModel",
            "_view_count": null,
            "_view_module": "@jupyter-widgets/base",
            "_view_module_version": "1.2.0",
            "_view_name": "StyleView",
            "description_width": ""
          }
        },
        "5be562efd0004bd393abd2d9c8d95c77": {
          "model_module": "@jupyter-widgets/base",
          "model_name": "LayoutModel",
          "model_module_version": "1.2.0",
          "state": {
            "_model_module": "@jupyter-widgets/base",
            "_model_module_version": "1.2.0",
            "_model_name": "LayoutModel",
            "_view_count": null,
            "_view_module": "@jupyter-widgets/base",
            "_view_module_version": "1.2.0",
            "_view_name": "LayoutView",
            "align_content": null,
            "align_items": null,
            "align_self": null,
            "border": null,
            "bottom": null,
            "display": null,
            "flex": null,
            "flex_flow": null,
            "grid_area": null,
            "grid_auto_columns": null,
            "grid_auto_flow": null,
            "grid_auto_rows": null,
            "grid_column": null,
            "grid_gap": null,
            "grid_row": null,
            "grid_template_areas": null,
            "grid_template_columns": null,
            "grid_template_rows": null,
            "height": null,
            "justify_content": null,
            "justify_items": null,
            "left": null,
            "margin": null,
            "max_height": null,
            "max_width": null,
            "min_height": null,
            "min_width": null,
            "object_fit": null,
            "object_position": null,
            "order": null,
            "overflow": null,
            "overflow_x": null,
            "overflow_y": null,
            "padding": null,
            "right": null,
            "top": null,
            "visibility": null,
            "width": null
          }
        },
        "5e76511d85cf4650a1217412bd78919d": {
          "model_module": "@jupyter-widgets/controls",
          "model_name": "ProgressStyleModel",
          "model_module_version": "1.5.0",
          "state": {
            "_model_module": "@jupyter-widgets/controls",
            "_model_module_version": "1.5.0",
            "_model_name": "ProgressStyleModel",
            "_view_count": null,
            "_view_module": "@jupyter-widgets/base",
            "_view_module_version": "1.2.0",
            "_view_name": "StyleView",
            "bar_color": null,
            "description_width": ""
          }
        },
        "9262348e2ba14ee6bcff3c2d99b76ab8": {
          "model_module": "@jupyter-widgets/base",
          "model_name": "LayoutModel",
          "model_module_version": "1.2.0",
          "state": {
            "_model_module": "@jupyter-widgets/base",
            "_model_module_version": "1.2.0",
            "_model_name": "LayoutModel",
            "_view_count": null,
            "_view_module": "@jupyter-widgets/base",
            "_view_module_version": "1.2.0",
            "_view_name": "LayoutView",
            "align_content": null,
            "align_items": null,
            "align_self": null,
            "border": null,
            "bottom": null,
            "display": null,
            "flex": null,
            "flex_flow": null,
            "grid_area": null,
            "grid_auto_columns": null,
            "grid_auto_flow": null,
            "grid_auto_rows": null,
            "grid_column": null,
            "grid_gap": null,
            "grid_row": null,
            "grid_template_areas": null,
            "grid_template_columns": null,
            "grid_template_rows": null,
            "height": null,
            "justify_content": null,
            "justify_items": null,
            "left": null,
            "margin": null,
            "max_height": null,
            "max_width": null,
            "min_height": null,
            "min_width": null,
            "object_fit": null,
            "object_position": null,
            "order": null,
            "overflow": null,
            "overflow_x": null,
            "overflow_y": null,
            "padding": null,
            "right": null,
            "top": null,
            "visibility": null,
            "width": null
          }
        },
        "7b29be783bd544a09254f13eadaeb261": {
          "model_module": "@jupyter-widgets/controls",
          "model_name": "DescriptionStyleModel",
          "model_module_version": "1.5.0",
          "state": {
            "_model_module": "@jupyter-widgets/controls",
            "_model_module_version": "1.5.0",
            "_model_name": "DescriptionStyleModel",
            "_view_count": null,
            "_view_module": "@jupyter-widgets/base",
            "_view_module_version": "1.2.0",
            "_view_name": "StyleView",
            "description_width": ""
          }
        },
        "2c2221c85bdf4991ae4ed40c180b7733": {
          "model_module": "@jupyter-widgets/controls",
          "model_name": "HBoxModel",
          "model_module_version": "1.5.0",
          "state": {
            "_dom_classes": [],
            "_model_module": "@jupyter-widgets/controls",
            "_model_module_version": "1.5.0",
            "_model_name": "HBoxModel",
            "_view_count": null,
            "_view_module": "@jupyter-widgets/controls",
            "_view_module_version": "1.5.0",
            "_view_name": "HBoxView",
            "box_style": "",
            "children": [
              "IPY_MODEL_27671b2fd4ef45b6b41972acf7811345",
              "IPY_MODEL_3674cd2b5d6642ff97b789ee8cb545d2",
              "IPY_MODEL_f23f4906f2da46d6a6205692d594d979"
            ],
            "layout": "IPY_MODEL_1acc70047dc54b658333eb533d430b34"
          }
        },
        "27671b2fd4ef45b6b41972acf7811345": {
          "model_module": "@jupyter-widgets/controls",
          "model_name": "HTMLModel",
          "model_module_version": "1.5.0",
          "state": {
            "_dom_classes": [],
            "_model_module": "@jupyter-widgets/controls",
            "_model_module_version": "1.5.0",
            "_model_name": "HTMLModel",
            "_view_count": null,
            "_view_module": "@jupyter-widgets/controls",
            "_view_module_version": "1.5.0",
            "_view_name": "HTMLView",
            "description": "",
            "description_tooltip": null,
            "layout": "IPY_MODEL_4407f85275c74ec4a1edf1e318c13712",
            "placeholder": "​",
            "style": "IPY_MODEL_d0f75c9d8c2747c289d26bcab0732e55",
            "value": "tokenizer_config.json: 100%"
          }
        },
        "3674cd2b5d6642ff97b789ee8cb545d2": {
          "model_module": "@jupyter-widgets/controls",
          "model_name": "FloatProgressModel",
          "model_module_version": "1.5.0",
          "state": {
            "_dom_classes": [],
            "_model_module": "@jupyter-widgets/controls",
            "_model_module_version": "1.5.0",
            "_model_name": "FloatProgressModel",
            "_view_count": null,
            "_view_module": "@jupyter-widgets/controls",
            "_view_module_version": "1.5.0",
            "_view_name": "ProgressView",
            "bar_style": "success",
            "description": "",
            "description_tooltip": null,
            "layout": "IPY_MODEL_79333f2aadaa45259c94bc51ad65863a",
            "max": 806,
            "min": 0,
            "orientation": "horizontal",
            "style": "IPY_MODEL_970c9b05ce6d48b6947d0b46ee5edd0d",
            "value": 806
          }
        },
        "f23f4906f2da46d6a6205692d594d979": {
          "model_module": "@jupyter-widgets/controls",
          "model_name": "HTMLModel",
          "model_module_version": "1.5.0",
          "state": {
            "_dom_classes": [],
            "_model_module": "@jupyter-widgets/controls",
            "_model_module_version": "1.5.0",
            "_model_name": "HTMLModel",
            "_view_count": null,
            "_view_module": "@jupyter-widgets/controls",
            "_view_module_version": "1.5.0",
            "_view_name": "HTMLView",
            "description": "",
            "description_tooltip": null,
            "layout": "IPY_MODEL_ef9652cb10e945ef8aca5fad710bf236",
            "placeholder": "​",
            "style": "IPY_MODEL_4aaa0b13f2fd468a9da9861da1d6b4d3",
            "value": " 806/806 [00:00&lt;00:00, 17.9kB/s]"
          }
        },
        "1acc70047dc54b658333eb533d430b34": {
          "model_module": "@jupyter-widgets/base",
          "model_name": "LayoutModel",
          "model_module_version": "1.2.0",
          "state": {
            "_model_module": "@jupyter-widgets/base",
            "_model_module_version": "1.2.0",
            "_model_name": "LayoutModel",
            "_view_count": null,
            "_view_module": "@jupyter-widgets/base",
            "_view_module_version": "1.2.0",
            "_view_name": "LayoutView",
            "align_content": null,
            "align_items": null,
            "align_self": null,
            "border": null,
            "bottom": null,
            "display": null,
            "flex": null,
            "flex_flow": null,
            "grid_area": null,
            "grid_auto_columns": null,
            "grid_auto_flow": null,
            "grid_auto_rows": null,
            "grid_column": null,
            "grid_gap": null,
            "grid_row": null,
            "grid_template_areas": null,
            "grid_template_columns": null,
            "grid_template_rows": null,
            "height": null,
            "justify_content": null,
            "justify_items": null,
            "left": null,
            "margin": null,
            "max_height": null,
            "max_width": null,
            "min_height": null,
            "min_width": null,
            "object_fit": null,
            "object_position": null,
            "order": null,
            "overflow": null,
            "overflow_x": null,
            "overflow_y": null,
            "padding": null,
            "right": null,
            "top": null,
            "visibility": null,
            "width": null
          }
        },
        "4407f85275c74ec4a1edf1e318c13712": {
          "model_module": "@jupyter-widgets/base",
          "model_name": "LayoutModel",
          "model_module_version": "1.2.0",
          "state": {
            "_model_module": "@jupyter-widgets/base",
            "_model_module_version": "1.2.0",
            "_model_name": "LayoutModel",
            "_view_count": null,
            "_view_module": "@jupyter-widgets/base",
            "_view_module_version": "1.2.0",
            "_view_name": "LayoutView",
            "align_content": null,
            "align_items": null,
            "align_self": null,
            "border": null,
            "bottom": null,
            "display": null,
            "flex": null,
            "flex_flow": null,
            "grid_area": null,
            "grid_auto_columns": null,
            "grid_auto_flow": null,
            "grid_auto_rows": null,
            "grid_column": null,
            "grid_gap": null,
            "grid_row": null,
            "grid_template_areas": null,
            "grid_template_columns": null,
            "grid_template_rows": null,
            "height": null,
            "justify_content": null,
            "justify_items": null,
            "left": null,
            "margin": null,
            "max_height": null,
            "max_width": null,
            "min_height": null,
            "min_width": null,
            "object_fit": null,
            "object_position": null,
            "order": null,
            "overflow": null,
            "overflow_x": null,
            "overflow_y": null,
            "padding": null,
            "right": null,
            "top": null,
            "visibility": null,
            "width": null
          }
        },
        "d0f75c9d8c2747c289d26bcab0732e55": {
          "model_module": "@jupyter-widgets/controls",
          "model_name": "DescriptionStyleModel",
          "model_module_version": "1.5.0",
          "state": {
            "_model_module": "@jupyter-widgets/controls",
            "_model_module_version": "1.5.0",
            "_model_name": "DescriptionStyleModel",
            "_view_count": null,
            "_view_module": "@jupyter-widgets/base",
            "_view_module_version": "1.2.0",
            "_view_name": "StyleView",
            "description_width": ""
          }
        },
        "79333f2aadaa45259c94bc51ad65863a": {
          "model_module": "@jupyter-widgets/base",
          "model_name": "LayoutModel",
          "model_module_version": "1.2.0",
          "state": {
            "_model_module": "@jupyter-widgets/base",
            "_model_module_version": "1.2.0",
            "_model_name": "LayoutModel",
            "_view_count": null,
            "_view_module": "@jupyter-widgets/base",
            "_view_module_version": "1.2.0",
            "_view_name": "LayoutView",
            "align_content": null,
            "align_items": null,
            "align_self": null,
            "border": null,
            "bottom": null,
            "display": null,
            "flex": null,
            "flex_flow": null,
            "grid_area": null,
            "grid_auto_columns": null,
            "grid_auto_flow": null,
            "grid_auto_rows": null,
            "grid_column": null,
            "grid_gap": null,
            "grid_row": null,
            "grid_template_areas": null,
            "grid_template_columns": null,
            "grid_template_rows": null,
            "height": null,
            "justify_content": null,
            "justify_items": null,
            "left": null,
            "margin": null,
            "max_height": null,
            "max_width": null,
            "min_height": null,
            "min_width": null,
            "object_fit": null,
            "object_position": null,
            "order": null,
            "overflow": null,
            "overflow_x": null,
            "overflow_y": null,
            "padding": null,
            "right": null,
            "top": null,
            "visibility": null,
            "width": null
          }
        },
        "970c9b05ce6d48b6947d0b46ee5edd0d": {
          "model_module": "@jupyter-widgets/controls",
          "model_name": "ProgressStyleModel",
          "model_module_version": "1.5.0",
          "state": {
            "_model_module": "@jupyter-widgets/controls",
            "_model_module_version": "1.5.0",
            "_model_name": "ProgressStyleModel",
            "_view_count": null,
            "_view_module": "@jupyter-widgets/base",
            "_view_module_version": "1.2.0",
            "_view_name": "StyleView",
            "bar_color": null,
            "description_width": ""
          }
        },
        "ef9652cb10e945ef8aca5fad710bf236": {
          "model_module": "@jupyter-widgets/base",
          "model_name": "LayoutModel",
          "model_module_version": "1.2.0",
          "state": {
            "_model_module": "@jupyter-widgets/base",
            "_model_module_version": "1.2.0",
            "_model_name": "LayoutModel",
            "_view_count": null,
            "_view_module": "@jupyter-widgets/base",
            "_view_module_version": "1.2.0",
            "_view_name": "LayoutView",
            "align_content": null,
            "align_items": null,
            "align_self": null,
            "border": null,
            "bottom": null,
            "display": null,
            "flex": null,
            "flex_flow": null,
            "grid_area": null,
            "grid_auto_columns": null,
            "grid_auto_flow": null,
            "grid_auto_rows": null,
            "grid_column": null,
            "grid_gap": null,
            "grid_row": null,
            "grid_template_areas": null,
            "grid_template_columns": null,
            "grid_template_rows": null,
            "height": null,
            "justify_content": null,
            "justify_items": null,
            "left": null,
            "margin": null,
            "max_height": null,
            "max_width": null,
            "min_height": null,
            "min_width": null,
            "object_fit": null,
            "object_position": null,
            "order": null,
            "overflow": null,
            "overflow_x": null,
            "overflow_y": null,
            "padding": null,
            "right": null,
            "top": null,
            "visibility": null,
            "width": null
          }
        },
        "4aaa0b13f2fd468a9da9861da1d6b4d3": {
          "model_module": "@jupyter-widgets/controls",
          "model_name": "DescriptionStyleModel",
          "model_module_version": "1.5.0",
          "state": {
            "_model_module": "@jupyter-widgets/controls",
            "_model_module_version": "1.5.0",
            "_model_name": "DescriptionStyleModel",
            "_view_count": null,
            "_view_module": "@jupyter-widgets/base",
            "_view_module_version": "1.2.0",
            "_view_name": "StyleView",
            "description_width": ""
          }
        },
        "831a8c9284e2449a946fdc806c232eca": {
          "model_module": "@jupyter-widgets/controls",
          "model_name": "HBoxModel",
          "model_module_version": "1.5.0",
          "state": {
            "_dom_classes": [],
            "_model_module": "@jupyter-widgets/controls",
            "_model_module_version": "1.5.0",
            "_model_name": "HBoxModel",
            "_view_count": null,
            "_view_module": "@jupyter-widgets/controls",
            "_view_module_version": "1.5.0",
            "_view_name": "HBoxView",
            "box_style": "",
            "children": [
              "IPY_MODEL_1dcf31db8e2a48b590795221a711d029",
              "IPY_MODEL_31e12214d647418b98b55fcaa07e7d79",
              "IPY_MODEL_b2450cbb9c3745c7a25f1bf2ad688e2d"
            ],
            "layout": "IPY_MODEL_a7b370776c74435b8ae2b91ebe845ede"
          }
        },
        "1dcf31db8e2a48b590795221a711d029": {
          "model_module": "@jupyter-widgets/controls",
          "model_name": "HTMLModel",
          "model_module_version": "1.5.0",
          "state": {
            "_dom_classes": [],
            "_model_module": "@jupyter-widgets/controls",
            "_model_module_version": "1.5.0",
            "_model_name": "HTMLModel",
            "_view_count": null,
            "_view_module": "@jupyter-widgets/controls",
            "_view_module_version": "1.5.0",
            "_view_name": "HTMLView",
            "description": "",
            "description_tooltip": null,
            "layout": "IPY_MODEL_686413e7fee7461999dc5179cafbf5fe",
            "placeholder": "​",
            "style": "IPY_MODEL_2a9789e90a694cc48ad1e9881ecfe6a4",
            "value": "config.json: 100%"
          }
        },
        "31e12214d647418b98b55fcaa07e7d79": {
          "model_module": "@jupyter-widgets/controls",
          "model_name": "FloatProgressModel",
          "model_module_version": "1.5.0",
          "state": {
            "_dom_classes": [],
            "_model_module": "@jupyter-widgets/controls",
            "_model_module_version": "1.5.0",
            "_model_name": "FloatProgressModel",
            "_view_count": null,
            "_view_module": "@jupyter-widgets/controls",
            "_view_module_version": "1.5.0",
            "_view_name": "ProgressView",
            "bar_style": "success",
            "description": "",
            "description_tooltip": null,
            "layout": "IPY_MODEL_074280a8ab3d4318bef8d304bdc3f434",
            "max": 547,
            "min": 0,
            "orientation": "horizontal",
            "style": "IPY_MODEL_e10e79eafa9640db96379409585e0693",
            "value": 547
          }
        },
        "b2450cbb9c3745c7a25f1bf2ad688e2d": {
          "model_module": "@jupyter-widgets/controls",
          "model_name": "HTMLModel",
          "model_module_version": "1.5.0",
          "state": {
            "_dom_classes": [],
            "_model_module": "@jupyter-widgets/controls",
            "_model_module_version": "1.5.0",
            "_model_name": "HTMLModel",
            "_view_count": null,
            "_view_module": "@jupyter-widgets/controls",
            "_view_module_version": "1.5.0",
            "_view_name": "HTMLView",
            "description": "",
            "description_tooltip": null,
            "layout": "IPY_MODEL_1e300ef6ecfd4b4e94a22deff54292b1",
            "placeholder": "​",
            "style": "IPY_MODEL_726e3908aa10448ab7d7c6abb8a40ef9",
            "value": " 547/547 [00:00&lt;00:00, 27.5kB/s]"
          }
        },
        "a7b370776c74435b8ae2b91ebe845ede": {
          "model_module": "@jupyter-widgets/base",
          "model_name": "LayoutModel",
          "model_module_version": "1.2.0",
          "state": {
            "_model_module": "@jupyter-widgets/base",
            "_model_module_version": "1.2.0",
            "_model_name": "LayoutModel",
            "_view_count": null,
            "_view_module": "@jupyter-widgets/base",
            "_view_module_version": "1.2.0",
            "_view_name": "LayoutView",
            "align_content": null,
            "align_items": null,
            "align_self": null,
            "border": null,
            "bottom": null,
            "display": null,
            "flex": null,
            "flex_flow": null,
            "grid_area": null,
            "grid_auto_columns": null,
            "grid_auto_flow": null,
            "grid_auto_rows": null,
            "grid_column": null,
            "grid_gap": null,
            "grid_row": null,
            "grid_template_areas": null,
            "grid_template_columns": null,
            "grid_template_rows": null,
            "height": null,
            "justify_content": null,
            "justify_items": null,
            "left": null,
            "margin": null,
            "max_height": null,
            "max_width": null,
            "min_height": null,
            "min_width": null,
            "object_fit": null,
            "object_position": null,
            "order": null,
            "overflow": null,
            "overflow_x": null,
            "overflow_y": null,
            "padding": null,
            "right": null,
            "top": null,
            "visibility": null,
            "width": null
          }
        },
        "686413e7fee7461999dc5179cafbf5fe": {
          "model_module": "@jupyter-widgets/base",
          "model_name": "LayoutModel",
          "model_module_version": "1.2.0",
          "state": {
            "_model_module": "@jupyter-widgets/base",
            "_model_module_version": "1.2.0",
            "_model_name": "LayoutModel",
            "_view_count": null,
            "_view_module": "@jupyter-widgets/base",
            "_view_module_version": "1.2.0",
            "_view_name": "LayoutView",
            "align_content": null,
            "align_items": null,
            "align_self": null,
            "border": null,
            "bottom": null,
            "display": null,
            "flex": null,
            "flex_flow": null,
            "grid_area": null,
            "grid_auto_columns": null,
            "grid_auto_flow": null,
            "grid_auto_rows": null,
            "grid_column": null,
            "grid_gap": null,
            "grid_row": null,
            "grid_template_areas": null,
            "grid_template_columns": null,
            "grid_template_rows": null,
            "height": null,
            "justify_content": null,
            "justify_items": null,
            "left": null,
            "margin": null,
            "max_height": null,
            "max_width": null,
            "min_height": null,
            "min_width": null,
            "object_fit": null,
            "object_position": null,
            "order": null,
            "overflow": null,
            "overflow_x": null,
            "overflow_y": null,
            "padding": null,
            "right": null,
            "top": null,
            "visibility": null,
            "width": null
          }
        },
        "2a9789e90a694cc48ad1e9881ecfe6a4": {
          "model_module": "@jupyter-widgets/controls",
          "model_name": "DescriptionStyleModel",
          "model_module_version": "1.5.0",
          "state": {
            "_model_module": "@jupyter-widgets/controls",
            "_model_module_version": "1.5.0",
            "_model_name": "DescriptionStyleModel",
            "_view_count": null,
            "_view_module": "@jupyter-widgets/base",
            "_view_module_version": "1.2.0",
            "_view_name": "StyleView",
            "description_width": ""
          }
        },
        "074280a8ab3d4318bef8d304bdc3f434": {
          "model_module": "@jupyter-widgets/base",
          "model_name": "LayoutModel",
          "model_module_version": "1.2.0",
          "state": {
            "_model_module": "@jupyter-widgets/base",
            "_model_module_version": "1.2.0",
            "_model_name": "LayoutModel",
            "_view_count": null,
            "_view_module": "@jupyter-widgets/base",
            "_view_module_version": "1.2.0",
            "_view_name": "LayoutView",
            "align_content": null,
            "align_items": null,
            "align_self": null,
            "border": null,
            "bottom": null,
            "display": null,
            "flex": null,
            "flex_flow": null,
            "grid_area": null,
            "grid_auto_columns": null,
            "grid_auto_flow": null,
            "grid_auto_rows": null,
            "grid_column": null,
            "grid_gap": null,
            "grid_row": null,
            "grid_template_areas": null,
            "grid_template_columns": null,
            "grid_template_rows": null,
            "height": null,
            "justify_content": null,
            "justify_items": null,
            "left": null,
            "margin": null,
            "max_height": null,
            "max_width": null,
            "min_height": null,
            "min_width": null,
            "object_fit": null,
            "object_position": null,
            "order": null,
            "overflow": null,
            "overflow_x": null,
            "overflow_y": null,
            "padding": null,
            "right": null,
            "top": null,
            "visibility": null,
            "width": null
          }
        },
        "e10e79eafa9640db96379409585e0693": {
          "model_module": "@jupyter-widgets/controls",
          "model_name": "ProgressStyleModel",
          "model_module_version": "1.5.0",
          "state": {
            "_model_module": "@jupyter-widgets/controls",
            "_model_module_version": "1.5.0",
            "_model_name": "ProgressStyleModel",
            "_view_count": null,
            "_view_module": "@jupyter-widgets/base",
            "_view_module_version": "1.2.0",
            "_view_name": "StyleView",
            "bar_color": null,
            "description_width": ""
          }
        },
        "1e300ef6ecfd4b4e94a22deff54292b1": {
          "model_module": "@jupyter-widgets/base",
          "model_name": "LayoutModel",
          "model_module_version": "1.2.0",
          "state": {
            "_model_module": "@jupyter-widgets/base",
            "_model_module_version": "1.2.0",
            "_model_name": "LayoutModel",
            "_view_count": null,
            "_view_module": "@jupyter-widgets/base",
            "_view_module_version": "1.2.0",
            "_view_name": "LayoutView",
            "align_content": null,
            "align_items": null,
            "align_self": null,
            "border": null,
            "bottom": null,
            "display": null,
            "flex": null,
            "flex_flow": null,
            "grid_area": null,
            "grid_auto_columns": null,
            "grid_auto_flow": null,
            "grid_auto_rows": null,
            "grid_column": null,
            "grid_gap": null,
            "grid_row": null,
            "grid_template_areas": null,
            "grid_template_columns": null,
            "grid_template_rows": null,
            "height": null,
            "justify_content": null,
            "justify_items": null,
            "left": null,
            "margin": null,
            "max_height": null,
            "max_width": null,
            "min_height": null,
            "min_width": null,
            "object_fit": null,
            "object_position": null,
            "order": null,
            "overflow": null,
            "overflow_x": null,
            "overflow_y": null,
            "padding": null,
            "right": null,
            "top": null,
            "visibility": null,
            "width": null
          }
        },
        "726e3908aa10448ab7d7c6abb8a40ef9": {
          "model_module": "@jupyter-widgets/controls",
          "model_name": "DescriptionStyleModel",
          "model_module_version": "1.5.0",
          "state": {
            "_model_module": "@jupyter-widgets/controls",
            "_model_module_version": "1.5.0",
            "_model_name": "DescriptionStyleModel",
            "_view_count": null,
            "_view_module": "@jupyter-widgets/base",
            "_view_module_version": "1.2.0",
            "_view_name": "StyleView",
            "description_width": ""
          }
        },
        "5c02c23627644ff887ef284abc22d3d4": {
          "model_module": "@jupyter-widgets/controls",
          "model_name": "HBoxModel",
          "model_module_version": "1.5.0",
          "state": {
            "_dom_classes": [],
            "_model_module": "@jupyter-widgets/controls",
            "_model_module_version": "1.5.0",
            "_model_name": "HBoxModel",
            "_view_count": null,
            "_view_module": "@jupyter-widgets/controls",
            "_view_module_version": "1.5.0",
            "_view_name": "HBoxView",
            "box_style": "",
            "children": [
              "IPY_MODEL_3515b35bfae34ebf923e6f08a8a5977e",
              "IPY_MODEL_87dd5eae2aa24871bcbb0b577f037991",
              "IPY_MODEL_ce1e36d3b000457eaae3f6281c00a455"
            ],
            "layout": "IPY_MODEL_44230699bdc74a80ae2589208d52444a"
          }
        },
        "3515b35bfae34ebf923e6f08a8a5977e": {
          "model_module": "@jupyter-widgets/controls",
          "model_name": "HTMLModel",
          "model_module_version": "1.5.0",
          "state": {
            "_dom_classes": [],
            "_model_module": "@jupyter-widgets/controls",
            "_model_module_version": "1.5.0",
            "_model_name": "HTMLModel",
            "_view_count": null,
            "_view_module": "@jupyter-widgets/controls",
            "_view_module_version": "1.5.0",
            "_view_name": "HTMLView",
            "description": "",
            "description_tooltip": null,
            "layout": "IPY_MODEL_0901893480c94751983e38afcb5c3f8e",
            "placeholder": "​",
            "style": "IPY_MODEL_27e333c41570441bbad1b4a66533f0ce",
            "value": "config.json: 100%"
          }
        },
        "87dd5eae2aa24871bcbb0b577f037991": {
          "model_module": "@jupyter-widgets/controls",
          "model_name": "FloatProgressModel",
          "model_module_version": "1.5.0",
          "state": {
            "_dom_classes": [],
            "_model_module": "@jupyter-widgets/controls",
            "_model_module_version": "1.5.0",
            "_model_name": "FloatProgressModel",
            "_view_count": null,
            "_view_module": "@jupyter-widgets/controls",
            "_view_module_version": "1.5.0",
            "_view_name": "ProgressView",
            "bar_style": "success",
            "description": "",
            "description_tooltip": null,
            "layout": "IPY_MODEL_fed244227f0447a884daec9a0ea62800",
            "max": 743,
            "min": 0,
            "orientation": "horizontal",
            "style": "IPY_MODEL_dc0d0fa43e2c4ab39c1b40e5ba11f815",
            "value": 743
          }
        },
        "ce1e36d3b000457eaae3f6281c00a455": {
          "model_module": "@jupyter-widgets/controls",
          "model_name": "HTMLModel",
          "model_module_version": "1.5.0",
          "state": {
            "_dom_classes": [],
            "_model_module": "@jupyter-widgets/controls",
            "_model_module_version": "1.5.0",
            "_model_name": "HTMLModel",
            "_view_count": null,
            "_view_module": "@jupyter-widgets/controls",
            "_view_module_version": "1.5.0",
            "_view_name": "HTMLView",
            "description": "",
            "description_tooltip": null,
            "layout": "IPY_MODEL_e866a416a8d448baa913decace412e76",
            "placeholder": "​",
            "style": "IPY_MODEL_573c0a861ee245c282d64ba7191bbc47",
            "value": " 743/743 [00:00&lt;00:00, 18.6kB/s]"
          }
        },
        "44230699bdc74a80ae2589208d52444a": {
          "model_module": "@jupyter-widgets/base",
          "model_name": "LayoutModel",
          "model_module_version": "1.2.0",
          "state": {
            "_model_module": "@jupyter-widgets/base",
            "_model_module_version": "1.2.0",
            "_model_name": "LayoutModel",
            "_view_count": null,
            "_view_module": "@jupyter-widgets/base",
            "_view_module_version": "1.2.0",
            "_view_name": "LayoutView",
            "align_content": null,
            "align_items": null,
            "align_self": null,
            "border": null,
            "bottom": null,
            "display": null,
            "flex": null,
            "flex_flow": null,
            "grid_area": null,
            "grid_auto_columns": null,
            "grid_auto_flow": null,
            "grid_auto_rows": null,
            "grid_column": null,
            "grid_gap": null,
            "grid_row": null,
            "grid_template_areas": null,
            "grid_template_columns": null,
            "grid_template_rows": null,
            "height": null,
            "justify_content": null,
            "justify_items": null,
            "left": null,
            "margin": null,
            "max_height": null,
            "max_width": null,
            "min_height": null,
            "min_width": null,
            "object_fit": null,
            "object_position": null,
            "order": null,
            "overflow": null,
            "overflow_x": null,
            "overflow_y": null,
            "padding": null,
            "right": null,
            "top": null,
            "visibility": null,
            "width": null
          }
        },
        "0901893480c94751983e38afcb5c3f8e": {
          "model_module": "@jupyter-widgets/base",
          "model_name": "LayoutModel",
          "model_module_version": "1.2.0",
          "state": {
            "_model_module": "@jupyter-widgets/base",
            "_model_module_version": "1.2.0",
            "_model_name": "LayoutModel",
            "_view_count": null,
            "_view_module": "@jupyter-widgets/base",
            "_view_module_version": "1.2.0",
            "_view_name": "LayoutView",
            "align_content": null,
            "align_items": null,
            "align_self": null,
            "border": null,
            "bottom": null,
            "display": null,
            "flex": null,
            "flex_flow": null,
            "grid_area": null,
            "grid_auto_columns": null,
            "grid_auto_flow": null,
            "grid_auto_rows": null,
            "grid_column": null,
            "grid_gap": null,
            "grid_row": null,
            "grid_template_areas": null,
            "grid_template_columns": null,
            "grid_template_rows": null,
            "height": null,
            "justify_content": null,
            "justify_items": null,
            "left": null,
            "margin": null,
            "max_height": null,
            "max_width": null,
            "min_height": null,
            "min_width": null,
            "object_fit": null,
            "object_position": null,
            "order": null,
            "overflow": null,
            "overflow_x": null,
            "overflow_y": null,
            "padding": null,
            "right": null,
            "top": null,
            "visibility": null,
            "width": null
          }
        },
        "27e333c41570441bbad1b4a66533f0ce": {
          "model_module": "@jupyter-widgets/controls",
          "model_name": "DescriptionStyleModel",
          "model_module_version": "1.5.0",
          "state": {
            "_model_module": "@jupyter-widgets/controls",
            "_model_module_version": "1.5.0",
            "_model_name": "DescriptionStyleModel",
            "_view_count": null,
            "_view_module": "@jupyter-widgets/base",
            "_view_module_version": "1.2.0",
            "_view_name": "StyleView",
            "description_width": ""
          }
        },
        "fed244227f0447a884daec9a0ea62800": {
          "model_module": "@jupyter-widgets/base",
          "model_name": "LayoutModel",
          "model_module_version": "1.2.0",
          "state": {
            "_model_module": "@jupyter-widgets/base",
            "_model_module_version": "1.2.0",
            "_model_name": "LayoutModel",
            "_view_count": null,
            "_view_module": "@jupyter-widgets/base",
            "_view_module_version": "1.2.0",
            "_view_name": "LayoutView",
            "align_content": null,
            "align_items": null,
            "align_self": null,
            "border": null,
            "bottom": null,
            "display": null,
            "flex": null,
            "flex_flow": null,
            "grid_area": null,
            "grid_auto_columns": null,
            "grid_auto_flow": null,
            "grid_auto_rows": null,
            "grid_column": null,
            "grid_gap": null,
            "grid_row": null,
            "grid_template_areas": null,
            "grid_template_columns": null,
            "grid_template_rows": null,
            "height": null,
            "justify_content": null,
            "justify_items": null,
            "left": null,
            "margin": null,
            "max_height": null,
            "max_width": null,
            "min_height": null,
            "min_width": null,
            "object_fit": null,
            "object_position": null,
            "order": null,
            "overflow": null,
            "overflow_x": null,
            "overflow_y": null,
            "padding": null,
            "right": null,
            "top": null,
            "visibility": null,
            "width": null
          }
        },
        "dc0d0fa43e2c4ab39c1b40e5ba11f815": {
          "model_module": "@jupyter-widgets/controls",
          "model_name": "ProgressStyleModel",
          "model_module_version": "1.5.0",
          "state": {
            "_model_module": "@jupyter-widgets/controls",
            "_model_module_version": "1.5.0",
            "_model_name": "ProgressStyleModel",
            "_view_count": null,
            "_view_module": "@jupyter-widgets/base",
            "_view_module_version": "1.2.0",
            "_view_name": "StyleView",
            "bar_color": null,
            "description_width": ""
          }
        },
        "e866a416a8d448baa913decace412e76": {
          "model_module": "@jupyter-widgets/base",
          "model_name": "LayoutModel",
          "model_module_version": "1.2.0",
          "state": {
            "_model_module": "@jupyter-widgets/base",
            "_model_module_version": "1.2.0",
            "_model_name": "LayoutModel",
            "_view_count": null,
            "_view_module": "@jupyter-widgets/base",
            "_view_module_version": "1.2.0",
            "_view_name": "LayoutView",
            "align_content": null,
            "align_items": null,
            "align_self": null,
            "border": null,
            "bottom": null,
            "display": null,
            "flex": null,
            "flex_flow": null,
            "grid_area": null,
            "grid_auto_columns": null,
            "grid_auto_flow": null,
            "grid_auto_rows": null,
            "grid_column": null,
            "grid_gap": null,
            "grid_row": null,
            "grid_template_areas": null,
            "grid_template_columns": null,
            "grid_template_rows": null,
            "height": null,
            "justify_content": null,
            "justify_items": null,
            "left": null,
            "margin": null,
            "max_height": null,
            "max_width": null,
            "min_height": null,
            "min_width": null,
            "object_fit": null,
            "object_position": null,
            "order": null,
            "overflow": null,
            "overflow_x": null,
            "overflow_y": null,
            "padding": null,
            "right": null,
            "top": null,
            "visibility": null,
            "width": null
          }
        },
        "573c0a861ee245c282d64ba7191bbc47": {
          "model_module": "@jupyter-widgets/controls",
          "model_name": "DescriptionStyleModel",
          "model_module_version": "1.5.0",
          "state": {
            "_model_module": "@jupyter-widgets/controls",
            "_model_module_version": "1.5.0",
            "_model_name": "DescriptionStyleModel",
            "_view_count": null,
            "_view_module": "@jupyter-widgets/base",
            "_view_module_version": "1.2.0",
            "_view_name": "StyleView",
            "description_width": ""
          }
        },
        "73b61b3ba9bd435baba7c49446914805": {
          "model_module": "@jupyter-widgets/controls",
          "model_name": "HBoxModel",
          "model_module_version": "1.5.0",
          "state": {
            "_dom_classes": [],
            "_model_module": "@jupyter-widgets/controls",
            "_model_module_version": "1.5.0",
            "_model_name": "HBoxModel",
            "_view_count": null,
            "_view_module": "@jupyter-widgets/controls",
            "_view_module_version": "1.5.0",
            "_view_name": "HBoxView",
            "box_style": "",
            "children": [
              "IPY_MODEL_485361ea762b408892e803bb1272a3e9",
              "IPY_MODEL_f79582da345049a481df315c61bdddc3",
              "IPY_MODEL_813f9d8b449f4b47ad7e4f4156f93c3f"
            ],
            "layout": "IPY_MODEL_9dcf8a20c09a44efbb6af146fb33bd2e"
          }
        },
        "485361ea762b408892e803bb1272a3e9": {
          "model_module": "@jupyter-widgets/controls",
          "model_name": "HTMLModel",
          "model_module_version": "1.5.0",
          "state": {
            "_dom_classes": [],
            "_model_module": "@jupyter-widgets/controls",
            "_model_module_version": "1.5.0",
            "_model_name": "HTMLModel",
            "_view_count": null,
            "_view_module": "@jupyter-widgets/controls",
            "_view_module_version": "1.5.0",
            "_view_name": "HTMLView",
            "description": "",
            "description_tooltip": null,
            "layout": "IPY_MODEL_f9c5636c3374476bab849969fe82a388",
            "placeholder": "​",
            "style": "IPY_MODEL_b2d1ca19ad4b42d68e7ee46cf8703e25",
            "value": "vae/diffusion_pytorch_model.safetensors: 100%"
          }
        },
        "f79582da345049a481df315c61bdddc3": {
          "model_module": "@jupyter-widgets/controls",
          "model_name": "FloatProgressModel",
          "model_module_version": "1.5.0",
          "state": {
            "_dom_classes": [],
            "_model_module": "@jupyter-widgets/controls",
            "_model_module_version": "1.5.0",
            "_model_name": "FloatProgressModel",
            "_view_count": null,
            "_view_module": "@jupyter-widgets/controls",
            "_view_module_version": "1.5.0",
            "_view_name": "ProgressView",
            "bar_style": "success",
            "description": "",
            "description_tooltip": null,
            "layout": "IPY_MODEL_ae555fb7ac844121930273d422ab81b9",
            "max": 334643276,
            "min": 0,
            "orientation": "horizontal",
            "style": "IPY_MODEL_bb5d44f4212647cca3252250bd770df8",
            "value": 334643276
          }
        },
        "813f9d8b449f4b47ad7e4f4156f93c3f": {
          "model_module": "@jupyter-widgets/controls",
          "model_name": "HTMLModel",
          "model_module_version": "1.5.0",
          "state": {
            "_dom_classes": [],
            "_model_module": "@jupyter-widgets/controls",
            "_model_module_version": "1.5.0",
            "_model_name": "HTMLModel",
            "_view_count": null,
            "_view_module": "@jupyter-widgets/controls",
            "_view_module_version": "1.5.0",
            "_view_name": "HTMLView",
            "description": "",
            "description_tooltip": null,
            "layout": "IPY_MODEL_4f5e23a1eb6d49d0bde3a55d4698861a",
            "placeholder": "​",
            "style": "IPY_MODEL_715fcd4ae8b749bb9c8e788f314ca31e",
            "value": " 335M/335M [00:18&lt;00:00, 14.1MB/s]"
          }
        },
        "9dcf8a20c09a44efbb6af146fb33bd2e": {
          "model_module": "@jupyter-widgets/base",
          "model_name": "LayoutModel",
          "model_module_version": "1.2.0",
          "state": {
            "_model_module": "@jupyter-widgets/base",
            "_model_module_version": "1.2.0",
            "_model_name": "LayoutModel",
            "_view_count": null,
            "_view_module": "@jupyter-widgets/base",
            "_view_module_version": "1.2.0",
            "_view_name": "LayoutView",
            "align_content": null,
            "align_items": null,
            "align_self": null,
            "border": null,
            "bottom": null,
            "display": null,
            "flex": null,
            "flex_flow": null,
            "grid_area": null,
            "grid_auto_columns": null,
            "grid_auto_flow": null,
            "grid_auto_rows": null,
            "grid_column": null,
            "grid_gap": null,
            "grid_row": null,
            "grid_template_areas": null,
            "grid_template_columns": null,
            "grid_template_rows": null,
            "height": null,
            "justify_content": null,
            "justify_items": null,
            "left": null,
            "margin": null,
            "max_height": null,
            "max_width": null,
            "min_height": null,
            "min_width": null,
            "object_fit": null,
            "object_position": null,
            "order": null,
            "overflow": null,
            "overflow_x": null,
            "overflow_y": null,
            "padding": null,
            "right": null,
            "top": null,
            "visibility": null,
            "width": null
          }
        },
        "f9c5636c3374476bab849969fe82a388": {
          "model_module": "@jupyter-widgets/base",
          "model_name": "LayoutModel",
          "model_module_version": "1.2.0",
          "state": {
            "_model_module": "@jupyter-widgets/base",
            "_model_module_version": "1.2.0",
            "_model_name": "LayoutModel",
            "_view_count": null,
            "_view_module": "@jupyter-widgets/base",
            "_view_module_version": "1.2.0",
            "_view_name": "LayoutView",
            "align_content": null,
            "align_items": null,
            "align_self": null,
            "border": null,
            "bottom": null,
            "display": null,
            "flex": null,
            "flex_flow": null,
            "grid_area": null,
            "grid_auto_columns": null,
            "grid_auto_flow": null,
            "grid_auto_rows": null,
            "grid_column": null,
            "grid_gap": null,
            "grid_row": null,
            "grid_template_areas": null,
            "grid_template_columns": null,
            "grid_template_rows": null,
            "height": null,
            "justify_content": null,
            "justify_items": null,
            "left": null,
            "margin": null,
            "max_height": null,
            "max_width": null,
            "min_height": null,
            "min_width": null,
            "object_fit": null,
            "object_position": null,
            "order": null,
            "overflow": null,
            "overflow_x": null,
            "overflow_y": null,
            "padding": null,
            "right": null,
            "top": null,
            "visibility": null,
            "width": null
          }
        },
        "b2d1ca19ad4b42d68e7ee46cf8703e25": {
          "model_module": "@jupyter-widgets/controls",
          "model_name": "DescriptionStyleModel",
          "model_module_version": "1.5.0",
          "state": {
            "_model_module": "@jupyter-widgets/controls",
            "_model_module_version": "1.5.0",
            "_model_name": "DescriptionStyleModel",
            "_view_count": null,
            "_view_module": "@jupyter-widgets/base",
            "_view_module_version": "1.2.0",
            "_view_name": "StyleView",
            "description_width": ""
          }
        },
        "ae555fb7ac844121930273d422ab81b9": {
          "model_module": "@jupyter-widgets/base",
          "model_name": "LayoutModel",
          "model_module_version": "1.2.0",
          "state": {
            "_model_module": "@jupyter-widgets/base",
            "_model_module_version": "1.2.0",
            "_model_name": "LayoutModel",
            "_view_count": null,
            "_view_module": "@jupyter-widgets/base",
            "_view_module_version": "1.2.0",
            "_view_name": "LayoutView",
            "align_content": null,
            "align_items": null,
            "align_self": null,
            "border": null,
            "bottom": null,
            "display": null,
            "flex": null,
            "flex_flow": null,
            "grid_area": null,
            "grid_auto_columns": null,
            "grid_auto_flow": null,
            "grid_auto_rows": null,
            "grid_column": null,
            "grid_gap": null,
            "grid_row": null,
            "grid_template_areas": null,
            "grid_template_columns": null,
            "grid_template_rows": null,
            "height": null,
            "justify_content": null,
            "justify_items": null,
            "left": null,
            "margin": null,
            "max_height": null,
            "max_width": null,
            "min_height": null,
            "min_width": null,
            "object_fit": null,
            "object_position": null,
            "order": null,
            "overflow": null,
            "overflow_x": null,
            "overflow_y": null,
            "padding": null,
            "right": null,
            "top": null,
            "visibility": null,
            "width": null
          }
        },
        "bb5d44f4212647cca3252250bd770df8": {
          "model_module": "@jupyter-widgets/controls",
          "model_name": "ProgressStyleModel",
          "model_module_version": "1.5.0",
          "state": {
            "_model_module": "@jupyter-widgets/controls",
            "_model_module_version": "1.5.0",
            "_model_name": "ProgressStyleModel",
            "_view_count": null,
            "_view_module": "@jupyter-widgets/base",
            "_view_module_version": "1.2.0",
            "_view_name": "StyleView",
            "bar_color": null,
            "description_width": ""
          }
        },
        "4f5e23a1eb6d49d0bde3a55d4698861a": {
          "model_module": "@jupyter-widgets/base",
          "model_name": "LayoutModel",
          "model_module_version": "1.2.0",
          "state": {
            "_model_module": "@jupyter-widgets/base",
            "_model_module_version": "1.2.0",
            "_model_name": "LayoutModel",
            "_view_count": null,
            "_view_module": "@jupyter-widgets/base",
            "_view_module_version": "1.2.0",
            "_view_name": "LayoutView",
            "align_content": null,
            "align_items": null,
            "align_self": null,
            "border": null,
            "bottom": null,
            "display": null,
            "flex": null,
            "flex_flow": null,
            "grid_area": null,
            "grid_auto_columns": null,
            "grid_auto_flow": null,
            "grid_auto_rows": null,
            "grid_column": null,
            "grid_gap": null,
            "grid_row": null,
            "grid_template_areas": null,
            "grid_template_columns": null,
            "grid_template_rows": null,
            "height": null,
            "justify_content": null,
            "justify_items": null,
            "left": null,
            "margin": null,
            "max_height": null,
            "max_width": null,
            "min_height": null,
            "min_width": null,
            "object_fit": null,
            "object_position": null,
            "order": null,
            "overflow": null,
            "overflow_x": null,
            "overflow_y": null,
            "padding": null,
            "right": null,
            "top": null,
            "visibility": null,
            "width": null
          }
        },
        "715fcd4ae8b749bb9c8e788f314ca31e": {
          "model_module": "@jupyter-widgets/controls",
          "model_name": "DescriptionStyleModel",
          "model_module_version": "1.5.0",
          "state": {
            "_model_module": "@jupyter-widgets/controls",
            "_model_module_version": "1.5.0",
            "_model_name": "DescriptionStyleModel",
            "_view_count": null,
            "_view_module": "@jupyter-widgets/base",
            "_view_module_version": "1.2.0",
            "_view_name": "StyleView",
            "description_width": ""
          }
        },
        "b33a3030d06a4bc1b80c3ce125488a31": {
          "model_module": "@jupyter-widgets/controls",
          "model_name": "HBoxModel",
          "model_module_version": "1.5.0",
          "state": {
            "_dom_classes": [],
            "_model_module": "@jupyter-widgets/controls",
            "_model_module_version": "1.5.0",
            "_model_name": "HBoxModel",
            "_view_count": null,
            "_view_module": "@jupyter-widgets/controls",
            "_view_module_version": "1.5.0",
            "_view_name": "HBoxView",
            "box_style": "",
            "children": [
              "IPY_MODEL_872b2e9b0b0e41b18fa76773b2335f39",
              "IPY_MODEL_f516a895e9b740ce9b2a2f011296c88e",
              "IPY_MODEL_3545de5cabe14c63ad3f445ea11a2d4f"
            ],
            "layout": "IPY_MODEL_98e2e9a96ccb4b669a73e7a5cdba4eca"
          }
        },
        "872b2e9b0b0e41b18fa76773b2335f39": {
          "model_module": "@jupyter-widgets/controls",
          "model_name": "HTMLModel",
          "model_module_version": "1.5.0",
          "state": {
            "_dom_classes": [],
            "_model_module": "@jupyter-widgets/controls",
            "_model_module_version": "1.5.0",
            "_model_name": "HTMLModel",
            "_view_count": null,
            "_view_module": "@jupyter-widgets/controls",
            "_view_module_version": "1.5.0",
            "_view_name": "HTMLView",
            "description": "",
            "description_tooltip": null,
            "layout": "IPY_MODEL_95c4a2b9932b4324af67cca997821e12",
            "placeholder": "​",
            "style": "IPY_MODEL_21da9197d6f04044add4e9a50b0c81f7",
            "value": "Loading pipeline components...: 100%"
          }
        },
        "f516a895e9b740ce9b2a2f011296c88e": {
          "model_module": "@jupyter-widgets/controls",
          "model_name": "FloatProgressModel",
          "model_module_version": "1.5.0",
          "state": {
            "_dom_classes": [],
            "_model_module": "@jupyter-widgets/controls",
            "_model_module_version": "1.5.0",
            "_model_name": "FloatProgressModel",
            "_view_count": null,
            "_view_module": "@jupyter-widgets/controls",
            "_view_module_version": "1.5.0",
            "_view_name": "ProgressView",
            "bar_style": "success",
            "description": "",
            "description_tooltip": null,
            "layout": "IPY_MODEL_2eb08b49012c449e913dd5bfaa527ee4",
            "max": 7,
            "min": 0,
            "orientation": "horizontal",
            "style": "IPY_MODEL_e32db49ab48b42dea177494fdd472f05",
            "value": 7
          }
        },
        "3545de5cabe14c63ad3f445ea11a2d4f": {
          "model_module": "@jupyter-widgets/controls",
          "model_name": "HTMLModel",
          "model_module_version": "1.5.0",
          "state": {
            "_dom_classes": [],
            "_model_module": "@jupyter-widgets/controls",
            "_model_module_version": "1.5.0",
            "_model_name": "HTMLModel",
            "_view_count": null,
            "_view_module": "@jupyter-widgets/controls",
            "_view_module_version": "1.5.0",
            "_view_name": "HTMLView",
            "description": "",
            "description_tooltip": null,
            "layout": "IPY_MODEL_fb3f4de88a5a4112bb600036cc7f4afb",
            "placeholder": "​",
            "style": "IPY_MODEL_3cb0fb4272b44512b2e0db6821b84e0b",
            "value": " 7/7 [00:01&lt;00:00,  5.63it/s]"
          }
        },
        "98e2e9a96ccb4b669a73e7a5cdba4eca": {
          "model_module": "@jupyter-widgets/base",
          "model_name": "LayoutModel",
          "model_module_version": "1.2.0",
          "state": {
            "_model_module": "@jupyter-widgets/base",
            "_model_module_version": "1.2.0",
            "_model_name": "LayoutModel",
            "_view_count": null,
            "_view_module": "@jupyter-widgets/base",
            "_view_module_version": "1.2.0",
            "_view_name": "LayoutView",
            "align_content": null,
            "align_items": null,
            "align_self": null,
            "border": null,
            "bottom": null,
            "display": null,
            "flex": null,
            "flex_flow": null,
            "grid_area": null,
            "grid_auto_columns": null,
            "grid_auto_flow": null,
            "grid_auto_rows": null,
            "grid_column": null,
            "grid_gap": null,
            "grid_row": null,
            "grid_template_areas": null,
            "grid_template_columns": null,
            "grid_template_rows": null,
            "height": null,
            "justify_content": null,
            "justify_items": null,
            "left": null,
            "margin": null,
            "max_height": null,
            "max_width": null,
            "min_height": null,
            "min_width": null,
            "object_fit": null,
            "object_position": null,
            "order": null,
            "overflow": null,
            "overflow_x": null,
            "overflow_y": null,
            "padding": null,
            "right": null,
            "top": null,
            "visibility": null,
            "width": null
          }
        },
        "95c4a2b9932b4324af67cca997821e12": {
          "model_module": "@jupyter-widgets/base",
          "model_name": "LayoutModel",
          "model_module_version": "1.2.0",
          "state": {
            "_model_module": "@jupyter-widgets/base",
            "_model_module_version": "1.2.0",
            "_model_name": "LayoutModel",
            "_view_count": null,
            "_view_module": "@jupyter-widgets/base",
            "_view_module_version": "1.2.0",
            "_view_name": "LayoutView",
            "align_content": null,
            "align_items": null,
            "align_self": null,
            "border": null,
            "bottom": null,
            "display": null,
            "flex": null,
            "flex_flow": null,
            "grid_area": null,
            "grid_auto_columns": null,
            "grid_auto_flow": null,
            "grid_auto_rows": null,
            "grid_column": null,
            "grid_gap": null,
            "grid_row": null,
            "grid_template_areas": null,
            "grid_template_columns": null,
            "grid_template_rows": null,
            "height": null,
            "justify_content": null,
            "justify_items": null,
            "left": null,
            "margin": null,
            "max_height": null,
            "max_width": null,
            "min_height": null,
            "min_width": null,
            "object_fit": null,
            "object_position": null,
            "order": null,
            "overflow": null,
            "overflow_x": null,
            "overflow_y": null,
            "padding": null,
            "right": null,
            "top": null,
            "visibility": null,
            "width": null
          }
        },
        "21da9197d6f04044add4e9a50b0c81f7": {
          "model_module": "@jupyter-widgets/controls",
          "model_name": "DescriptionStyleModel",
          "model_module_version": "1.5.0",
          "state": {
            "_model_module": "@jupyter-widgets/controls",
            "_model_module_version": "1.5.0",
            "_model_name": "DescriptionStyleModel",
            "_view_count": null,
            "_view_module": "@jupyter-widgets/base",
            "_view_module_version": "1.2.0",
            "_view_name": "StyleView",
            "description_width": ""
          }
        },
        "2eb08b49012c449e913dd5bfaa527ee4": {
          "model_module": "@jupyter-widgets/base",
          "model_name": "LayoutModel",
          "model_module_version": "1.2.0",
          "state": {
            "_model_module": "@jupyter-widgets/base",
            "_model_module_version": "1.2.0",
            "_model_name": "LayoutModel",
            "_view_count": null,
            "_view_module": "@jupyter-widgets/base",
            "_view_module_version": "1.2.0",
            "_view_name": "LayoutView",
            "align_content": null,
            "align_items": null,
            "align_self": null,
            "border": null,
            "bottom": null,
            "display": null,
            "flex": null,
            "flex_flow": null,
            "grid_area": null,
            "grid_auto_columns": null,
            "grid_auto_flow": null,
            "grid_auto_rows": null,
            "grid_column": null,
            "grid_gap": null,
            "grid_row": null,
            "grid_template_areas": null,
            "grid_template_columns": null,
            "grid_template_rows": null,
            "height": null,
            "justify_content": null,
            "justify_items": null,
            "left": null,
            "margin": null,
            "max_height": null,
            "max_width": null,
            "min_height": null,
            "min_width": null,
            "object_fit": null,
            "object_position": null,
            "order": null,
            "overflow": null,
            "overflow_x": null,
            "overflow_y": null,
            "padding": null,
            "right": null,
            "top": null,
            "visibility": null,
            "width": null
          }
        },
        "e32db49ab48b42dea177494fdd472f05": {
          "model_module": "@jupyter-widgets/controls",
          "model_name": "ProgressStyleModel",
          "model_module_version": "1.5.0",
          "state": {
            "_model_module": "@jupyter-widgets/controls",
            "_model_module_version": "1.5.0",
            "_model_name": "ProgressStyleModel",
            "_view_count": null,
            "_view_module": "@jupyter-widgets/base",
            "_view_module_version": "1.2.0",
            "_view_name": "StyleView",
            "bar_color": null,
            "description_width": ""
          }
        },
        "fb3f4de88a5a4112bb600036cc7f4afb": {
          "model_module": "@jupyter-widgets/base",
          "model_name": "LayoutModel",
          "model_module_version": "1.2.0",
          "state": {
            "_model_module": "@jupyter-widgets/base",
            "_model_module_version": "1.2.0",
            "_model_name": "LayoutModel",
            "_view_count": null,
            "_view_module": "@jupyter-widgets/base",
            "_view_module_version": "1.2.0",
            "_view_name": "LayoutView",
            "align_content": null,
            "align_items": null,
            "align_self": null,
            "border": null,
            "bottom": null,
            "display": null,
            "flex": null,
            "flex_flow": null,
            "grid_area": null,
            "grid_auto_columns": null,
            "grid_auto_flow": null,
            "grid_auto_rows": null,
            "grid_column": null,
            "grid_gap": null,
            "grid_row": null,
            "grid_template_areas": null,
            "grid_template_columns": null,
            "grid_template_rows": null,
            "height": null,
            "justify_content": null,
            "justify_items": null,
            "left": null,
            "margin": null,
            "max_height": null,
            "max_width": null,
            "min_height": null,
            "min_width": null,
            "object_fit": null,
            "object_position": null,
            "order": null,
            "overflow": null,
            "overflow_x": null,
            "overflow_y": null,
            "padding": null,
            "right": null,
            "top": null,
            "visibility": null,
            "width": null
          }
        },
        "3cb0fb4272b44512b2e0db6821b84e0b": {
          "model_module": "@jupyter-widgets/controls",
          "model_name": "DescriptionStyleModel",
          "model_module_version": "1.5.0",
          "state": {
            "_model_module": "@jupyter-widgets/controls",
            "_model_module_version": "1.5.0",
            "_model_name": "DescriptionStyleModel",
            "_view_count": null,
            "_view_module": "@jupyter-widgets/base",
            "_view_module_version": "1.2.0",
            "_view_name": "StyleView",
            "description_width": ""
          }
        },
        "6704d561b02d4d9194bfb5595e0a47c1": {
          "model_module": "@jupyter-widgets/controls",
          "model_name": "HBoxModel",
          "model_module_version": "1.5.0",
          "state": {
            "_dom_classes": [],
            "_model_module": "@jupyter-widgets/controls",
            "_model_module_version": "1.5.0",
            "_model_name": "HBoxModel",
            "_view_count": null,
            "_view_module": "@jupyter-widgets/controls",
            "_view_module_version": "1.5.0",
            "_view_name": "HBoxView",
            "box_style": "",
            "children": [
              "IPY_MODEL_06c89f434f4344e28e8b957397318931",
              "IPY_MODEL_bccaa1aa4e004d088f9caefe5a460bba",
              "IPY_MODEL_ae086e5316204cc39e8096617ba4a068"
            ],
            "layout": "IPY_MODEL_2da7cfc147c741da80b0e3021ac45dcc"
          }
        },
        "06c89f434f4344e28e8b957397318931": {
          "model_module": "@jupyter-widgets/controls",
          "model_name": "HTMLModel",
          "model_module_version": "1.5.0",
          "state": {
            "_dom_classes": [],
            "_model_module": "@jupyter-widgets/controls",
            "_model_module_version": "1.5.0",
            "_model_name": "HTMLModel",
            "_view_count": null,
            "_view_module": "@jupyter-widgets/controls",
            "_view_module_version": "1.5.0",
            "_view_name": "HTMLView",
            "description": "",
            "description_tooltip": null,
            "layout": "IPY_MODEL_bd7d895e66494138b6bc786aad1bc5f8",
            "placeholder": "​",
            "style": "IPY_MODEL_bbc59726100e4a59871f6344e97266eb",
            "value": "100%"
          }
        },
        "bccaa1aa4e004d088f9caefe5a460bba": {
          "model_module": "@jupyter-widgets/controls",
          "model_name": "FloatProgressModel",
          "model_module_version": "1.5.0",
          "state": {
            "_dom_classes": [],
            "_model_module": "@jupyter-widgets/controls",
            "_model_module_version": "1.5.0",
            "_model_name": "FloatProgressModel",
            "_view_count": null,
            "_view_module": "@jupyter-widgets/controls",
            "_view_module_version": "1.5.0",
            "_view_name": "ProgressView",
            "bar_style": "success",
            "description": "",
            "description_tooltip": null,
            "layout": "IPY_MODEL_5b2e96315d914e5ca4e9ec7b7633b6fa",
            "max": 50,
            "min": 0,
            "orientation": "horizontal",
            "style": "IPY_MODEL_00b665df601e450fb3ef29cfa89be680",
            "value": 50
          }
        },
        "ae086e5316204cc39e8096617ba4a068": {
          "model_module": "@jupyter-widgets/controls",
          "model_name": "HTMLModel",
          "model_module_version": "1.5.0",
          "state": {
            "_dom_classes": [],
            "_model_module": "@jupyter-widgets/controls",
            "_model_module_version": "1.5.0",
            "_model_name": "HTMLModel",
            "_view_count": null,
            "_view_module": "@jupyter-widgets/controls",
            "_view_module_version": "1.5.0",
            "_view_name": "HTMLView",
            "description": "",
            "description_tooltip": null,
            "layout": "IPY_MODEL_c10a91fb5db749c4afca3622e139c9ab",
            "placeholder": "​",
            "style": "IPY_MODEL_22c56c507fdb45deb95e4b4a59291835",
            "value": " 50/50 [00:02&lt;00:00, 23.76it/s]"
          }
        },
        "2da7cfc147c741da80b0e3021ac45dcc": {
          "model_module": "@jupyter-widgets/base",
          "model_name": "LayoutModel",
          "model_module_version": "1.2.0",
          "state": {
            "_model_module": "@jupyter-widgets/base",
            "_model_module_version": "1.2.0",
            "_model_name": "LayoutModel",
            "_view_count": null,
            "_view_module": "@jupyter-widgets/base",
            "_view_module_version": "1.2.0",
            "_view_name": "LayoutView",
            "align_content": null,
            "align_items": null,
            "align_self": null,
            "border": null,
            "bottom": null,
            "display": null,
            "flex": null,
            "flex_flow": null,
            "grid_area": null,
            "grid_auto_columns": null,
            "grid_auto_flow": null,
            "grid_auto_rows": null,
            "grid_column": null,
            "grid_gap": null,
            "grid_row": null,
            "grid_template_areas": null,
            "grid_template_columns": null,
            "grid_template_rows": null,
            "height": null,
            "justify_content": null,
            "justify_items": null,
            "left": null,
            "margin": null,
            "max_height": null,
            "max_width": null,
            "min_height": null,
            "min_width": null,
            "object_fit": null,
            "object_position": null,
            "order": null,
            "overflow": null,
            "overflow_x": null,
            "overflow_y": null,
            "padding": null,
            "right": null,
            "top": null,
            "visibility": null,
            "width": null
          }
        },
        "bd7d895e66494138b6bc786aad1bc5f8": {
          "model_module": "@jupyter-widgets/base",
          "model_name": "LayoutModel",
          "model_module_version": "1.2.0",
          "state": {
            "_model_module": "@jupyter-widgets/base",
            "_model_module_version": "1.2.0",
            "_model_name": "LayoutModel",
            "_view_count": null,
            "_view_module": "@jupyter-widgets/base",
            "_view_module_version": "1.2.0",
            "_view_name": "LayoutView",
            "align_content": null,
            "align_items": null,
            "align_self": null,
            "border": null,
            "bottom": null,
            "display": null,
            "flex": null,
            "flex_flow": null,
            "grid_area": null,
            "grid_auto_columns": null,
            "grid_auto_flow": null,
            "grid_auto_rows": null,
            "grid_column": null,
            "grid_gap": null,
            "grid_row": null,
            "grid_template_areas": null,
            "grid_template_columns": null,
            "grid_template_rows": null,
            "height": null,
            "justify_content": null,
            "justify_items": null,
            "left": null,
            "margin": null,
            "max_height": null,
            "max_width": null,
            "min_height": null,
            "min_width": null,
            "object_fit": null,
            "object_position": null,
            "order": null,
            "overflow": null,
            "overflow_x": null,
            "overflow_y": null,
            "padding": null,
            "right": null,
            "top": null,
            "visibility": null,
            "width": null
          }
        },
        "bbc59726100e4a59871f6344e97266eb": {
          "model_module": "@jupyter-widgets/controls",
          "model_name": "DescriptionStyleModel",
          "model_module_version": "1.5.0",
          "state": {
            "_model_module": "@jupyter-widgets/controls",
            "_model_module_version": "1.5.0",
            "_model_name": "DescriptionStyleModel",
            "_view_count": null,
            "_view_module": "@jupyter-widgets/base",
            "_view_module_version": "1.2.0",
            "_view_name": "StyleView",
            "description_width": ""
          }
        },
        "5b2e96315d914e5ca4e9ec7b7633b6fa": {
          "model_module": "@jupyter-widgets/base",
          "model_name": "LayoutModel",
          "model_module_version": "1.2.0",
          "state": {
            "_model_module": "@jupyter-widgets/base",
            "_model_module_version": "1.2.0",
            "_model_name": "LayoutModel",
            "_view_count": null,
            "_view_module": "@jupyter-widgets/base",
            "_view_module_version": "1.2.0",
            "_view_name": "LayoutView",
            "align_content": null,
            "align_items": null,
            "align_self": null,
            "border": null,
            "bottom": null,
            "display": null,
            "flex": null,
            "flex_flow": null,
            "grid_area": null,
            "grid_auto_columns": null,
            "grid_auto_flow": null,
            "grid_auto_rows": null,
            "grid_column": null,
            "grid_gap": null,
            "grid_row": null,
            "grid_template_areas": null,
            "grid_template_columns": null,
            "grid_template_rows": null,
            "height": null,
            "justify_content": null,
            "justify_items": null,
            "left": null,
            "margin": null,
            "max_height": null,
            "max_width": null,
            "min_height": null,
            "min_width": null,
            "object_fit": null,
            "object_position": null,
            "order": null,
            "overflow": null,
            "overflow_x": null,
            "overflow_y": null,
            "padding": null,
            "right": null,
            "top": null,
            "visibility": null,
            "width": null
          }
        },
        "00b665df601e450fb3ef29cfa89be680": {
          "model_module": "@jupyter-widgets/controls",
          "model_name": "ProgressStyleModel",
          "model_module_version": "1.5.0",
          "state": {
            "_model_module": "@jupyter-widgets/controls",
            "_model_module_version": "1.5.0",
            "_model_name": "ProgressStyleModel",
            "_view_count": null,
            "_view_module": "@jupyter-widgets/base",
            "_view_module_version": "1.2.0",
            "_view_name": "StyleView",
            "bar_color": null,
            "description_width": ""
          }
        },
        "c10a91fb5db749c4afca3622e139c9ab": {
          "model_module": "@jupyter-widgets/base",
          "model_name": "LayoutModel",
          "model_module_version": "1.2.0",
          "state": {
            "_model_module": "@jupyter-widgets/base",
            "_model_module_version": "1.2.0",
            "_model_name": "LayoutModel",
            "_view_count": null,
            "_view_module": "@jupyter-widgets/base",
            "_view_module_version": "1.2.0",
            "_view_name": "LayoutView",
            "align_content": null,
            "align_items": null,
            "align_self": null,
            "border": null,
            "bottom": null,
            "display": null,
            "flex": null,
            "flex_flow": null,
            "grid_area": null,
            "grid_auto_columns": null,
            "grid_auto_flow": null,
            "grid_auto_rows": null,
            "grid_column": null,
            "grid_gap": null,
            "grid_row": null,
            "grid_template_areas": null,
            "grid_template_columns": null,
            "grid_template_rows": null,
            "height": null,
            "justify_content": null,
            "justify_items": null,
            "left": null,
            "margin": null,
            "max_height": null,
            "max_width": null,
            "min_height": null,
            "min_width": null,
            "object_fit": null,
            "object_position": null,
            "order": null,
            "overflow": null,
            "overflow_x": null,
            "overflow_y": null,
            "padding": null,
            "right": null,
            "top": null,
            "visibility": null,
            "width": null
          }
        },
        "22c56c507fdb45deb95e4b4a59291835": {
          "model_module": "@jupyter-widgets/controls",
          "model_name": "DescriptionStyleModel",
          "model_module_version": "1.5.0",
          "state": {
            "_model_module": "@jupyter-widgets/controls",
            "_model_module_version": "1.5.0",
            "_model_name": "DescriptionStyleModel",
            "_view_count": null,
            "_view_module": "@jupyter-widgets/base",
            "_view_module_version": "1.2.0",
            "_view_name": "StyleView",
            "description_width": ""
          }
        }
      }
    }
  },
  "cells": [
    {
      "cell_type": "markdown",
      "source": [
        "## **pip install**"
      ],
      "metadata": {
        "id": "hSy9rbAt1K_z"
      }
    },
    {
      "cell_type": "code",
      "execution_count": null,
      "metadata": {
        "id": "vLcOcGHn08vE"
      },
      "outputs": [],
      "source": [
        "%pip -q install --upgrade pip\n",
        "\n",
        "# 1) PyTorch + CUDA (Colab의 12.x 환경용)\n",
        "%pip -q install torch torchvision --index-url https://download.pytorch.org/whl/cu121\n",
        "\n",
        "# 2) Stable Diffusion 핵심\n",
        "%pip -q install diffusers[torch] transformers accelerate safetensors\n",
        "\n",
        "# 3) 텍스트 토크나이저/전처리(권장)\n",
        "%pip -q install sentencepiece ftfy\n",
        "\n",
        "# 4) 메모리/속도 최적화(권장)\n",
        "%pip -q install xformers\n",
        "\n",
        "# 5) 선택: 저용량 옵티마이저(필요할 때만)\n",
        "# %pip -q install bitsandbytes\n",
        "\n",
        "# 6) 선택: 이미지 유틸(저장/가공 편의)\n",
        "%pip -q install pillow opencv-python einops\n",
        "\n",
        "# 7) 선택: 지각적 손실 추가\n",
        "%pip -q install lpips"
      ]
    },
    {
      "cell_type": "markdown",
      "source": [
        "## **데이터 학습파일 압축 풀기**"
      ],
      "metadata": {
        "id": "OZmKW0dbz1Y_"
      }
    },
    {
      "cell_type": "code",
      "source": [
        "!unzip -q \"/content/drive/MyDrive/Stable Diffusion/ceramic.zip\" -d \"/content/\""
      ],
      "metadata": {
        "id": "LHLAydEXz1n_"
      },
      "execution_count": null,
      "outputs": []
    },
    {
      "cell_type": "markdown",
      "source": [
        "## **import문**"
      ],
      "metadata": {
        "id": "bMyE1nUI19eR"
      }
    },
    {
      "cell_type": "code",
      "source": [
        "# PyTorch 기본\n",
        "import torch\n",
        "import torch.nn as nn\n",
        "import torch.nn.functional as F\n",
        "\n",
        "# Hugging Face diffusers / Stable Diffusion 관련\n",
        "from diffusers import StableDiffusionPipeline, AutoencoderKL, DPMSolverMultistepScheduler\n",
        "\n",
        "# 텍스트 토크나이징 & 전처리\n",
        "from transformers import CLIPTokenizer, CLIPTextModel\n",
        "\n",
        "# 실행 최적화\n",
        "import accelerate\n",
        "import xformers\n",
        "\n",
        "# 유틸리티\n",
        "import numpy as np\n",
        "from PIL import Image\n",
        "import matplotlib.pyplot as plt\n",
        "import os\n",
        "\n",
        "# (선택) 진행률 표시\n",
        "from tqdm.auto import tqdm"
      ],
      "metadata": {
        "id": "wGtDV7mA19ho"
      },
      "execution_count": null,
      "outputs": []
    },
    {
      "cell_type": "markdown",
      "source": [
        "## **런타임 확인**"
      ],
      "metadata": {
        "id": "vyyUywQ_1pMJ"
      }
    },
    {
      "cell_type": "code",
      "source": [
        "import torch, diffusers, transformers, accelerate, safetensors, xformers\n",
        "print(\"CUDA available:\", torch.cuda.is_available())\n",
        "print(\"Torch:\", torch.__version__)\n",
        "print(\"Diffusers:\", diffusers.__version__)\n",
        "print(\"Transformers:\", transformers.__version__)\n",
        "print(\"Accelerate:\", accelerate.__version__)"
      ],
      "metadata": {
        "id": "1-mw718x1pPO"
      },
      "execution_count": null,
      "outputs": []
    },
    {
      "cell_type": "markdown",
      "source": [
        "## **def**"
      ],
      "metadata": {
        "id": "tuhwztm86M8X"
      }
    },
    {
      "cell_type": "code",
      "source": [
        "def kl_loss(mu, logvar, reduction=\"mean\"):\n",
        "    kl = 0.5 * (mu.pow(2) + logvar.exp() - 1.0 - logvar)\n",
        "    kl = kl.sum(dim=[1, 2, 3])\n",
        "    if reduction == \"mean\":\n",
        "        return kl.mean()\n",
        "    elif reduction == \"sum\":\n",
        "        return kl.sum()\n",
        "    else:\n",
        "        return kl"
      ],
      "metadata": {
        "id": "qtIjNGoO6M_l"
      },
      "execution_count": null,
      "outputs": []
    },
    {
      "cell_type": "code",
      "source": [
        "def pil_to_tensor(image_pil, size=512, device=None, dtype=torch.float32):\n",
        "    \"\"\" PIL -> torch tensor in [-1,1], shape [1,3,H,W] \"\"\"\n",
        "    if image_pil.mode != \"RGB\":\n",
        "        image_pil = image_pil.convert(\"RGB\")\n",
        "    image_pil = image_pil.resize((size, size), Image.LANCZOS)\n",
        "    arr = np.array(image_pil).astype(np.float32) / 255.0\n",
        "    arr = arr * 2.0 - 1.0  # [0,1] -> [-1,1]\n",
        "    t = torch.from_numpy(arr).permute(2, 0, 1).unsqueeze(0)\n",
        "    if device is not None:\n",
        "        t = t.to(device=device, dtype=dtype)\n",
        "    else:\n",
        "        t = t.to(dtype=dtype)\n",
        "    return t"
      ],
      "metadata": {
        "id": "FmORP2lvD15M"
      },
      "execution_count": null,
      "outputs": []
    },
    {
      "cell_type": "code",
      "source": [
        "def tensor_to_pil(x):\n",
        "    \"\"\" torch tensor in [-1,1], [B,3,H,W] -> list[PIL] \"\"\"\n",
        "    x = (x.clamp(-1,1) + 1) / 2\n",
        "    x = (x * 255).byte().cpu().permute(0,2,3,1).numpy()\n",
        "    return [Image.fromarray(img) for img in x]"
      ],
      "metadata": {
        "id": "aZadwYUlD19C"
      },
      "execution_count": null,
      "outputs": []
    },
    {
      "cell_type": "markdown",
      "source": [
        "## **클래스**"
      ],
      "metadata": {
        "id": "RbM1sHul3VWP"
      }
    },
    {
      "cell_type": "markdown",
      "source": [
        "#### **인코더 (VAE)**"
      ],
      "metadata": {
        "id": "S-SkBlu58_1s"
      }
    },
    {
      "cell_type": "code",
      "source": [
        "SCALE = 0.18215\n",
        "\n",
        "class VAEEncoder(nn.Module):\n",
        "    \"\"\"\n",
        "    입력:  x  ∈ [-1,1], [B,3,512,512]\n",
        "    출력:  z  = (mu + sigma * eps) * 0.18215  → [B,4,64,64]\n",
        "           mu, logvar ∈ [B,4,64,64]\n",
        "    \"\"\"\n",
        "    def __init__(self, in_channels=3, latent_channels=4, base=64, scale_factor=SCALE):\n",
        "        super().__init__()\n",
        "        self.scale_factor = scale_factor\n",
        "\n",
        "        # 512 -> 512\n",
        "        self.block1 = nn.Sequential(\n",
        "            nn.Conv2d(in_channels, base, kernel_size=3, stride=1, padding=1),\n",
        "            nn.SiLU(),\n",
        "            nn.Conv2d(base, base, kernel_size=3, stride=1, padding=1),\n",
        "            nn.SiLU(),\n",
        "        )\n",
        "        # 512 -> 256\n",
        "        self.down1 = nn.Sequential(\n",
        "            nn.Conv2d(base, base*2, kernel_size=4, stride=2, padding=1),\n",
        "            nn.SiLU(),\n",
        "        )\n",
        "        # 256 -> 128\n",
        "        self.down2 = nn.Sequential(\n",
        "            nn.Conv2d(base*2, base*4, kernel_size=4, stride=2, padding=1),\n",
        "            nn.SiLU(),\n",
        "        )\n",
        "        # 128 -> 64\n",
        "        self.down3 = nn.Sequential(\n",
        "            nn.Conv2d(base*4, base*8, kernel_size=4, stride=2, padding=1),\n",
        "            nn.SiLU(),\n",
        "        )\n",
        "        # 64 -> 64 (feature refine)\n",
        "        self.block2 = nn.Sequential(\n",
        "            nn.Conv2d(base*8, base*8, kernel_size=3, stride=1, padding=1),\n",
        "            nn.SiLU(),\n",
        "            nn.Conv2d(base*8, base*8, kernel_size=3, stride=1, padding=1),\n",
        "            nn.SiLU(),\n",
        "        )\n",
        "\n",
        "        # latent heads\n",
        "        self.to_mu     = nn.Conv2d(base*8, latent_channels, kernel_size=3, stride=1, padding=1)\n",
        "        self.to_logvar = nn.Conv2d(base*8, latent_channels, kernel_size=3, stride=1, padding=1)\n",
        "\n",
        "    def forward(self, x, sample=True):\n",
        "        \"\"\"\n",
        "        x: [B,3,512,512] in [-1,1]\n",
        "        return: z_scaled, mu, logvar\n",
        "        \"\"\"\n",
        "        h = self.block1(x)   # 512\n",
        "        h = self.down1(h)    # 256\n",
        "        h = self.down2(h)    # 128\n",
        "        h = self.down3(h)    # 64\n",
        "        h = self.block2(h)   # 64\n",
        "\n",
        "        mu     = self.to_mu(h)\n",
        "        logvar = self.to_logvar(h)\n",
        "\n",
        "        if sample:\n",
        "            std = torch.exp(0.5 * logvar)\n",
        "            eps = torch.randn_like(std)\n",
        "            z = mu + eps * std\n",
        "        else:\n",
        "            z = mu\n",
        "\n",
        "        # Stable Diffusion 호환 스케일 적용\n",
        "        z = z * self.scale_factor\n",
        "        return z, mu, logvar"
      ],
      "metadata": {
        "id": "4DUy4pts5bcW"
      },
      "execution_count": null,
      "outputs": []
    },
    {
      "cell_type": "markdown",
      "source": [
        "VAE 인코더는 이런 느낌으로 작동하는거 같음\n",
        "\n",
        "SiLU : Sigmoid Linear Unit의 줄임말로, 요즘 딥러닝에서 자주 쓰이는 활성화 함수. 다른 이름으로는 Swish라고도 부름."
      ],
      "metadata": {
        "id": "3mkX8hC8IjG0"
      }
    },
    {
      "cell_type": "markdown",
      "source": [
        "### **디코더 (DCGAN)**"
      ],
      "metadata": {
        "id": "01pwZOaH9VNm"
      }
    },
    {
      "cell_type": "code",
      "source": [
        "class DCGANGenerator(nn.Module):\n",
        "    def __init__(self, latent_dim=4, ngf=64, out_channels=3, expect_scaled_latent=True, scale_factor=0.18215):\n",
        "        \"\"\"\n",
        "        latent_dim: SD 호환 잠재 채널(=4)\n",
        "        expect_scaled_latent: True면 입력 z가 0.18215로 스케일되어 있다고 가정하고 내부에서 나눕니다.\n",
        "        \"\"\"\n",
        "        super().__init__()\n",
        "        self.expect_scaled_latent = expect_scaled_latent\n",
        "        self.scale_factor = scale_factor\n",
        "\n",
        "        self.main = nn.Sequential(\n",
        "            # 64x64  → 128x128\n",
        "            nn.ConvTranspose2d(latent_dim, ngf * 8, 4, 2, 1, bias=False),\n",
        "            nn.BatchNorm2d(ngf * 8), nn.ReLU(True),\n",
        "\n",
        "            # 128x128 → 256x256\n",
        "            nn.ConvTranspose2d(ngf * 8, ngf * 4, 4, 2, 1, bias=False),\n",
        "            nn.BatchNorm2d(ngf * 4), nn.ReLU(True),\n",
        "\n",
        "            # 256x256 → 512x512\n",
        "            nn.ConvTranspose2d(ngf * 4, ngf * 2, 4, 2, 1, bias=False),\n",
        "            nn.BatchNorm2d(ngf * 2), nn.ReLU(True),\n",
        "\n",
        "            # 마무리 합성곱 (세밀함 보강)\n",
        "            nn.Conv2d(ngf * 2, ngf, 3, 1, 1, bias=False),\n",
        "            nn.BatchNorm2d(ngf), nn.ReLU(True),\n",
        "\n",
        "            nn.Conv2d(ngf, out_channels, 3, 1, 1, bias=False),\n",
        "            nn.Tanh()\n",
        "        )\n",
        "\n",
        "    def forward(self, z):\n",
        "        # SD 규칙: decode 시 latent / 0.18215\n",
        "        if self.expect_scaled_latent and self.scale_factor is not None:\n",
        "            z = z / self.scale_factor\n",
        "        return self.main(z)\n",
        "\n",
        "\n",
        "device = \"cuda\" if torch.cuda.is_available() else \"cpu\"\n",
        "gen = DCGANGenerator().to(device).float().eval()   # ★ FP32로 고정\n",
        "print(\"gen dtype:\", next(gen.parameters()).dtype)"
      ],
      "metadata": {
        "id": "YU3HAomx3Vap",
        "colab": {
          "base_uri": "https://localhost:8080/"
        },
        "outputId": "5b43043e-c176-407f-ec76-e9f1a0947b67"
      },
      "execution_count": null,
      "outputs": [
        {
          "output_type": "stream",
          "name": "stdout",
          "text": [
            "gen dtype: torch.float32\n"
          ]
        }
      ]
    },
    {
      "cell_type": "markdown",
      "source": [
        "### **DCGAN 손실 (이건 뭐지)**"
      ],
      "metadata": {
        "id": "0rMCtRbJ9qyy"
      }
    },
    {
      "cell_type": "code",
      "source": [
        "class DCGANDiscriminator(nn.Module):\n",
        "    def __init__(self, in_channels=3, ndf=64):\n",
        "        super().__init__()\n",
        "        self.main = nn.Sequential(\n",
        "            # 512 → 256\n",
        "            nn.Conv2d(in_channels, ndf, 4, 2, 1, bias=False),\n",
        "            nn.LeakyReLU(0.2, inplace=True),\n",
        "\n",
        "            # 256 → 128\n",
        "            nn.Conv2d(ndf, ndf*2, 4, 2, 1, bias=False),\n",
        "            nn.BatchNorm2d(ndf*2), nn.LeakyReLU(0.2, inplace=True),\n",
        "\n",
        "            # 128 → 64\n",
        "            nn.Conv2d(ndf*2, ndf*4, 4, 2, 1, bias=False),\n",
        "            nn.BatchNorm2d(ndf*4), nn.LeakyReLU(0.2, inplace=True),\n",
        "\n",
        "            # 64 → 32\n",
        "            nn.Conv2d(ndf*4, ndf*8, 4, 2, 1, bias=False),\n",
        "            nn.BatchNorm2d(ndf*8), nn.LeakyReLU(0.2, inplace=True),\n",
        "\n",
        "            # 32 → 16\n",
        "            nn.Conv2d(ndf*8, ndf*16, 4, 2, 1, bias=False),\n",
        "            nn.BatchNorm2d(ndf*16), nn.LeakyReLU(0.2, inplace=True),\n",
        "\n",
        "            # 16 → 1x1 score\n",
        "            nn.Conv2d(ndf*16, 1, 4, 1, 0, bias=False)\n",
        "        )\n",
        "\n",
        "    def forward(self, x):\n",
        "        # 출력 모양: [B,1,1,1]\n",
        "        return self.main(x).view(-1)\n"
      ],
      "metadata": {
        "id": "XgANS2Vp9q2S"
      },
      "execution_count": null,
      "outputs": []
    },
    {
      "cell_type": "markdown",
      "source": [
        "### **BasicBlock**"
      ],
      "metadata": {
        "id": "Vs7WTfusHqfp"
      }
    },
    {
      "cell_type": "code",
      "source": [
        "class BasicBlock(nn.Module):\n",
        "    expansion = 1  # ResNet18/34는 1\n",
        "\n",
        "    def __init__(self, in_planes, planes, stride=1):\n",
        "        super().__init__()\n",
        "        self.conv1 = nn.Conv2d(in_planes, planes, 3, stride, 1, bias=False)\n",
        "        self.bn1   = nn.BatchNorm2d(planes)\n",
        "        self.conv2 = nn.Conv2d(planes, planes, 3, 1, 1, bias=False)\n",
        "        self.bn2   = nn.BatchNorm2d(planes)\n",
        "\n",
        "        self.downsample = None\n",
        "        if stride != 1 or in_planes != planes * self.expansion:\n",
        "            self.downsample = nn.Sequential(\n",
        "                nn.Conv2d(in_planes, planes * self.expansion, 1, stride, bias=False),\n",
        "                nn.BatchNorm2d(planes * self.expansion),\n",
        "            )\n",
        "\n",
        "        self.relu = nn.ReLU(inplace=True)\n",
        "\n",
        "    def forward(self, x):\n",
        "        identity = x\n",
        "        out = self.relu(self.bn1(self.conv1(x)))\n",
        "        out = self.bn2(self.conv2(out))\n",
        "        if self.downsample is not None:\n",
        "            identity = self.downsample(identity)\n",
        "        out = self.relu(out + identity)\n",
        "        return out"
      ],
      "metadata": {
        "id": "p8aECZyeHqjP"
      },
      "execution_count": null,
      "outputs": []
    },
    {
      "cell_type": "markdown",
      "source": [
        "### **ResNet18**"
      ],
      "metadata": {
        "id": "xaAqCly1Hqqo"
      }
    },
    {
      "cell_type": "code",
      "source": [
        "class ResNet18Binary(nn.Module):\n",
        "    def __init__(self, num_classes=1):  # 1 로짓 (BCEWithLogitsLoss)\n",
        "        super().__init__()\n",
        "        self.in_planes = 64\n",
        "        self.conv1 = nn.Conv2d(3, 64, kernel_size=7, stride=2, padding=3, bias=False)\n",
        "        self.bn1   = nn.BatchNorm2d(64)\n",
        "        self.relu  = nn.ReLU(inplace=True)\n",
        "        self.maxpool = nn.MaxPool2d(kernel_size=3, stride=2, padding=1)\n",
        "\n",
        "        self.layer1 = self._make_layer(64,  2, stride=1)  # [2,2,2,2]\n",
        "        self.layer2 = self._make_layer(128, 2, stride=2)\n",
        "        self.layer3 = self._make_layer(256, 2, stride=2)\n",
        "        self.layer4 = self._make_layer(512, 2, stride=2)\n",
        "\n",
        "        self.avgpool = nn.AdaptiveAvgPool2d((1,1))\n",
        "        self.fc = nn.Linear(512 * BasicBlock.expansion, num_classes)\n",
        "\n",
        "    def _make_layer(self, planes, blocks, stride):\n",
        "        layers = [BasicBlock(self.in_planes, planes, stride)]\n",
        "        self.in_planes = planes * BasicBlock.expansion\n",
        "        for _ in range(1, blocks):\n",
        "            layers.append(BasicBlock(self.in_planes, planes, stride=1))\n",
        "        return nn.Sequential(*layers)\n",
        "\n",
        "    def forward(self, x):\n",
        "        x = self.relu(self.bn1(self.conv1(x)))\n",
        "        x = self.maxpool(x)\n",
        "\n",
        "        x = self.layer1(x); x = self.layer2(x)\n",
        "        x = self.layer3(x); x = self.layer4(x)\n",
        "\n",
        "        x = self.avgpool(x)\n",
        "        x = torch.flatten(x, 1)\n",
        "        logits = self.fc(x)  # shape: [B,1]\n",
        "        return logits"
      ],
      "metadata": {
        "id": "fsIyJXhXHqtp"
      },
      "execution_count": null,
      "outputs": []
    },
    {
      "cell_type": "markdown",
      "source": [
        "## **인코딩 (GAN 방식일 때 필요할 듯)**"
      ],
      "metadata": {
        "id": "vReK_aEw6hcN"
      }
    },
    {
      "cell_type": "code",
      "source": [
        "encoder = VAEEncoder(latent_channels=4).to(\"cuda\").eval()\n",
        "\n",
        "# 가짜 입력(batch=1)\n",
        "x = torch.randn(1, 3, 512, 512, device=\"cuda\")\n",
        "\n",
        "with torch.no_grad():\n",
        "    z, mu, logvar = encoder(x, sample=True)\n",
        "\n",
        "print(\"z shape:\", z.shape)        # [1, 4, 64, 64]\n",
        "print(\"mu/logvar:\", mu.shape, logvar.shape)"
      ],
      "metadata": {
        "id": "eiCBHIJZ6hl4",
        "colab": {
          "base_uri": "https://localhost:8080/"
        },
        "outputId": "718f9f05-8187-4cd5-e728-f2c807a7c23b"
      },
      "execution_count": null,
      "outputs": [
        {
          "output_type": "stream",
          "name": "stdout",
          "text": [
            "z shape: torch.Size([1, 4, 64, 64])\n",
            "mu/logvar: torch.Size([1, 4, 64, 64]) torch.Size([1, 4, 64, 64])\n"
          ]
        }
      ]
    },
    {
      "cell_type": "markdown",
      "source": [
        "## **디코딩**"
      ],
      "metadata": {
        "id": "UGL0Ho0g3iUq"
      }
    },
    {
      "cell_type": "markdown",
      "source": [
        "### **DCGAN 디코더 (학습 필요)**"
      ],
      "metadata": {
        "id": "uXcWBljE2b2o"
      }
    },
    {
      "cell_type": "code",
      "source": [
        "# DCGAN 디코더 초기화\n",
        "dcgan_decoder = DCGANGenerator(latent_dim=4).to(\"cuda\")\n",
        "dcgan_decoder.eval()\n",
        "\n",
        "# Stable Diffusion latent 생성 부분 (예시)\n",
        "pipe = StableDiffusionPipeline.from_pretrained(\n",
        "    \"runwayml/stable-diffusion-v1-5\",\n",
        "    torch_dtype=torch.float16\n",
        ").to(\"cuda\")\n",
        "\n",
        "prompt = \"dog, ultra detailed\"\n",
        "with torch.no_grad():\n",
        "    latents = pipe(prompt, output_type=\"latent\").images  # latents 형태: [B,4,64,64]\n",
        "\n",
        "    latents = latents.to(device=device, dtype=torch.float32)\n",
        "    print(\"latents dtype:\", latents.dtype)\n",
        "\n",
        "    # DCGAN으로 디코딩\n",
        "    decoded = dcgan_decoder(latents)  # 출력: [B,3,256,256]\n",
        "\n",
        "    # PIL 이미지 변환\n",
        "    imgs = (decoded.clamp(-1, 1) + 1) / 2\n",
        "    imgs = imgs.mul(255).byte().cpu().permute(0, 2, 3, 1).numpy()\n",
        "\n",
        "    pil_images = [Image.fromarray(img) for img in imgs]\n",
        "    pil_images[0].show()"
      ],
      "metadata": {
        "colab": {
          "base_uri": "https://localhost:8080/",
          "height": 742,
          "referenced_widgets": [
            "c3dc14594ea7417895fd2839f00f283f",
            "8a2b6ee68f444439b469fd157b321504",
            "a48338be416840609a5d0efcad0185c1",
            "e0ba9975e43a4bfca02dd6ed8ad7bf47",
            "df425f49daca42aaac8f7b9e69b9fe2f",
            "2d8fa5cd1d014edcbeab026a5b76b98e",
            "3afc6030539242a3870299f5356698ee",
            "61377284013e440db5f2884d2610976c",
            "154cd7d3e4954790be611c4be802c5e8",
            "c6b1e80b26eb4d739cc1838716ee7f51",
            "da547de72bea435c97a9a7bae453887d",
            "f7b4cd8dddd64b81b253425459055e74",
            "238b54e4c26f4f5698da34fe6f12e967",
            "48ce6eeb11244ee19e1bf87634763692",
            "6def890310a244b98615d0f475b8b976",
            "37e22378174246dcbc4ebca88cc69a3f",
            "72526de5cc3040158dfed84d1c1eb363",
            "e7e56ab53d194592883d5ef6646c278a",
            "9d98b0f6cfdd4f538cd670ebdcbfab34",
            "43a22d03bd19491b902623630e8a04e8",
            "64c8116442b0447899c8717bba0ca78e",
            "3b34a0f6e60348b4ae49aeefbf3873e0",
            "77a27df42fdf44d08a693f5603bc0081",
            "98dacb3d54894e859d0561aed1f610c0",
            "1d1aee37b3b1491fb5a531fcabbbeaf3",
            "dcb1aea742e540ab82e46fedc4e1a47b",
            "78640c22f7284e24bdad0229217b1c58",
            "09f45eee71384802bb1eb35f9b78f13a",
            "e1047a1e1f8e41cfb5be8937146c4c32",
            "726584bc4d984cbca65abcaf55d0116f",
            "2be88491e81c4f7887e926bbf48d18e1",
            "7f6f36fba53a4d55a8f31beef651aeb5",
            "601835f3a70e4408946345fbda034078",
            "cbb34c6e130b4b068bcae93fc5f5f9c1",
            "afbb2c9d5af1459896d449416e03f2dc",
            "ec8a9b773de9459c9c8ed0c89f8ea035",
            "8389bf1ff117425498077a93e159f4c6",
            "47f0184034de42beadbe19308514d56c",
            "ebda2caed0bc43b6b28ab5172d5f16ca",
            "cf6238638bc542fe8eac63ce9f8e10ee",
            "c2d03c61dce14208a6a78f2fdb010171",
            "ce5b6ee7523d4cf7bda35a6ecb34fadf",
            "cb81027932934d2b98117ad20b379f13",
            "0b0518bd9fb34f70a7adc2e59a1998e7",
            "9999c39e1f844acf95ffb8b7a7702094",
            "8707fc557ccc4bd188398b0a89329aa4",
            "272a0ca2fa9a4eb09337baac9810a66d",
            "7bebcb75b2a4452889d5b32cfabb6eee",
            "a5f8e1cc7c614800b62082a8bf52837c",
            "4b46740051654e13a439fabaed45aa86",
            "b4a7e7c3db644aaab656edb853992f12",
            "0dd5bd0bb79b410d8b67206a1ec334b8",
            "5f90ecbbb50e469099055fd8c3b8e6b9",
            "4b4b78b562ba47d987a79ec995554cf8",
            "31a1e22927d144ab90f1d7351d5b03c9",
            "cd4137c9bed640d491fd61ae39fe61c6",
            "016cef24ca7142cfb5bb790c3205a9c2",
            "42787123b4454005940c0d2f6cbb0b99",
            "6e9ca7a3fb2948fbbf7a032c988d6fc0",
            "1da20c2ab3d84488a63056eb27b9d0fc",
            "46fef3ecf99f496c9ac1fa274dd87ba6",
            "56fccb49a0de4ca1b48c73327a5d3da3",
            "a3cc69cfeb43413b81d993f09fb9e468",
            "d24b11d76a9349778e762fc6d7e78435",
            "0da1bee47b994074a41ab429092a2203",
            "cc628629814e497494f4a447f6e3a256",
            "6f4676dea03940fdbd8d6b08458cdc2f",
            "82f33913f53e4ac1b3599ce7dded319a",
            "516081bd88d349a8a4689c291111e65f",
            "6c14eccc6fc041d59c8d38028209f691",
            "d83e7fd679924256b8f7d26014e4322c",
            "6fdf37fbf9a44fa3b85f76c3d393cd9e",
            "7fc21cd6088f4187bc151cca7607ab3d",
            "fb81ca7dff4a40738d1dcc0dfd8a275f",
            "6104c54652604ba1b00b10dab2f3c48f",
            "0c917aaa76f64b60af2e51c57123d0f0",
            "776449fec84d43f28c8df02262fa41c9",
            "d0e23ebde5ce4ecb8e33662190010d2a",
            "3846804b16094f55843a8f8029c85772",
            "c9078c418219414b9685b48e7fe2c5bc",
            "7218842ed0b746569a6c35e0d0647c19",
            "cf2b77b6f2e54b5ea7d3d72ff1a8199f",
            "1dde8edec51849dab95ac1b54285e33a",
            "52f14f732d704aa2a6f7091a89163e4b",
            "6f7eef9385c14a83a0c16c92ea8c36e4",
            "1aa426047327494b9e3d517b33819932",
            "04173e6f2b95413eb2c29fadb986191f",
            "f7ee351fe60c4680b648b802bcfa6976",
            "b21c752a158c473ebe934052b88602d2",
            "3ef80e7fe85042e7b8315a4de4d04eef",
            "e7fada8b330f483b91ab55c0500675f8",
            "88a68c5df0194184904149425d1b70e9",
            "e0f0dde4df104f90896a8e3f25682bf4",
            "e2fa46815c1e4dfdb0ccfa64cec1dd42",
            "7dc79cfb3e574c87bd957740277e6227",
            "770b8406b08843b8a4510be08a0d67ae",
            "71da72148e8245ff8d9bb8ef8a987083",
            "6ecc151d0c6d4b17b99283b013847154",
            "5fd826f97dad473aad169cd7a3aa3805",
            "e79afe642e1145e88800a2eb4638c028",
            "de415340a29f4e9c8c7b763f5fe7157c",
            "093d9251523b40f78d37884190956028",
            "ee67c532b10b47a39abaf7cd486cb5b7",
            "d7878dd230ff4092af2619876f48a1ff",
            "0ba206a528cf4570acb402b8259ba001",
            "713b623450614f72901e75f52fc0b7b4",
            "f275a4c9e09b44bd880206f9a5987a62",
            "0bcad76947434e4695445caf48b1fc61",
            "bfc41e19c94c45c294a90e083f684f30",
            "1250b9cae1a1407bb098ad295f87366b",
            "c8ec3de1ba264d529cb977527d51d0b4",
            "84005380efd04216a2e09f88d37e6246",
            "dfe5c176184245dd9929d829fa2824e9",
            "eb3edb3ca95c4857ae81bef9ac1603e1",
            "77788e8f6e3a429da4933249b30211af",
            "11f6a5d1b35e462ca82bf4b3fa2fd1a8",
            "b87450df5a9a4bd8a1f00b3374993431",
            "811d0f96dd9d4d14919eac3be6362ad3",
            "75de2244e56d457da6860fa37ffa571b",
            "a16ffee2738f46a09a56c142eed223d6",
            "7ca3cfaf94984ce691ec7c0e1b6dc717",
            "65d89f5f0d3140f8a1615d86347535c1",
            "6964d10834324b70ab4450a5ab8d818e",
            "dbbdb8c2f1624a69b53f60fc71f179dd",
            "3f878ffea6f449cda5ac87410f8a377a",
            "24203c6323f646279e9ce9050c1d96d1",
            "42c475bee470493196cdf0bd16f5496b",
            "d157a85b99704eb39024bb279cface11",
            "5be562efd0004bd393abd2d9c8d95c77",
            "5e76511d85cf4650a1217412bd78919d",
            "9262348e2ba14ee6bcff3c2d99b76ab8",
            "7b29be783bd544a09254f13eadaeb261",
            "2c2221c85bdf4991ae4ed40c180b7733",
            "27671b2fd4ef45b6b41972acf7811345",
            "3674cd2b5d6642ff97b789ee8cb545d2",
            "f23f4906f2da46d6a6205692d594d979",
            "1acc70047dc54b658333eb533d430b34",
            "4407f85275c74ec4a1edf1e318c13712",
            "d0f75c9d8c2747c289d26bcab0732e55",
            "79333f2aadaa45259c94bc51ad65863a",
            "970c9b05ce6d48b6947d0b46ee5edd0d",
            "ef9652cb10e945ef8aca5fad710bf236",
            "4aaa0b13f2fd468a9da9861da1d6b4d3",
            "831a8c9284e2449a946fdc806c232eca",
            "1dcf31db8e2a48b590795221a711d029",
            "31e12214d647418b98b55fcaa07e7d79",
            "b2450cbb9c3745c7a25f1bf2ad688e2d",
            "a7b370776c74435b8ae2b91ebe845ede",
            "686413e7fee7461999dc5179cafbf5fe",
            "2a9789e90a694cc48ad1e9881ecfe6a4",
            "074280a8ab3d4318bef8d304bdc3f434",
            "e10e79eafa9640db96379409585e0693",
            "1e300ef6ecfd4b4e94a22deff54292b1",
            "726e3908aa10448ab7d7c6abb8a40ef9",
            "5c02c23627644ff887ef284abc22d3d4",
            "3515b35bfae34ebf923e6f08a8a5977e",
            "87dd5eae2aa24871bcbb0b577f037991",
            "ce1e36d3b000457eaae3f6281c00a455",
            "44230699bdc74a80ae2589208d52444a",
            "0901893480c94751983e38afcb5c3f8e",
            "27e333c41570441bbad1b4a66533f0ce",
            "fed244227f0447a884daec9a0ea62800",
            "dc0d0fa43e2c4ab39c1b40e5ba11f815",
            "e866a416a8d448baa913decace412e76",
            "573c0a861ee245c282d64ba7191bbc47",
            "73b61b3ba9bd435baba7c49446914805",
            "485361ea762b408892e803bb1272a3e9",
            "f79582da345049a481df315c61bdddc3",
            "813f9d8b449f4b47ad7e4f4156f93c3f",
            "9dcf8a20c09a44efbb6af146fb33bd2e",
            "f9c5636c3374476bab849969fe82a388",
            "b2d1ca19ad4b42d68e7ee46cf8703e25",
            "ae555fb7ac844121930273d422ab81b9",
            "bb5d44f4212647cca3252250bd770df8",
            "4f5e23a1eb6d49d0bde3a55d4698861a",
            "715fcd4ae8b749bb9c8e788f314ca31e",
            "b33a3030d06a4bc1b80c3ce125488a31",
            "872b2e9b0b0e41b18fa76773b2335f39",
            "f516a895e9b740ce9b2a2f011296c88e",
            "3545de5cabe14c63ad3f445ea11a2d4f",
            "98e2e9a96ccb4b669a73e7a5cdba4eca",
            "95c4a2b9932b4324af67cca997821e12",
            "21da9197d6f04044add4e9a50b0c81f7",
            "2eb08b49012c449e913dd5bfaa527ee4",
            "e32db49ab48b42dea177494fdd472f05",
            "fb3f4de88a5a4112bb600036cc7f4afb",
            "3cb0fb4272b44512b2e0db6821b84e0b",
            "6704d561b02d4d9194bfb5595e0a47c1",
            "06c89f434f4344e28e8b957397318931",
            "bccaa1aa4e004d088f9caefe5a460bba",
            "ae086e5316204cc39e8096617ba4a068",
            "2da7cfc147c741da80b0e3021ac45dcc",
            "bd7d895e66494138b6bc786aad1bc5f8",
            "bbc59726100e4a59871f6344e97266eb",
            "5b2e96315d914e5ca4e9ec7b7633b6fa",
            "00b665df601e450fb3ef29cfa89be680",
            "c10a91fb5db749c4afca3622e139c9ab",
            "22c56c507fdb45deb95e4b4a59291835"
          ]
        },
        "id": "vFD8z20c3kXM",
        "outputId": "625dd833-43e9-4ece-a6fa-6a217f61f7bc"
      },
      "execution_count": null,
      "outputs": [
        {
          "output_type": "stream",
          "name": "stderr",
          "text": [
            "/usr/local/lib/python3.12/dist-packages/huggingface_hub/utils/_auth.py:94: UserWarning: \n",
            "The secret `HF_TOKEN` does not exist in your Colab secrets.\n",
            "To authenticate with the Hugging Face Hub, create a token in your settings tab (https://huggingface.co/settings/tokens), set it as secret in your Google Colab and restart your session.\n",
            "You will be able to reuse this secret in all of your notebooks.\n",
            "Please note that authentication is recommended but still optional to access public models or datasets.\n",
            "  warnings.warn(\n"
          ]
        },
        {
          "output_type": "display_data",
          "data": {
            "text/plain": [
              "model_index.json:   0%|          | 0.00/541 [00:00<?, ?B/s]"
            ],
            "application/vnd.jupyter.widget-view+json": {
              "version_major": 2,
              "version_minor": 0,
              "model_id": "c3dc14594ea7417895fd2839f00f283f"
            }
          },
          "metadata": {}
        },
        {
          "output_type": "display_data",
          "data": {
            "text/plain": [
              "Fetching 15 files:   0%|          | 0/15 [00:00<?, ?it/s]"
            ],
            "application/vnd.jupyter.widget-view+json": {
              "version_major": 2,
              "version_minor": 0,
              "model_id": "f7b4cd8dddd64b81b253425459055e74"
            }
          },
          "metadata": {}
        },
        {
          "output_type": "display_data",
          "data": {
            "text/plain": [
              "special_tokens_map.json:   0%|          | 0.00/472 [00:00<?, ?B/s]"
            ],
            "application/vnd.jupyter.widget-view+json": {
              "version_major": 2,
              "version_minor": 0,
              "model_id": "77a27df42fdf44d08a693f5603bc0081"
            }
          },
          "metadata": {}
        },
        {
          "output_type": "display_data",
          "data": {
            "text/plain": [
              "merges.txt: 0.00B [00:00, ?B/s]"
            ],
            "application/vnd.jupyter.widget-view+json": {
              "version_major": 2,
              "version_minor": 0,
              "model_id": "cbb34c6e130b4b068bcae93fc5f5f9c1"
            }
          },
          "metadata": {}
        },
        {
          "output_type": "display_data",
          "data": {
            "text/plain": [
              "scheduler_config.json:   0%|          | 0.00/308 [00:00<?, ?B/s]"
            ],
            "application/vnd.jupyter.widget-view+json": {
              "version_major": 2,
              "version_minor": 0,
              "model_id": "9999c39e1f844acf95ffb8b7a7702094"
            }
          },
          "metadata": {}
        },
        {
          "output_type": "display_data",
          "data": {
            "text/plain": [
              "safety_checker/model.safetensors:   0%|          | 0.00/1.22G [00:00<?, ?B/s]"
            ],
            "application/vnd.jupyter.widget-view+json": {
              "version_major": 2,
              "version_minor": 0,
              "model_id": "cd4137c9bed640d491fd61ae39fe61c6"
            }
          },
          "metadata": {}
        },
        {
          "output_type": "display_data",
          "data": {
            "text/plain": [
              "config.json:   0%|          | 0.00/617 [00:00<?, ?B/s]"
            ],
            "application/vnd.jupyter.widget-view+json": {
              "version_major": 2,
              "version_minor": 0,
              "model_id": "6f4676dea03940fdbd8d6b08458cdc2f"
            }
          },
          "metadata": {}
        },
        {
          "output_type": "display_data",
          "data": {
            "text/plain": [
              "config.json: 0.00B [00:00, ?B/s]"
            ],
            "application/vnd.jupyter.widget-view+json": {
              "version_major": 2,
              "version_minor": 0,
              "model_id": "d0e23ebde5ce4ecb8e33662190010d2a"
            }
          },
          "metadata": {}
        },
        {
          "output_type": "display_data",
          "data": {
            "text/plain": [
              "preprocessor_config.json:   0%|          | 0.00/342 [00:00<?, ?B/s]"
            ],
            "application/vnd.jupyter.widget-view+json": {
              "version_major": 2,
              "version_minor": 0,
              "model_id": "b21c752a158c473ebe934052b88602d2"
            }
          },
          "metadata": {}
        },
        {
          "output_type": "display_data",
          "data": {
            "text/plain": [
              "text_encoder/model.safetensors:   0%|          | 0.00/492M [00:00<?, ?B/s]"
            ],
            "application/vnd.jupyter.widget-view+json": {
              "version_major": 2,
              "version_minor": 0,
              "model_id": "e79afe642e1145e88800a2eb4638c028"
            }
          },
          "metadata": {}
        },
        {
          "output_type": "display_data",
          "data": {
            "text/plain": [
              "vocab.json: 0.00B [00:00, ?B/s]"
            ],
            "application/vnd.jupyter.widget-view+json": {
              "version_major": 2,
              "version_minor": 0,
              "model_id": "c8ec3de1ba264d529cb977527d51d0b4"
            }
          },
          "metadata": {}
        },
        {
          "output_type": "display_data",
          "data": {
            "text/plain": [
              "unet/diffusion_pytorch_model.safetensors:   0%|          | 0.00/3.44G [00:00<?, ?B/s]"
            ],
            "application/vnd.jupyter.widget-view+json": {
              "version_major": 2,
              "version_minor": 0,
              "model_id": "65d89f5f0d3140f8a1615d86347535c1"
            }
          },
          "metadata": {}
        },
        {
          "output_type": "display_data",
          "data": {
            "text/plain": [
              "tokenizer_config.json:   0%|          | 0.00/806 [00:00<?, ?B/s]"
            ],
            "application/vnd.jupyter.widget-view+json": {
              "version_major": 2,
              "version_minor": 0,
              "model_id": "2c2221c85bdf4991ae4ed40c180b7733"
            }
          },
          "metadata": {}
        },
        {
          "output_type": "display_data",
          "data": {
            "text/plain": [
              "config.json:   0%|          | 0.00/547 [00:00<?, ?B/s]"
            ],
            "application/vnd.jupyter.widget-view+json": {
              "version_major": 2,
              "version_minor": 0,
              "model_id": "831a8c9284e2449a946fdc806c232eca"
            }
          },
          "metadata": {}
        },
        {
          "output_type": "display_data",
          "data": {
            "text/plain": [
              "config.json:   0%|          | 0.00/743 [00:00<?, ?B/s]"
            ],
            "application/vnd.jupyter.widget-view+json": {
              "version_major": 2,
              "version_minor": 0,
              "model_id": "5c02c23627644ff887ef284abc22d3d4"
            }
          },
          "metadata": {}
        },
        {
          "output_type": "display_data",
          "data": {
            "text/plain": [
              "vae/diffusion_pytorch_model.safetensors:   0%|          | 0.00/335M [00:00<?, ?B/s]"
            ],
            "application/vnd.jupyter.widget-view+json": {
              "version_major": 2,
              "version_minor": 0,
              "model_id": "73b61b3ba9bd435baba7c49446914805"
            }
          },
          "metadata": {}
        },
        {
          "output_type": "display_data",
          "data": {
            "text/plain": [
              "Loading pipeline components...:   0%|          | 0/7 [00:00<?, ?it/s]"
            ],
            "application/vnd.jupyter.widget-view+json": {
              "version_major": 2,
              "version_minor": 0,
              "model_id": "b33a3030d06a4bc1b80c3ce125488a31"
            }
          },
          "metadata": {}
        },
        {
          "output_type": "display_data",
          "data": {
            "text/plain": [
              "  0%|          | 0/50 [00:00<?, ?it/s]"
            ],
            "application/vnd.jupyter.widget-view+json": {
              "version_major": 2,
              "version_minor": 0,
              "model_id": "6704d561b02d4d9194bfb5595e0a47c1"
            }
          },
          "metadata": {}
        },
        {
          "output_type": "stream",
          "name": "stdout",
          "text": [
            "latents dtype: torch.float32\n"
          ]
        }
      ]
    },
    {
      "cell_type": "markdown",
      "source": [
        "### **VAE 디코더 아키텍처 구현 + 가중치 불러오기**"
      ],
      "metadata": {
        "id": "KWKt3_yq2hAA"
      }
    },
    {
      "cell_type": "code",
      "source": [
        "MODEL_ID = \"runwayml/stable-diffusion-v1-5\"  # SD 1.x 계열\n",
        "DEVICE   = \"cuda\" if torch.cuda.is_available() else \"cpu\"\n",
        "\n",
        "def _get_vae_config(model_id=MODEL_ID):\n",
        "    \"\"\"\n",
        "    diffusers >=0.20: AutoencoderKL.load_config 사용 가능.\n",
        "    하위 버전 호환을 위해 from_pretrained로 config만 가져오는 폴백 포함.\n",
        "    \"\"\"\n",
        "    cfg = None\n",
        "    if hasattr(AutoencoderKL, \"load_config\"):\n",
        "        try:\n",
        "            cfg = AutoencoderKL.load_config(model_id, subfolder=\"vae\")\n",
        "        except Exception:\n",
        "            cfg = None\n",
        "    if cfg is None:\n",
        "        # weights까지 받아오지만 config만 복제해 사용\n",
        "        _tmp = AutoencoderKL.from_pretrained(model_id, subfolder=\"vae\")\n",
        "        cfg = _tmp.config\n",
        "        del _tmp\n",
        "    return cfg\n",
        "\n",
        "class SDVAEDecoder(nn.Module):\n",
        "    \"\"\"\n",
        "    Stable Diffusion VAE 디코더와 '완전히 동일한 구조'의 디코더 래퍼.\n",
        "    - post_quant_conv + decoder 로 구성 (AutoencoderKL와 동일)\n",
        "    - scaling_factor(기본 0.18215) 처리 포함\n",
        "    \"\"\"\n",
        "    def __init__(self, cfg=None, scaling_factor=None):\n",
        "        super().__init__()\n",
        "        if cfg is None:\n",
        "            cfg = _get_vae_config(MODEL_ID)\n",
        "        # 동일 아키텍처의 전체 VAE를 '구성만' 복제\n",
        "        vae_like = AutoencoderKL.from_config(cfg)\n",
        "        # 디코더에 필요한 서브모듈만 보존\n",
        "        self.post_quant_conv = vae_like.post_quant_conv\n",
        "        self.decoder         = vae_like.decoder\n",
        "\n",
        "        # SD 스케일링 팩터 (config에 있으면 그대로)\n",
        "        self.scaling_factor = (\n",
        "            scaling_factor if scaling_factor is not None\n",
        "            else getattr(cfg, \"scaling_factor\", 0.18215)\n",
        "        )\n",
        "\n",
        "    @torch.no_grad()\n",
        "    def forward(self, z_scaled, return_dict=False):\n",
        "        \"\"\"\n",
        "        입력:\n",
        "          z_scaled: [B,4,64,64]  (SD latent, 이미 × scaling_factor 적용된 것)\n",
        "        출력:\n",
        "          x: [-1,1] 범위의 [B,3,512,512]\n",
        "        \"\"\"\n",
        "        # 언스케일 → post_quant_conv → decoder\n",
        "        z = z_scaled / z_scaled.new_tensor(self.scaling_factor)\n",
        "        z = self.post_quant_conv(z)\n",
        "        dec_out = self.decoder(z)\n",
        "        # diffusers Decoder는 DecoderOutput(sample=...)을 반환\n",
        "        x = dec_out.sample if hasattr(dec_out, \"sample\") else dec_out\n",
        "        if return_dict:\n",
        "            return {\"sample\": x}\n",
        "        return x\n",
        "\n",
        "# 아키텍처만 동일한 디코더 인스턴스 (아직 가중치 로드 전)\n",
        "decoder_same = SDVAEDecoder().to(DEVICE).eval()\n",
        "print(\"Decoder ready (architecture matched).\")\n",
        "print(\"scaling_factor:\", decoder_same.scaling_factor)\n",
        "\n",
        "# 1) 원본 VAE에서 디코더 관련 가중치만 추출\n",
        "print(\"[1/3] Fetching VAE weights from:\", MODEL_ID)\n",
        "vae_ref = AutoencoderKL.from_pretrained(\n",
        "    MODEL_ID, subfolder=\"vae\", torch_dtype=torch.float16\n",
        ").eval()  # CPU 로드도 OK, 어차피 state_dict만 씀\n",
        "sd_full = vae_ref.state_dict()\n",
        "\n",
        "decoder_sd = {k: v.cpu() for k, v in sd_full.items()\n",
        "              if k.startswith(\"post_quant_conv.\") or k.startswith(\"decoder.\")}\n",
        "\n",
        "print(f\" - extracted {len(decoder_sd)} decoder keys\")\n",
        "\n",
        "# 2) 동일 아키텍처 디코더 인스턴스에 주입\n",
        "#    (decoder_same 은 이전 셀에서 만든 SDVAEDecoder 인스턴스라고 가정)\n",
        "decoder_same = decoder_same.to(DEVICE)  # ensure on device\n",
        "missing, unexpected = decoder_same.load_state_dict(decoder_sd, strict=False)\n",
        "print(\"[2/3] load_state_dict(strict=False)\")\n",
        "print(\" - missing keys   :\", len(missing), (\"(ok: encoder-side keys are not needed)\" if missing else \"\"))\n",
        "print(\" - unexpected keys:\", len(unexpected))\n",
        "\n",
        "# 3) dtype/device 정리\n",
        "#    fp16 추론 권장(속도/메모리), 필요시 fp32 유지 가능\n",
        "decoder_same = decoder_same.to(dtype=torch.float16 if DEVICE==\"cuda\" else torch.float32).eval()\n",
        "print(\"[3/3] decoder dtype:\", next(decoder_same.parameters()).dtype, \" device:\", DEVICE)\n",
        "\n",
        "# ---- quick sanity decode (uses `latents` if available) ----\n",
        "\n",
        "def to_pil_batch(x):\n",
        "    x01 = (x.clamp(-1,1) + 1) / 2\n",
        "    x_u8 = (x01 * 255).byte().cpu().permute(0,2,3,1).numpy()\n",
        "    return [Image.fromarray(arr) for arr in x_u8]\n",
        "\n",
        "with torch.no_grad():\n",
        "    # 라틴트가 이미 있으면 그걸 사용, 없으면 더미로 모양만 테스트\n",
        "    if 'latents' in globals():\n",
        "        z = latents.to(DEVICE, dtype=next(decoder_same.parameters()).dtype)\n",
        "    else:\n",
        "        z = torch.randn(1, 4, 64, 64, device=DEVICE, dtype=next(decoder_same.parameters()).dtype)\n",
        "        print(\"(!) `latents` not found; using random latent for shape check\")\n",
        "\n",
        "    # autocast는 fp16에서만 켜기\n",
        "    use_amp = (DEVICE==\"cuda\" and next(decoder_same.parameters()).dtype==torch.float16)\n",
        "    ctx = torch.autocast(device_type=\"cuda\", enabled=use_amp)\n",
        "\n",
        "    with ctx:\n",
        "        x = decoder_same(z)  # [-1,1], [B,3,512,512]\n",
        "\n",
        "imgs = to_pil_batch(x)\n",
        "out_path = \"/content/vae_decoder_loaded.png\"\n",
        "imgs[0].save(out_path)\n",
        "print(\"Saved:\", out_path, \" | shape:\", x.shape)\n"
      ],
      "metadata": {
        "colab": {
          "base_uri": "https://localhost:8080/"
        },
        "id": "IX0GrKtZ2Hw8",
        "outputId": "488a499c-c626-459d-e1bf-81137f49f760"
      },
      "execution_count": null,
      "outputs": [
        {
          "output_type": "stream",
          "name": "stdout",
          "text": [
            "Decoder ready (architecture matched).\n",
            "scaling_factor: 0.18215\n",
            "[1/3] Fetching VAE weights from: runwayml/stable-diffusion-v1-5\n",
            " - extracted 140 decoder keys\n",
            "[2/3] load_state_dict(strict=False)\n",
            " - missing keys   : 0 \n",
            " - unexpected keys: 0\n",
            "[3/3] decoder dtype: torch.float16  device: cuda\n",
            "Saved: /content/vae_decoder_loaded.png  | shape: torch.Size([1, 3, 512, 512])\n"
          ]
        }
      ]
    },
    {
      "cell_type": "code",
      "source": [
        "# === 프롬프트 → UNet 확산으로 latent 50장 생성 → decoder_same로 복원 → matplotlib 그리드 ===\n",
        "import math\n",
        "import torch\n",
        "import matplotlib.pyplot as plt\n",
        "from diffusers import StableDiffusionPipeline\n",
        "\n",
        "# 0) 설정\n",
        "prompt = \"one simple circle plate, ceramic, ultra detailed\"\n",
        "num_total  = 1200\n",
        "batch_size = 16\n",
        "steps      = 30\n",
        "guidance   = 7.5\n",
        "base_seed  = None  # 매 실행 동일 결과 원하면 고정; 다양하게 뽑으려면 None로 두고 아래 시드 생성부분 생략\n",
        "\n",
        "# 1) 파이프 준비 (한 번만 로드)\n",
        "if 'pipe' not in globals():\n",
        "    pipe = StableDiffusionPipeline.from_pretrained(\n",
        "        MODEL_ID,\n",
        "        torch_dtype=(torch.float16 if DEVICE == \"cuda\" else torch.float32),\n",
        "        safety_checker=None\n",
        "    ).to(DEVICE)\n",
        "    pipe.set_progress_bar_config(disable=True)\n",
        "\n",
        "# 2) 50개 latent를 5장씩 생성 (output_type='latent'로 VAE 전 단계 latent 획득)\n",
        "latents_list = []\n",
        "with torch.no_grad():\n",
        "    n_batches = math.ceil(num_total / batch_size)\n",
        "    for b in range(n_batches):\n",
        "        # (선택) 시드 고정: 각 이미지마다 다른 시드\n",
        "        # if base_seed is not None:\n",
        "        #     gens = []\n",
        "        #     for k in range(batch_size):\n",
        "        #         g = torch.Generator(device=DEVICE)\n",
        "        #         g.manual_seed(base_seed + b*batch_size + k)\n",
        "        #         gens.append(g)\n",
        "        # else:\n",
        "        #     gens = None  # 무작위\n",
        "\n",
        "        out = pipe(\n",
        "            prompt=[prompt]*batch_size,\n",
        "            num_inference_steps=steps,\n",
        "            guidance_scale=guidance,\n",
        "            num_images_per_prompt=1,\n",
        "            output_type=\"latent\",\n",
        "            # generator=gens\n",
        "        )\n",
        "        # diffusers는 output_type='latent'일 때, latents를 out.images에 담아 반환\n",
        "        z_scaled_batch = out.images  # shape: [B, 4, 64, 64], 이미 scaling_factor가 곱해진 공간\n",
        "        latents_list.append(z_scaled_batch)\n",
        "\n",
        "# 3) 디코더로 복원 (당신의 decoder_same은 z_scaled 입력을 기대함)\n",
        "imgs = []\n",
        "use_amp = (DEVICE==\"cuda\" and next(decoder_same.parameters()).dtype==torch.float16)\n",
        "with torch.no_grad(), torch.autocast(device_type=\"cuda\", enabled=use_amp):\n",
        "    for z_scaled in latents_list:\n",
        "        # 파이프 출력 dtype/device와 디코더 파라미터 dtype/device를 맞춰줌\n",
        "        z_scaled = z_scaled.to(DEVICE, dtype=next(decoder_same.parameters()).dtype, non_blocking=True)\n",
        "        x = decoder_same(z_scaled)  # [-1,1], [B,3,512,512]\n",
        "        imgs.extend(to_pil_batch(x))\n",
        "\n",
        "# 4) matplotlib 그리드로 보기 (5행 x 10열)\n",
        "cols = 10\n",
        "rows = math.ceil(len(imgs) / cols)\n",
        "plt.figure(figsize=(20, 2*rows))\n",
        "for i, img in enumerate(imgs[:num_total]):\n",
        "    plt.subplot(rows, cols, i+1)\n",
        "    plt.imshow(img)\n",
        "    plt.axis(\"off\")\n",
        "plt.tight_layout()\n",
        "plt.show()\n",
        "\n",
        "print(f\"샘플 개수: {len(imgs)} | steps={steps}, guidance={guidance}, seed_base={base_seed}\")\n",
        "\n",
        "import os\n",
        "save_dir = \"/content/generated\"\n",
        "os.makedirs(save_dir, exist_ok=True)\n",
        "\n",
        "for i, img in enumerate(imgs):\n",
        "    img.save(os.path.join(save_dir, f\"sample_{i:03d}.png\"))\n",
        "print(\"개별 저장 완료:\", len(imgs), \"장\")"
      ],
      "metadata": {
        "id": "axyigoZ-TAb1"
      },
      "execution_count": null,
      "outputs": []
    },
    {
      "cell_type": "markdown",
      "source": [
        "개인이 가중치 없이 직접 학습하는건 너무 비현실적.\n",
        "\n",
        "따라서 디코더 아키텍처를 구현 후 사전학습된 가중치를 주입해서 작동하도록 구현.\n",
        "\n",
        "간단하게 구현한다면 그냥 모델로 가져와서 프롬프트 넣고 실행도 가능."
      ],
      "metadata": {
        "id": "EI3k6brrLX6q"
      }
    },
    {
      "cell_type": "markdown",
      "source": [
        "### **VAE 아키텍처 구현 (가중치 없음)**"
      ],
      "metadata": {
        "id": "XRCV8Yz0vlQx"
      }
    },
    {
      "cell_type": "code",
      "source": [
        "MODEL_ID = \"runwayml/stable-diffusion-v1-5\"  # SD 1.x 계열\n",
        "DEVICE   = \"cuda\" if torch.cuda.is_available() else \"cpu\"\n",
        "\n",
        "def _get_vae_config(model_id=MODEL_ID):\n",
        "    \"\"\"\n",
        "    diffusers >=0.20: AutoencoderKL.load_config 사용 가능.\n",
        "    하위 버전 호환을 위해 from_pretrained로 config만 가져오는 폴백 포함.\n",
        "    \"\"\"\n",
        "    cfg = None\n",
        "    if hasattr(AutoencoderKL, \"load_config\"):\n",
        "        try:\n",
        "            cfg = AutoencoderKL.load_config(model_id, subfolder=\"vae\")\n",
        "        except Exception:\n",
        "            cfg = None\n",
        "    if cfg is None:\n",
        "        # weights까지 받아오지만 config만 복제해 사용\n",
        "        _tmp = AutoencoderKL.from_pretrained(model_id, subfolder=\"vae\")\n",
        "        cfg = _tmp.config\n",
        "        del _tmp\n",
        "    return cfg\n",
        "\n",
        "class SDVAEDecoder(nn.Module):\n",
        "    \"\"\"\n",
        "    Stable Diffusion VAE 디코더와 '완전히 동일한 구조'의 디코더 래퍼.\n",
        "    - post_quant_conv + decoder 로 구성 (AutoencoderKL와 동일)\n",
        "    - scaling_factor(기본 0.18215) 처리 포함\n",
        "    \"\"\"\n",
        "    def __init__(self, cfg=None, scaling_factor=None):\n",
        "        super().__init__()\n",
        "        if cfg is None:\n",
        "            cfg = _get_vae_config(MODEL_ID)\n",
        "        # 동일 아키텍처의 전체 VAE를 '구성만' 복제\n",
        "        vae_like = AutoencoderKL.from_config(cfg)\n",
        "        # 디코더에 필요한 서브모듈만 보존\n",
        "        self.post_quant_conv = vae_like.post_quant_conv\n",
        "        self.decoder         = vae_like.decoder\n",
        "\n",
        "        # SD 스케일링 팩터 (config에 있으면 그대로)\n",
        "        self.scaling_factor = (\n",
        "            scaling_factor if scaling_factor is not None\n",
        "            else getattr(cfg, \"scaling_factor\", 0.18215)\n",
        "        )\n",
        "\n",
        "    @torch.no_grad()\n",
        "    def forward(self, z_scaled, return_dict=False):\n",
        "        \"\"\"\n",
        "        입력:\n",
        "          z_scaled: [B,4,64,64]  (SD latent, 이미 × scaling_factor 적용된 것)\n",
        "        출력:\n",
        "          x: [-1,1] 범위의 [B,3,512,512]\n",
        "        \"\"\"\n",
        "        # 언스케일 → post_quant_conv → decoder\n",
        "        z = z_scaled / z_scaled.new_tensor(self.scaling_factor)\n",
        "        z = self.post_quant_conv(z)\n",
        "        dec_out = self.decoder(z)\n",
        "        # diffusers Decoder는 DecoderOutput(sample=...)을 반환\n",
        "        x = dec_out.sample if hasattr(dec_out, \"sample\") else dec_out\n",
        "        if return_dict:\n",
        "            return {\"sample\": x}\n",
        "        return x\n",
        "\n",
        "\n",
        "# ---- 디코더 인스턴스 생성 (아키텍처만 동일, 가중치 로드 없음) ----\n",
        "decoder_same = SDVAEDecoder().to(DEVICE).eval()\n",
        "print(\"Decoder ready (architecture matched).\")\n",
        "print(\"scaling_factor:\", decoder_same.scaling_factor)\n",
        "\n",
        "# ---- quick sanity check ----\n",
        "with torch.no_grad():\n",
        "    z = torch.randn(1, 4, 64, 64, device=DEVICE, dtype=torch.float32)\n",
        "    x = decoder_same(z)  # [-1,1], [B,3,512,512]\n",
        "\n",
        "def to_pil_batch(x):\n",
        "    x01 = (x.clamp(-1,1) + 1) / 2\n",
        "    x_u8 = (x01 * 255).byte().cpu().permute(0,2,3,1).numpy()\n",
        "    return [Image.fromarray(arr) for arr in x_u8]\n",
        "\n",
        "with torch.no_grad():\n",
        "    # 라틴트가 이미 있으면 그걸 사용, 없으면 더미로 모양만 테스트\n",
        "    if 'latents' in globals():\n",
        "        z = latents.to(DEVICE, dtype=next(decoder_same.parameters()).dtype)\n",
        "    else:\n",
        "        z = torch.randn(1, 4, 64, 64, device=DEVICE, dtype=next(decoder_same.parameters()).dtype)\n",
        "        print(\"(!) `latents` not found; using random latent for shape check\")\n",
        "\n",
        "    # autocast는 fp16에서만 켜기\n",
        "    use_amp = (DEVICE==\"cuda\" and next(decoder_same.parameters()).dtype==torch.float16)\n",
        "    ctx = torch.autocast(device_type=\"cuda\", enabled=use_amp)\n",
        "\n",
        "    with ctx:\n",
        "        x = decoder_same(z)  # [-1,1], [B,3,512,512]\n",
        "\n",
        "imgs = to_pil_batch(x)\n",
        "out_path = \"/content/images/vae_decoder_loaded.png\"\n",
        "imgs[0].save(out_path)\n",
        "print(\"Saved:\", out_path, \" | shape:\", x.shape)\n"
      ],
      "metadata": {
        "colab": {
          "base_uri": "https://localhost:8080/"
        },
        "id": "rqCEEC2tvtbQ",
        "outputId": "5d1444f6-d2f7-4ac2-b671-01e04c9f6c37"
      },
      "execution_count": null,
      "outputs": [
        {
          "output_type": "stream",
          "name": "stdout",
          "text": [
            "Decoder ready (architecture matched).\n",
            "scaling_factor: 0.18215\n",
            "Saved: /content/images/vae_decoder_loaded.png  | shape: torch.Size([1, 3, 512, 512])\n"
          ]
        }
      ]
    },
    {
      "cell_type": "markdown",
      "source": [
        "### **※ 프롬프트 작성 후 디코더 실행! ※**"
      ],
      "metadata": {
        "id": "VGohixa3J6Q9"
      }
    },
    {
      "cell_type": "markdown",
      "source": [
        "## **VAE학습**"
      ],
      "metadata": {
        "id": "4Q0pv0RuzKzw"
      }
    },
    {
      "cell_type": "code",
      "source": [
        "# 공통 임포트 & 경로\n",
        "import os, json, math, time\n",
        "from pathlib import Path\n",
        "\n",
        "import torch\n",
        "import torch.nn as nn\n",
        "import torch.nn.functional as F\n",
        "from torch.utils.data import Dataset, DataLoader\n",
        "from torchvision import datasets, transforms, utils\n",
        "from PIL import Image\n",
        "\n",
        "from diffusers.models import AutoencoderKL  # 캐시 생성(교사 인코더)에서만 사용\n",
        "\n",
        "# !pip -q install lpips\n",
        "try:\n",
        "    import lpips\n",
        "    _has_lpips = True\n",
        "except:\n",
        "    _has_lpips = False\n",
        "\n",
        "MODEL_ID = \"runwayml/stable-diffusion-v1-5\"\n",
        "DEVICE   = \"cuda\" if torch.cuda.is_available() else \"cpu\"\n",
        "\n",
        "# 학습/검증 이미지 폴더(이미 가지고 있는 데이터)\n",
        "data_root = \"/content/data_root\"   # 예: /content/data_root/train, /content/data_root/val\n",
        "lat_root  = \"/content/latent_cache\"  # z_scaled 캐시를 저장할 폴더\n",
        "Path(lat_root).mkdir(parents=True, exist_ok=True)\n",
        "\n",
        "img_size = 512\n",
        "to_tensor_pm1 = transforms.Compose([\n",
        "    transforms.Resize(img_size, interpolation=transforms.InterpolationMode.BICUBIC),\n",
        "    transforms.CenterCrop(img_size),\n",
        "    transforms.ToTensor(),\n",
        "    transforms.Lambda(lambda t: t*2.0-1.0),  # [-1,1]\n",
        "])\n",
        "\n",
        "def denorm01(x):  # [-1,1] -> [0,1]\n",
        "    return (x.clamp(-1,1)+1)/2\n"
      ],
      "metadata": {
        "id": "4ujHU_uYzK23"
      },
      "execution_count": null,
      "outputs": []
    },
    {
      "cell_type": "markdown",
      "source": [
        "## **ResNet18 학습**"
      ],
      "metadata": {
        "id": "vjQN_elrIRx4"
      }
    },
    {
      "cell_type": "code",
      "source": [
        "from pathlib import Path\n",
        "SRC_REAL = Path(\"/content/painted-ceramic-dataset-master/data/plate\")  # 원본 real\n",
        "SRC_FAKE = Path(\"/content/generated\")                                  # 원본 fake (png)\n",
        "DST_REAL = Path(\"/content/data/real_images_std\")                       # 표준화 real 저장 경로\n",
        "DST_FAKE = Path(\"/content/data/fake_images_std\")                       # 표준화 fake 저장 경로"
      ],
      "metadata": {
        "id": "B4rK5_zPAwHV"
      },
      "execution_count": null,
      "outputs": []
    },
    {
      "cell_type": "code",
      "source": [
        "# === 표준화: 모든 이미지를 RGB, SIZE×SIZE, JPEG로 재인코딩 (원본 유지) ===\n",
        "import os\n",
        "from pathlib import Path\n",
        "from PIL import Image\n",
        "\n",
        "SIZE = 224           # ResNet 입력 크기 (필요시 512로 변경 가능)\n",
        "FORMAT = \"JPEG\"      # \"PNG\"로 바꿔도 됨\n",
        "JPEG_QUALITY = 95    # JPEG 품질\n",
        "\n",
        "def standardize_dir(src_dir: Path, dst_dir: Path, size=SIZE, to_format=FORMAT):\n",
        "    dst_dir.mkdir(parents=True, exist_ok=True)\n",
        "    exts = {\".jpg\",\".jpeg\",\".png\",\".webp\",\".bmp\",\".tiff\"}\n",
        "    cnt = 0\n",
        "    for p in src_dir.rglob(\"*\"):\n",
        "        if p.suffix.lower() not in exts or not p.is_file():\n",
        "            continue\n",
        "        try:\n",
        "            img = Image.open(p).convert(\"RGB\")\n",
        "            img = img.resize((size, size), Image.BICUBIC)\n",
        "            out = dst_dir / (p.stem + (\".jpg\" if to_format.upper()==\"JPEG\" else \".png\"))\n",
        "            if to_format.upper() == \"JPEG\":\n",
        "                img.save(out, \"JPEG\", quality=JPEG_QUALITY, optimize=True)\n",
        "            else:\n",
        "                img.save(out, \"PNG\", optimize=True)\n",
        "            cnt += 1\n",
        "        except Exception as e:\n",
        "            print(\"skip:\", p, e)\n",
        "    print(f\"{src_dir} → {dst_dir} : {cnt} files\")\n",
        "\n",
        "print(\"Standardizing REAL...\")\n",
        "standardize_dir(SRC_REAL, DST_REAL)\n",
        "print(\"Standardizing FAKE...\")\n",
        "standardize_dir(SRC_FAKE, DST_FAKE)\n"
      ],
      "metadata": {
        "colab": {
          "base_uri": "https://localhost:8080/"
        },
        "id": "RercFCa-m0rn",
        "outputId": "5bc463f2-ee46-4d57-87e6-42850aadcdc8"
      },
      "execution_count": null,
      "outputs": [
        {
          "output_type": "stream",
          "name": "stdout",
          "text": [
            "Standardizing REAL...\n",
            "/content/painted-ceramic-dataset-master/data/plate → /content/data/real_images_std : 1298 files\n",
            "Standardizing FAKE...\n",
            "/content/generated → /content/data/fake_images_std : 1200 files\n"
          ]
        }
      ]
    },
    {
      "cell_type": "code",
      "source": [
        "# === 표준화된 이미지를 ImageFolder 구조로 복사 분할 (train/val/test=0.8/0.1/0.1) ===\n",
        "import os, random, shutil\n",
        "from pathlib import Path\n",
        "from typing import List\n",
        "\n",
        "TARGET_ROOT = Path(\"/content/data_real\")  # ImageFolder 루트 (새로 생성)\n",
        "SPLIT = {\"train\": 0.8, \"val\": 0.1, \"test\": 0.1}\n",
        "SEED = 42\n",
        "random.seed(SEED)\n",
        "\n",
        "def list_images(d: Path):\n",
        "    exts = {\".jpg\",\".jpeg\",\".png\",\".webp\",\".bmp\",\".tiff\"}\n",
        "    return [p for p in d.glob(\"*\") if p.suffix.lower() in exts and p.is_file()]\n",
        "\n",
        "real_list = list_images(DST_REAL)\n",
        "fake_list = list_images(DST_FAKE)\n",
        "random.shuffle(real_list); random.shuffle(fake_list)\n",
        "\n",
        "def split_list(items, split_cfg):\n",
        "    n = len(items)\n",
        "    n_train = int(n * split_cfg[\"train\"])\n",
        "    n_val   = int(n * split_cfg[\"val\"])\n",
        "    n_test  = n - n_train - n_val\n",
        "    return items[:n_train], items[n_train:n_train+n_val], items[n_train+n_val:]\n",
        "\n",
        "real_tr, real_va, real_te = split_list(real_list, SPLIT)\n",
        "fake_tr, fake_va, fake_te = split_list(fake_list, SPLIT)\n",
        "\n",
        "def copy_into(split_name, real_split, fake_split):\n",
        "    for i, p in enumerate(real_split):\n",
        "        dst = TARGET_ROOT / split_name / \"real\" / f\"real_{i:06d}{p.suffix.lower()}\"\n",
        "        dst.parent.mkdir(parents=True, exist_ok=True)\n",
        "        shutil.copy2(p, dst)\n",
        "    for i, p in enumerate(fake_split):\n",
        "        dst = TARGET_ROOT / split_name / \"fake\" / f\"fake_{i:06d}{p.suffix.lower()}\"\n",
        "        dst.parent.mkdir(parents=True, exist_ok=True)\n",
        "        shutil.copy2(p, dst)\n",
        "\n",
        "copy_into(\"train\", real_tr, real_tr := real_tr)  # mypy quiet\n",
        "copy_into(\"val\",   real_va, fake_va)\n",
        "copy_into(\"test\",  real_te, fake_te)\n",
        "\n",
        "# 위 한 줄 오타 방지: 재정의 제거\n",
        "# 정확히 다시 복사:\n",
        "shutil.rmtree(TARGET_ROOT, ignore_errors=True)\n",
        "def copy_into(split_name, real_split, fake_split):\n",
        "    for i, p in enumerate(real_split):\n",
        "        dst = TARGET_ROOT / split_name / \"real\" / f\"real_{i:06d}{p.suffix.lower()}\"\n",
        "        dst.parent.mkdir(parents=True, exist_ok=True)\n",
        "        shutil.copy2(p, dst)\n",
        "    for i, p in enumerate(fake_split):\n",
        "        dst = TARGET_ROOT / split_name / \"fake\" / f\"fake_{i:06d}{p.suffix.lower()}\"\n",
        "        dst.parent.mkdir(parents=True, exist_ok=True)\n",
        "        shutil.copy2(p, dst)\n",
        "\n",
        "copy_into(\"train\", real_tr, fake_tr)\n",
        "copy_into(\"val\",   real_va, fake_va)\n",
        "copy_into(\"test\",  real_te, fake_te)\n",
        "\n",
        "print(\"✅ ImageFolder ready at:\", TARGET_ROOT)\n",
        "for split in [\"train\",\"val\",\"test\"]:\n",
        "    pr = TARGET_ROOT/split/\"real\"; pf = TARGET_ROOT/split/\"fake\"\n",
        "    nr = len(list(pr.glob(\"*\"))) if pr.exists() else 0\n",
        "    nf = len(list(pf.glob(\"*\"))) if pf.exists() else 0\n",
        "    print(f\"{split:5s} | real: {nr:4d} | fake: {nf:4d}\")\n"
      ],
      "metadata": {
        "colab": {
          "base_uri": "https://localhost:8080/"
        },
        "id": "xBzggZat5s6v",
        "outputId": "3934f632-4704-48c2-cbf7-7930185aca0c"
      },
      "execution_count": null,
      "outputs": [
        {
          "output_type": "stream",
          "name": "stdout",
          "text": [
            "✅ ImageFolder ready at: /content/data_real\n",
            "train | real: 1038 | fake:  960\n",
            "val   | real:  129 | fake:  120\n",
            "test  | real:  131 | fake:  120\n"
          ]
        }
      ]
    },
    {
      "cell_type": "code",
      "source": [
        "# === DataLoader ===\n",
        "import torch\n",
        "from torch.utils.data import DataLoader\n",
        "from torchvision import datasets, transforms\n",
        "\n",
        "DEVICE = \"cuda\" if torch.cuda.is_available() else \"cpu\"\n",
        "data_root = str(TARGET_ROOT)\n",
        "\n",
        "train_tf = transforms.Compose([\n",
        "    transforms.ToTensor(),\n",
        "    transforms.Normalize([0.485,0.456,0.406],[0.229,0.224,0.225]),\n",
        "])\n",
        "eval_tf = transforms.Compose([\n",
        "    transforms.ToTensor(),\n",
        "    transforms.Normalize([0.485,0.456,0.406],[0.229,0.224,0.225]),\n",
        "])\n",
        "\n",
        "train_set = datasets.ImageFolder(f\"{data_root}/train\", transform=train_tf)\n",
        "val_set   = datasets.ImageFolder(f\"{data_root}/val\",   transform=eval_tf)\n",
        "test_set  = datasets.ImageFolder(f\"{data_root}/test\",  transform=eval_tf)\n",
        "\n",
        "print(\"class_to_idx:\", train_set.class_to_idx)  # 예: {'fake':0, 'real':1}\n",
        "\n",
        "batch_size = 64  # A100이면 128~256도 가능(메모리 상황에 맞게 조정)\n",
        "train_loader = DataLoader(train_set, batch_size=batch_size, shuffle=True,  num_workers=2, pin_memory=True)\n",
        "val_loader   = DataLoader(val_set,   batch_size=batch_size, shuffle=False, num_workers=2, pin_memory=True)\n",
        "test_loader  = DataLoader(test_set,  batch_size=batch_size, shuffle=False, num_workers=2, pin_memory=True)\n",
        "\n",
        "# pos_weight (양성=real=1 가정) → 불균형 보정\n",
        "idx_map = train_set.class_to_idx\n",
        "neg = sum(1 for _, y in train_set.samples if y == idx_map['fake'])\n",
        "pos = sum(1 for _, y in train_set.samples if y == idx_map['real'])\n",
        "pos_weight = torch.tensor([neg / max(pos,1)], device=DEVICE, dtype=torch.float32)\n",
        "print(f\"train counts -> fake(0)={neg}, real(1)={pos}, pos_weight={pos_weight.item():.3f}\")\n"
      ],
      "metadata": {
        "colab": {
          "base_uri": "https://localhost:8080/"
        },
        "id": "mtfJkKOqK6_c",
        "outputId": "e281dc4d-868e-4436-d01c-00039d081c3a"
      },
      "execution_count": null,
      "outputs": [
        {
          "output_type": "stream",
          "name": "stdout",
          "text": [
            "class_to_idx: {'fake': 0, 'real': 1}\n",
            "train counts -> fake(0)=960, real(1)=1038, pos_weight=0.925\n"
          ]
        }
      ]
    },
    {
      "cell_type": "code",
      "source": [
        "# === ResNet18 학습 ===\n",
        "import torch\n",
        "import torch.nn as nn\n",
        "from torchvision.models import resnet18, ResNet18_Weights\n",
        "from tqdm import tqdm\n",
        "\n",
        "model = resnet18(weights=ResNet18_Weights.IMAGENET1K_V1)\n",
        "in_features = model.fc.in_features\n",
        "model.fc = nn.Linear(in_features, 1)  # 이진분류 (로짓 1개)\n",
        "model = model.to(DEVICE)\n",
        "\n",
        "criterion = nn.BCEWithLogitsLoss(pos_weight=pos_weight)\n",
        "optimizer = torch.optim.AdamW(model.parameters(), lr=1e-3, weight_decay=1e-4)\n",
        "scheduler = torch.optim.lr_scheduler.CosineAnnealingLR(optimizer, T_max=10*len(train_loader))\n",
        "\n",
        "def run_epoch(loader, train_mode=True):\n",
        "    model.train() if train_mode else model.eval()\n",
        "    total_loss, total_correct, total = 0.0, 0, 0\n",
        "    for imgs, labels in tqdm(loader, disable=False):\n",
        "        imgs = imgs.to(DEVICE)\n",
        "        labels = labels.to(DEVICE).float().unsqueeze(1)  # [B,1]\n",
        "        if train_mode:\n",
        "            optimizer.zero_grad(set_to_none=True)\n",
        "        with torch.set_grad_enabled(train_mode):\n",
        "            logits = model(imgs)\n",
        "            loss = criterion(logits, labels)\n",
        "            if train_mode:\n",
        "                loss.backward()\n",
        "                torch.nn.utils.clip_grad_norm_(model.parameters(), 1.0)\n",
        "                optimizer.step()\n",
        "                scheduler.step()\n",
        "        total_loss += loss.item() * imgs.size(0)\n",
        "        preds = (torch.sigmoid(logits) > 0.5).long()\n",
        "        total_correct += (preds == labels.long()).sum().item()\n",
        "        total += labels.size(0)\n",
        "    return total_loss/total, total_correct/total\n",
        "\n",
        "epochs, best_val = 100, float('inf')\n",
        "best_path = \"/content/resnet18_real_vs_fake_best.pth\"\n",
        "\n",
        "for ep in range(1, epochs+1):\n",
        "    tr_loss, tr_acc = run_epoch(train_loader, True)\n",
        "    val_loss, val_acc = run_epoch(val_loader, False)\n",
        "    print(f\"[{ep:02d}/{epochs}] Train {tr_loss:.4f}/{tr_acc:.3f} | Val {val_loss:.4f}/{val_acc:.3f}\")\n",
        "    if val_loss < best_val:\n",
        "        best_val = val_loss\n",
        "        torch.save(model.state_dict(), best_path)\n",
        "        print(\"  ↳ best saved:\", best_path)\n"
      ],
      "metadata": {
        "id": "OXaobgcazK9n",
        "colab": {
          "base_uri": "https://localhost:8080/"
        },
        "outputId": "4141772b-6b17-4294-bd3c-bcc3fcfa5157"
      },
      "execution_count": null,
      "outputs": [
        {
          "output_type": "stream",
          "name": "stderr",
          "text": [
            "100%|██████████| 32/32 [00:02<00:00, 14.62it/s]\n",
            "100%|██████████| 4/4 [00:00<00:00,  7.45it/s]\n"
          ]
        },
        {
          "output_type": "stream",
          "name": "stdout",
          "text": [
            "[01/100] Train 0.1111/0.954 | Val 0.6221/0.904\n",
            "  ↳ best saved: /content/resnet18_real_vs_fake_best.pth\n"
          ]
        },
        {
          "output_type": "stream",
          "name": "stderr",
          "text": [
            "100%|██████████| 32/32 [00:02<00:00, 14.60it/s]\n",
            "100%|██████████| 4/4 [00:00<00:00,  7.27it/s]\n"
          ]
        },
        {
          "output_type": "stream",
          "name": "stdout",
          "text": [
            "[02/100] Train 0.0433/0.982 | Val 0.1630/0.944\n",
            "  ↳ best saved: /content/resnet18_real_vs_fake_best.pth\n"
          ]
        },
        {
          "output_type": "stream",
          "name": "stderr",
          "text": [
            "100%|██████████| 32/32 [00:02<00:00, 14.55it/s]\n",
            "100%|██████████| 4/4 [00:00<00:00,  7.26it/s]\n"
          ]
        },
        {
          "output_type": "stream",
          "name": "stdout",
          "text": [
            "[03/100] Train 0.0300/0.988 | Val 0.0814/0.976\n",
            "  ↳ best saved: /content/resnet18_real_vs_fake_best.pth\n"
          ]
        },
        {
          "output_type": "stream",
          "name": "stderr",
          "text": [
            "100%|██████████| 32/32 [00:02<00:00, 14.60it/s]\n",
            "100%|██████████| 4/4 [00:00<00:00,  7.37it/s]\n"
          ]
        },
        {
          "output_type": "stream",
          "name": "stdout",
          "text": [
            "[04/100] Train 0.0221/0.993 | Val 0.0451/0.976\n",
            "  ↳ best saved: /content/resnet18_real_vs_fake_best.pth\n"
          ]
        },
        {
          "output_type": "stream",
          "name": "stderr",
          "text": [
            "100%|██████████| 32/32 [00:02<00:00, 14.26it/s]\n",
            "100%|██████████| 4/4 [00:00<00:00,  7.39it/s]\n"
          ]
        },
        {
          "output_type": "stream",
          "name": "stdout",
          "text": [
            "[05/100] Train 0.0115/0.995 | Val 0.0775/0.972\n"
          ]
        },
        {
          "output_type": "stream",
          "name": "stderr",
          "text": [
            "100%|██████████| 32/32 [00:02<00:00, 14.51it/s]\n",
            "100%|██████████| 4/4 [00:00<00:00,  7.24it/s]\n"
          ]
        },
        {
          "output_type": "stream",
          "name": "stdout",
          "text": [
            "[06/100] Train 0.0074/0.998 | Val 0.0652/0.980\n"
          ]
        },
        {
          "output_type": "stream",
          "name": "stderr",
          "text": [
            "100%|██████████| 32/32 [00:02<00:00, 14.32it/s]\n",
            "100%|██████████| 4/4 [00:00<00:00,  7.33it/s]\n"
          ]
        },
        {
          "output_type": "stream",
          "name": "stdout",
          "text": [
            "[07/100] Train 0.0027/0.999 | Val 0.0539/0.976\n"
          ]
        },
        {
          "output_type": "stream",
          "name": "stderr",
          "text": [
            "100%|██████████| 32/32 [00:02<00:00, 14.38it/s]\n",
            "100%|██████████| 4/4 [00:00<00:00,  7.39it/s]\n"
          ]
        },
        {
          "output_type": "stream",
          "name": "stdout",
          "text": [
            "[08/100] Train 0.0020/0.999 | Val 0.0737/0.980\n"
          ]
        },
        {
          "output_type": "stream",
          "name": "stderr",
          "text": [
            "100%|██████████| 32/32 [00:02<00:00, 14.38it/s]\n",
            "100%|██████████| 4/4 [00:00<00:00,  7.40it/s]\n"
          ]
        },
        {
          "output_type": "stream",
          "name": "stdout",
          "text": [
            "[09/100] Train 0.0006/1.000 | Val 0.0625/0.980\n"
          ]
        },
        {
          "output_type": "stream",
          "name": "stderr",
          "text": [
            "100%|██████████| 32/32 [00:02<00:00, 14.13it/s]\n",
            "100%|██████████| 4/4 [00:00<00:00,  7.57it/s]\n"
          ]
        },
        {
          "output_type": "stream",
          "name": "stdout",
          "text": [
            "[10/100] Train 0.0008/1.000 | Val 0.0697/0.980\n"
          ]
        },
        {
          "output_type": "stream",
          "name": "stderr",
          "text": [
            "100%|██████████| 32/32 [00:02<00:00, 14.45it/s]\n",
            "100%|██████████| 4/4 [00:00<00:00,  7.41it/s]\n"
          ]
        },
        {
          "output_type": "stream",
          "name": "stdout",
          "text": [
            "[11/100] Train 0.0009/0.999 | Val 0.0688/0.980\n"
          ]
        },
        {
          "output_type": "stream",
          "name": "stderr",
          "text": [
            "100%|██████████| 32/32 [00:02<00:00, 14.72it/s]\n",
            "100%|██████████| 4/4 [00:00<00:00,  7.41it/s]\n"
          ]
        },
        {
          "output_type": "stream",
          "name": "stdout",
          "text": [
            "[12/100] Train 0.0004/1.000 | Val 0.0632/0.980\n"
          ]
        },
        {
          "output_type": "stream",
          "name": "stderr",
          "text": [
            "100%|██████████| 32/32 [00:02<00:00, 14.42it/s]\n",
            "100%|██████████| 4/4 [00:00<00:00,  7.42it/s]\n"
          ]
        },
        {
          "output_type": "stream",
          "name": "stdout",
          "text": [
            "[13/100] Train 0.0005/1.000 | Val 0.0579/0.980\n"
          ]
        },
        {
          "output_type": "stream",
          "name": "stderr",
          "text": [
            "100%|██████████| 32/32 [00:02<00:00, 14.43it/s]\n",
            "100%|██████████| 4/4 [00:00<00:00,  7.44it/s]\n"
          ]
        },
        {
          "output_type": "stream",
          "name": "stdout",
          "text": [
            "[14/100] Train 0.0003/1.000 | Val 0.0611/0.980\n"
          ]
        },
        {
          "output_type": "stream",
          "name": "stderr",
          "text": [
            "100%|██████████| 32/32 [00:02<00:00, 14.19it/s]\n",
            "100%|██████████| 4/4 [00:00<00:00,  7.36it/s]\n"
          ]
        },
        {
          "output_type": "stream",
          "name": "stdout",
          "text": [
            "[15/100] Train 0.0002/1.000 | Val 0.0562/0.980\n"
          ]
        },
        {
          "output_type": "stream",
          "name": "stderr",
          "text": [
            "100%|██████████| 32/32 [00:02<00:00, 14.54it/s]\n",
            "100%|██████████| 4/4 [00:00<00:00,  7.42it/s]\n"
          ]
        },
        {
          "output_type": "stream",
          "name": "stdout",
          "text": [
            "[16/100] Train 0.0005/1.000 | Val 0.0525/0.980\n"
          ]
        },
        {
          "output_type": "stream",
          "name": "stderr",
          "text": [
            "100%|██████████| 32/32 [00:02<00:00, 14.78it/s]\n",
            "100%|██████████| 4/4 [00:00<00:00,  7.38it/s]\n"
          ]
        },
        {
          "output_type": "stream",
          "name": "stdout",
          "text": [
            "[17/100] Train 0.0013/1.000 | Val 0.0673/0.976\n"
          ]
        },
        {
          "output_type": "stream",
          "name": "stderr",
          "text": [
            "100%|██████████| 32/32 [00:02<00:00, 14.73it/s]\n",
            "100%|██████████| 4/4 [00:00<00:00,  7.42it/s]\n"
          ]
        },
        {
          "output_type": "stream",
          "name": "stdout",
          "text": [
            "[18/100] Train 0.0380/0.989 | Val 0.6567/0.940\n"
          ]
        },
        {
          "output_type": "stream",
          "name": "stderr",
          "text": [
            "100%|██████████| 32/32 [00:02<00:00, 14.80it/s]\n",
            "100%|██████████| 4/4 [00:00<00:00,  7.45it/s]\n"
          ]
        },
        {
          "output_type": "stream",
          "name": "stdout",
          "text": [
            "[19/100] Train 0.0661/0.977 | Val 0.1353/0.956\n"
          ]
        },
        {
          "output_type": "stream",
          "name": "stderr",
          "text": [
            "100%|██████████| 32/32 [00:02<00:00, 14.21it/s]\n",
            "100%|██████████| 4/4 [00:00<00:00,  7.45it/s]\n"
          ]
        },
        {
          "output_type": "stream",
          "name": "stdout",
          "text": [
            "[20/100] Train 0.0411/0.984 | Val 0.2695/0.948\n"
          ]
        },
        {
          "output_type": "stream",
          "name": "stderr",
          "text": [
            "100%|██████████| 32/32 [00:02<00:00, 14.87it/s]\n",
            "100%|██████████| 4/4 [00:00<00:00,  7.46it/s]\n"
          ]
        },
        {
          "output_type": "stream",
          "name": "stdout",
          "text": [
            "[21/100] Train 0.0321/0.988 | Val 0.1729/0.948\n"
          ]
        },
        {
          "output_type": "stream",
          "name": "stderr",
          "text": [
            "100%|██████████| 32/32 [00:02<00:00, 14.61it/s]\n",
            "100%|██████████| 4/4 [00:00<00:00,  7.45it/s]\n"
          ]
        },
        {
          "output_type": "stream",
          "name": "stdout",
          "text": [
            "[22/100] Train 0.0301/0.987 | Val 0.1709/0.944\n"
          ]
        },
        {
          "output_type": "stream",
          "name": "stderr",
          "text": [
            "100%|██████████| 32/32 [00:02<00:00, 14.44it/s]\n",
            "100%|██████████| 4/4 [00:00<00:00,  7.39it/s]\n"
          ]
        },
        {
          "output_type": "stream",
          "name": "stdout",
          "text": [
            "[23/100] Train 0.0128/0.994 | Val 0.0517/0.972\n"
          ]
        },
        {
          "output_type": "stream",
          "name": "stderr",
          "text": [
            "100%|██████████| 32/32 [00:02<00:00, 14.64it/s]\n",
            "100%|██████████| 4/4 [00:00<00:00,  7.35it/s]\n"
          ]
        },
        {
          "output_type": "stream",
          "name": "stdout",
          "text": [
            "[24/100] Train 0.0023/1.000 | Val 0.0510/0.980\n"
          ]
        },
        {
          "output_type": "stream",
          "name": "stderr",
          "text": [
            "100%|██████████| 32/32 [00:02<00:00, 14.64it/s]\n",
            "100%|██████████| 4/4 [00:00<00:00,  7.33it/s]\n"
          ]
        },
        {
          "output_type": "stream",
          "name": "stdout",
          "text": [
            "[25/100] Train 0.0108/0.997 | Val 0.0548/0.976\n"
          ]
        },
        {
          "output_type": "stream",
          "name": "stderr",
          "text": [
            "100%|██████████| 32/32 [00:02<00:00, 14.42it/s]\n",
            "100%|██████████| 4/4 [00:00<00:00,  7.40it/s]\n"
          ]
        },
        {
          "output_type": "stream",
          "name": "stdout",
          "text": [
            "[26/100] Train 0.0050/0.998 | Val 0.0421/0.984\n",
            "  ↳ best saved: /content/resnet18_real_vs_fake_best.pth\n"
          ]
        },
        {
          "output_type": "stream",
          "name": "stderr",
          "text": [
            "100%|██████████| 32/32 [00:02<00:00, 14.35it/s]\n",
            "100%|██████████| 4/4 [00:00<00:00,  7.42it/s]\n"
          ]
        },
        {
          "output_type": "stream",
          "name": "stdout",
          "text": [
            "[27/100] Train 0.0019/1.000 | Val 0.0609/0.980\n"
          ]
        },
        {
          "output_type": "stream",
          "name": "stderr",
          "text": [
            "100%|██████████| 32/32 [00:02<00:00, 14.26it/s]\n",
            "100%|██████████| 4/4 [00:00<00:00,  7.37it/s]\n"
          ]
        },
        {
          "output_type": "stream",
          "name": "stdout",
          "text": [
            "[28/100] Train 0.0011/0.999 | Val 0.0559/0.984\n"
          ]
        },
        {
          "output_type": "stream",
          "name": "stderr",
          "text": [
            "100%|██████████| 32/32 [00:02<00:00, 14.31it/s]\n",
            "100%|██████████| 4/4 [00:00<00:00,  7.46it/s]\n"
          ]
        },
        {
          "output_type": "stream",
          "name": "stdout",
          "text": [
            "[29/100] Train 0.0013/0.999 | Val 0.0446/0.984\n"
          ]
        },
        {
          "output_type": "stream",
          "name": "stderr",
          "text": [
            "100%|██████████| 32/32 [00:02<00:00, 14.84it/s]\n",
            "100%|██████████| 4/4 [00:00<00:00,  7.45it/s]\n"
          ]
        },
        {
          "output_type": "stream",
          "name": "stdout",
          "text": [
            "[30/100] Train 0.0005/1.000 | Val 0.0467/0.980\n"
          ]
        },
        {
          "output_type": "stream",
          "name": "stderr",
          "text": [
            "100%|██████████| 32/32 [00:02<00:00, 14.55it/s]\n",
            "100%|██████████| 4/4 [00:00<00:00,  7.34it/s]\n"
          ]
        },
        {
          "output_type": "stream",
          "name": "stdout",
          "text": [
            "[31/100] Train 0.0014/0.999 | Val 0.0484/0.984\n"
          ]
        },
        {
          "output_type": "stream",
          "name": "stderr",
          "text": [
            "100%|██████████| 32/32 [00:02<00:00, 14.52it/s]\n",
            "100%|██████████| 4/4 [00:00<00:00,  7.39it/s]\n"
          ]
        },
        {
          "output_type": "stream",
          "name": "stdout",
          "text": [
            "[32/100] Train 0.0009/1.000 | Val 0.0467/0.984\n"
          ]
        },
        {
          "output_type": "stream",
          "name": "stderr",
          "text": [
            "100%|██████████| 32/32 [00:02<00:00, 14.23it/s]\n",
            "100%|██████████| 4/4 [00:00<00:00,  7.44it/s]\n"
          ]
        },
        {
          "output_type": "stream",
          "name": "stdout",
          "text": [
            "[33/100] Train 0.0005/1.000 | Val 0.0511/0.984\n"
          ]
        },
        {
          "output_type": "stream",
          "name": "stderr",
          "text": [
            "100%|██████████| 32/32 [00:02<00:00, 14.96it/s]\n",
            "100%|██████████| 4/4 [00:00<00:00,  7.37it/s]\n"
          ]
        },
        {
          "output_type": "stream",
          "name": "stdout",
          "text": [
            "[34/100] Train 0.0009/0.999 | Val 0.0642/0.980\n"
          ]
        },
        {
          "output_type": "stream",
          "name": "stderr",
          "text": [
            "100%|██████████| 32/32 [00:02<00:00, 14.55it/s]\n",
            "100%|██████████| 4/4 [00:00<00:00,  7.38it/s]\n"
          ]
        },
        {
          "output_type": "stream",
          "name": "stdout",
          "text": [
            "[35/100] Train 0.0009/0.999 | Val 0.0529/0.976\n"
          ]
        },
        {
          "output_type": "stream",
          "name": "stderr",
          "text": [
            "100%|██████████| 32/32 [00:02<00:00, 14.24it/s]\n",
            "100%|██████████| 4/4 [00:00<00:00,  7.34it/s]\n"
          ]
        },
        {
          "output_type": "stream",
          "name": "stdout",
          "text": [
            "[36/100] Train 0.0002/1.000 | Val 0.0611/0.976\n"
          ]
        },
        {
          "output_type": "stream",
          "name": "stderr",
          "text": [
            "100%|██████████| 32/32 [00:02<00:00, 14.27it/s]\n",
            "100%|██████████| 4/4 [00:00<00:00,  7.45it/s]\n"
          ]
        },
        {
          "output_type": "stream",
          "name": "stdout",
          "text": [
            "[37/100] Train 0.0003/1.000 | Val 0.0663/0.976\n"
          ]
        },
        {
          "output_type": "stream",
          "name": "stderr",
          "text": [
            "100%|██████████| 32/32 [00:02<00:00, 14.22it/s]\n",
            "100%|██████████| 4/4 [00:00<00:00,  7.45it/s]\n"
          ]
        },
        {
          "output_type": "stream",
          "name": "stdout",
          "text": [
            "[38/100] Train 0.0007/1.000 | Val 0.0681/0.972\n"
          ]
        },
        {
          "output_type": "stream",
          "name": "stderr",
          "text": [
            "100%|██████████| 32/32 [00:02<00:00, 14.87it/s]\n",
            "100%|██████████| 4/4 [00:00<00:00,  7.48it/s]\n"
          ]
        },
        {
          "output_type": "stream",
          "name": "stdout",
          "text": [
            "[39/100] Train 0.0123/0.995 | Val 0.0427/0.988\n"
          ]
        },
        {
          "output_type": "stream",
          "name": "stderr",
          "text": [
            "100%|██████████| 32/32 [00:02<00:00, 14.58it/s]\n",
            "100%|██████████| 4/4 [00:00<00:00,  7.41it/s]\n"
          ]
        },
        {
          "output_type": "stream",
          "name": "stdout",
          "text": [
            "[40/100] Train 0.0181/0.993 | Val 0.1331/0.972\n"
          ]
        },
        {
          "output_type": "stream",
          "name": "stderr",
          "text": [
            "100%|██████████| 32/32 [00:02<00:00, 14.51it/s]\n",
            "100%|██████████| 4/4 [00:00<00:00,  7.49it/s]\n"
          ]
        },
        {
          "output_type": "stream",
          "name": "stdout",
          "text": [
            "[41/100] Train 0.0164/0.994 | Val 0.0392/0.980\n",
            "  ↳ best saved: /content/resnet18_real_vs_fake_best.pth\n"
          ]
        },
        {
          "output_type": "stream",
          "name": "stderr",
          "text": [
            "100%|██████████| 32/32 [00:02<00:00, 14.37it/s]\n",
            "100%|██████████| 4/4 [00:00<00:00,  7.52it/s]\n"
          ]
        },
        {
          "output_type": "stream",
          "name": "stdout",
          "text": [
            "[42/100] Train 0.0161/0.994 | Val 0.1796/0.960\n"
          ]
        },
        {
          "output_type": "stream",
          "name": "stderr",
          "text": [
            "100%|██████████| 32/32 [00:02<00:00, 14.77it/s]\n",
            "100%|██████████| 4/4 [00:00<00:00,  7.41it/s]\n"
          ]
        },
        {
          "output_type": "stream",
          "name": "stdout",
          "text": [
            "[43/100] Train 0.0193/0.992 | Val 0.0399/0.988\n"
          ]
        },
        {
          "output_type": "stream",
          "name": "stderr",
          "text": [
            "100%|██████████| 32/32 [00:02<00:00, 14.51it/s]\n",
            "100%|██████████| 4/4 [00:00<00:00,  7.54it/s]\n"
          ]
        },
        {
          "output_type": "stream",
          "name": "stdout",
          "text": [
            "[44/100] Train 0.0129/0.997 | Val 0.0582/0.984\n"
          ]
        },
        {
          "output_type": "stream",
          "name": "stderr",
          "text": [
            "100%|██████████| 32/32 [00:02<00:00, 14.70it/s]\n",
            "100%|██████████| 4/4 [00:00<00:00,  7.41it/s]\n"
          ]
        },
        {
          "output_type": "stream",
          "name": "stdout",
          "text": [
            "[45/100] Train 0.0038/0.999 | Val 0.0450/0.980\n"
          ]
        },
        {
          "output_type": "stream",
          "name": "stderr",
          "text": [
            "100%|██████████| 32/32 [00:02<00:00, 14.52it/s]\n",
            "100%|██████████| 4/4 [00:00<00:00,  7.43it/s]\n"
          ]
        },
        {
          "output_type": "stream",
          "name": "stdout",
          "text": [
            "[46/100] Train 0.0028/0.999 | Val 0.0516/0.984\n"
          ]
        },
        {
          "output_type": "stream",
          "name": "stderr",
          "text": [
            "100%|██████████| 32/32 [00:02<00:00, 14.49it/s]\n",
            "100%|██████████| 4/4 [00:00<00:00,  7.46it/s]\n"
          ]
        },
        {
          "output_type": "stream",
          "name": "stdout",
          "text": [
            "[47/100] Train 0.0048/0.998 | Val 0.0675/0.980\n"
          ]
        },
        {
          "output_type": "stream",
          "name": "stderr",
          "text": [
            "100%|██████████| 32/32 [00:02<00:00, 14.73it/s]\n",
            "100%|██████████| 4/4 [00:00<00:00,  7.35it/s]\n"
          ]
        },
        {
          "output_type": "stream",
          "name": "stdout",
          "text": [
            "[48/100] Train 0.0003/1.000 | Val 0.0583/0.980\n"
          ]
        },
        {
          "output_type": "stream",
          "name": "stderr",
          "text": [
            "100%|██████████| 32/32 [00:02<00:00, 14.62it/s]\n",
            "100%|██████████| 4/4 [00:00<00:00,  7.43it/s]\n"
          ]
        },
        {
          "output_type": "stream",
          "name": "stdout",
          "text": [
            "[49/100] Train 0.0004/1.000 | Val 0.0607/0.980\n"
          ]
        },
        {
          "output_type": "stream",
          "name": "stderr",
          "text": [
            "100%|██████████| 32/32 [00:02<00:00, 14.66it/s]\n",
            "100%|██████████| 4/4 [00:00<00:00,  7.19it/s]\n"
          ]
        },
        {
          "output_type": "stream",
          "name": "stdout",
          "text": [
            "[50/100] Train 0.0003/1.000 | Val 0.0541/0.984\n"
          ]
        },
        {
          "output_type": "stream",
          "name": "stderr",
          "text": [
            "100%|██████████| 32/32 [00:02<00:00, 14.42it/s]\n",
            "100%|██████████| 4/4 [00:00<00:00,  7.52it/s]\n"
          ]
        },
        {
          "output_type": "stream",
          "name": "stdout",
          "text": [
            "[51/100] Train 0.0007/0.999 | Val 0.0577/0.980\n"
          ]
        },
        {
          "output_type": "stream",
          "name": "stderr",
          "text": [
            "100%|██████████| 32/32 [00:02<00:00, 14.53it/s]\n",
            "100%|██████████| 4/4 [00:00<00:00,  7.44it/s]\n"
          ]
        },
        {
          "output_type": "stream",
          "name": "stdout",
          "text": [
            "[52/100] Train 0.0012/0.999 | Val 0.0614/0.980\n"
          ]
        },
        {
          "output_type": "stream",
          "name": "stderr",
          "text": [
            "100%|██████████| 32/32 [00:02<00:00, 14.36it/s]\n",
            "100%|██████████| 4/4 [00:00<00:00,  7.41it/s]\n"
          ]
        },
        {
          "output_type": "stream",
          "name": "stdout",
          "text": [
            "[53/100] Train 0.0003/1.000 | Val 0.0554/0.980\n"
          ]
        },
        {
          "output_type": "stream",
          "name": "stderr",
          "text": [
            "100%|██████████| 32/32 [00:02<00:00, 14.47it/s]\n",
            "100%|██████████| 4/4 [00:00<00:00,  7.46it/s]\n"
          ]
        },
        {
          "output_type": "stream",
          "name": "stdout",
          "text": [
            "[54/100] Train 0.0009/1.000 | Val 0.0581/0.980\n"
          ]
        },
        {
          "output_type": "stream",
          "name": "stderr",
          "text": [
            "100%|██████████| 32/32 [00:02<00:00, 14.59it/s]\n",
            "100%|██████████| 4/4 [00:00<00:00,  7.54it/s]\n"
          ]
        },
        {
          "output_type": "stream",
          "name": "stdout",
          "text": [
            "[55/100] Train 0.0058/0.999 | Val 0.0437/0.984\n"
          ]
        },
        {
          "output_type": "stream",
          "name": "stderr",
          "text": [
            "100%|██████████| 32/32 [00:02<00:00, 14.61it/s]\n",
            "100%|██████████| 4/4 [00:00<00:00,  7.35it/s]\n"
          ]
        },
        {
          "output_type": "stream",
          "name": "stdout",
          "text": [
            "[56/100] Train 0.0061/0.997 | Val 0.0398/0.984\n"
          ]
        },
        {
          "output_type": "stream",
          "name": "stderr",
          "text": [
            "100%|██████████| 32/32 [00:02<00:00, 14.90it/s]\n",
            "100%|██████████| 4/4 [00:00<00:00,  7.41it/s]\n"
          ]
        },
        {
          "output_type": "stream",
          "name": "stdout",
          "text": [
            "[57/100] Train 0.0013/0.999 | Val 0.0537/0.980\n"
          ]
        },
        {
          "output_type": "stream",
          "name": "stderr",
          "text": [
            "100%|██████████| 32/32 [00:02<00:00, 14.36it/s]\n",
            "100%|██████████| 4/4 [00:00<00:00,  7.45it/s]\n"
          ]
        },
        {
          "output_type": "stream",
          "name": "stdout",
          "text": [
            "[58/100] Train 0.0023/0.999 | Val 0.0709/0.980\n"
          ]
        },
        {
          "output_type": "stream",
          "name": "stderr",
          "text": [
            "100%|██████████| 32/32 [00:02<00:00, 14.63it/s]\n",
            "100%|██████████| 4/4 [00:00<00:00,  7.19it/s]\n"
          ]
        },
        {
          "output_type": "stream",
          "name": "stdout",
          "text": [
            "[59/100] Train 0.0036/0.999 | Val 0.0564/0.984\n"
          ]
        },
        {
          "output_type": "stream",
          "name": "stderr",
          "text": [
            "100%|██████████| 32/32 [00:02<00:00, 14.49it/s]\n",
            "100%|██████████| 4/4 [00:00<00:00,  7.48it/s]\n"
          ]
        },
        {
          "output_type": "stream",
          "name": "stdout",
          "text": [
            "[60/100] Train 0.0039/0.998 | Val 0.0830/0.976\n"
          ]
        },
        {
          "output_type": "stream",
          "name": "stderr",
          "text": [
            "100%|██████████| 32/32 [00:02<00:00, 14.76it/s]\n",
            "100%|██████████| 4/4 [00:00<00:00,  7.35it/s]\n"
          ]
        },
        {
          "output_type": "stream",
          "name": "stdout",
          "text": [
            "[61/100] Train 0.0133/0.995 | Val 0.1784/0.948\n"
          ]
        },
        {
          "output_type": "stream",
          "name": "stderr",
          "text": [
            "100%|██████████| 32/32 [00:02<00:00, 14.37it/s]\n",
            "100%|██████████| 4/4 [00:00<00:00,  7.50it/s]\n"
          ]
        },
        {
          "output_type": "stream",
          "name": "stdout",
          "text": [
            "[62/100] Train 0.0181/0.994 | Val 0.0238/0.988\n",
            "  ↳ best saved: /content/resnet18_real_vs_fake_best.pth\n"
          ]
        },
        {
          "output_type": "stream",
          "name": "stderr",
          "text": [
            "100%|██████████| 32/32 [00:02<00:00, 14.66it/s]\n",
            "100%|██████████| 4/4 [00:00<00:00,  7.47it/s]\n"
          ]
        },
        {
          "output_type": "stream",
          "name": "stdout",
          "text": [
            "[63/100] Train 0.0139/0.996 | Val 0.0382/0.980\n"
          ]
        },
        {
          "output_type": "stream",
          "name": "stderr",
          "text": [
            "100%|██████████| 32/32 [00:02<00:00, 14.20it/s]\n",
            "100%|██████████| 4/4 [00:00<00:00,  7.33it/s]\n"
          ]
        },
        {
          "output_type": "stream",
          "name": "stdout",
          "text": [
            "[64/100] Train 0.0115/0.997 | Val 0.0425/0.984\n"
          ]
        },
        {
          "output_type": "stream",
          "name": "stderr",
          "text": [
            "100%|██████████| 32/32 [00:02<00:00, 14.49it/s]\n",
            "100%|██████████| 4/4 [00:00<00:00,  7.25it/s]\n"
          ]
        },
        {
          "output_type": "stream",
          "name": "stdout",
          "text": [
            "[65/100] Train 0.0025/1.000 | Val 0.0226/0.992\n",
            "  ↳ best saved: /content/resnet18_real_vs_fake_best.pth\n"
          ]
        },
        {
          "output_type": "stream",
          "name": "stderr",
          "text": [
            "100%|██████████| 32/32 [00:02<00:00, 14.78it/s]\n",
            "100%|██████████| 4/4 [00:00<00:00,  7.43it/s]\n"
          ]
        },
        {
          "output_type": "stream",
          "name": "stdout",
          "text": [
            "[66/100] Train 0.0006/1.000 | Val 0.0215/0.992\n",
            "  ↳ best saved: /content/resnet18_real_vs_fake_best.pth\n"
          ]
        },
        {
          "output_type": "stream",
          "name": "stderr",
          "text": [
            "100%|██████████| 32/32 [00:02<00:00, 14.60it/s]\n",
            "100%|██████████| 4/4 [00:00<00:00,  7.41it/s]\n"
          ]
        },
        {
          "output_type": "stream",
          "name": "stdout",
          "text": [
            "[67/100] Train 0.0005/1.000 | Val 0.0254/0.988\n"
          ]
        },
        {
          "output_type": "stream",
          "name": "stderr",
          "text": [
            "100%|██████████| 32/32 [00:02<00:00, 14.58it/s]\n",
            "100%|██████████| 4/4 [00:00<00:00,  7.29it/s]\n"
          ]
        },
        {
          "output_type": "stream",
          "name": "stdout",
          "text": [
            "[68/100] Train 0.0006/1.000 | Val 0.0224/0.984\n"
          ]
        },
        {
          "output_type": "stream",
          "name": "stderr",
          "text": [
            "100%|██████████| 32/32 [00:02<00:00, 14.57it/s]\n",
            "100%|██████████| 4/4 [00:00<00:00,  7.43it/s]\n"
          ]
        },
        {
          "output_type": "stream",
          "name": "stdout",
          "text": [
            "[69/100] Train 0.0003/1.000 | Val 0.0184/0.996\n",
            "  ↳ best saved: /content/resnet18_real_vs_fake_best.pth\n"
          ]
        },
        {
          "output_type": "stream",
          "name": "stderr",
          "text": [
            "100%|██████████| 32/32 [00:02<00:00, 14.79it/s]\n",
            "100%|██████████| 4/4 [00:00<00:00,  7.34it/s]\n"
          ]
        },
        {
          "output_type": "stream",
          "name": "stdout",
          "text": [
            "[70/100] Train 0.0002/1.000 | Val 0.0182/0.992\n",
            "  ↳ best saved: /content/resnet18_real_vs_fake_best.pth\n"
          ]
        },
        {
          "output_type": "stream",
          "name": "stderr",
          "text": [
            "100%|██████████| 32/32 [00:02<00:00, 14.45it/s]\n",
            "100%|██████████| 4/4 [00:00<00:00,  7.52it/s]\n"
          ]
        },
        {
          "output_type": "stream",
          "name": "stdout",
          "text": [
            "[71/100] Train 0.0002/1.000 | Val 0.0216/0.984\n"
          ]
        },
        {
          "output_type": "stream",
          "name": "stderr",
          "text": [
            "100%|██████████| 32/32 [00:02<00:00, 14.85it/s]\n",
            "100%|██████████| 4/4 [00:00<00:00,  7.54it/s]\n"
          ]
        },
        {
          "output_type": "stream",
          "name": "stdout",
          "text": [
            "[72/100] Train 0.0003/1.000 | Val 0.0195/0.988\n"
          ]
        },
        {
          "output_type": "stream",
          "name": "stderr",
          "text": [
            "100%|██████████| 32/32 [00:02<00:00, 14.51it/s]\n",
            "100%|██████████| 4/4 [00:00<00:00,  7.40it/s]\n"
          ]
        },
        {
          "output_type": "stream",
          "name": "stdout",
          "text": [
            "[73/100] Train 0.0003/1.000 | Val 0.0250/0.984\n"
          ]
        },
        {
          "output_type": "stream",
          "name": "stderr",
          "text": [
            "100%|██████████| 32/32 [00:02<00:00, 14.53it/s]\n",
            "100%|██████████| 4/4 [00:00<00:00,  7.41it/s]\n"
          ]
        },
        {
          "output_type": "stream",
          "name": "stdout",
          "text": [
            "[74/100] Train 0.0002/1.000 | Val 0.0218/0.984\n"
          ]
        },
        {
          "output_type": "stream",
          "name": "stderr",
          "text": [
            "100%|██████████| 32/32 [00:02<00:00, 14.36it/s]\n",
            "100%|██████████| 4/4 [00:00<00:00,  7.43it/s]\n"
          ]
        },
        {
          "output_type": "stream",
          "name": "stdout",
          "text": [
            "[75/100] Train 0.0002/1.000 | Val 0.0215/0.988\n"
          ]
        },
        {
          "output_type": "stream",
          "name": "stderr",
          "text": [
            "100%|██████████| 32/32 [00:02<00:00, 14.40it/s]\n",
            "100%|██████████| 4/4 [00:00<00:00,  7.56it/s]\n"
          ]
        },
        {
          "output_type": "stream",
          "name": "stdout",
          "text": [
            "[76/100] Train 0.0003/1.000 | Val 0.0182/0.984\n"
          ]
        },
        {
          "output_type": "stream",
          "name": "stderr",
          "text": [
            "100%|██████████| 32/32 [00:02<00:00, 14.60it/s]\n",
            "100%|██████████| 4/4 [00:00<00:00,  7.39it/s]\n"
          ]
        },
        {
          "output_type": "stream",
          "name": "stdout",
          "text": [
            "[77/100] Train 0.0009/1.000 | Val 0.0336/0.984\n"
          ]
        },
        {
          "output_type": "stream",
          "name": "stderr",
          "text": [
            "100%|██████████| 32/32 [00:02<00:00, 14.54it/s]\n",
            "100%|██████████| 4/4 [00:00<00:00,  7.39it/s]\n"
          ]
        },
        {
          "output_type": "stream",
          "name": "stdout",
          "text": [
            "[78/100] Train 0.0007/1.000 | Val 0.0330/0.984\n"
          ]
        },
        {
          "output_type": "stream",
          "name": "stderr",
          "text": [
            "100%|██████████| 32/32 [00:02<00:00, 14.43it/s]\n",
            "100%|██████████| 4/4 [00:00<00:00,  7.40it/s]\n"
          ]
        },
        {
          "output_type": "stream",
          "name": "stdout",
          "text": [
            "[79/100] Train 0.0005/1.000 | Val 0.0434/0.992\n"
          ]
        },
        {
          "output_type": "stream",
          "name": "stderr",
          "text": [
            "100%|██████████| 32/32 [00:02<00:00, 14.16it/s]\n",
            "100%|██████████| 4/4 [00:00<00:00,  7.40it/s]\n"
          ]
        },
        {
          "output_type": "stream",
          "name": "stdout",
          "text": [
            "[80/100] Train 0.0001/1.000 | Val 0.0446/0.992\n"
          ]
        },
        {
          "output_type": "stream",
          "name": "stderr",
          "text": [
            "100%|██████████| 32/32 [00:02<00:00, 14.43it/s]\n",
            "100%|██████████| 4/4 [00:00<00:00,  7.27it/s]\n"
          ]
        },
        {
          "output_type": "stream",
          "name": "stdout",
          "text": [
            "[81/100] Train 0.0000/1.000 | Val 0.0427/0.980\n"
          ]
        },
        {
          "output_type": "stream",
          "name": "stderr",
          "text": [
            "100%|██████████| 32/32 [00:02<00:00, 14.49it/s]\n",
            "100%|██████████| 4/4 [00:00<00:00,  7.32it/s]\n"
          ]
        },
        {
          "output_type": "stream",
          "name": "stdout",
          "text": [
            "[82/100] Train 0.0000/1.000 | Val 0.0412/0.992\n"
          ]
        },
        {
          "output_type": "stream",
          "name": "stderr",
          "text": [
            "100%|██████████| 32/32 [00:02<00:00, 14.72it/s]\n",
            "100%|██████████| 4/4 [00:00<00:00,  7.51it/s]\n"
          ]
        },
        {
          "output_type": "stream",
          "name": "stdout",
          "text": [
            "[83/100] Train 0.0000/1.000 | Val 0.0375/0.980\n"
          ]
        },
        {
          "output_type": "stream",
          "name": "stderr",
          "text": [
            "100%|██████████| 32/32 [00:02<00:00, 14.70it/s]\n",
            "100%|██████████| 4/4 [00:00<00:00,  7.32it/s]\n"
          ]
        },
        {
          "output_type": "stream",
          "name": "stdout",
          "text": [
            "[84/100] Train 0.0000/1.000 | Val 0.0417/0.984\n"
          ]
        },
        {
          "output_type": "stream",
          "name": "stderr",
          "text": [
            "100%|██████████| 32/32 [00:02<00:00, 14.56it/s]\n",
            "100%|██████████| 4/4 [00:00<00:00,  7.42it/s]\n"
          ]
        },
        {
          "output_type": "stream",
          "name": "stdout",
          "text": [
            "[85/100] Train 0.0000/1.000 | Val 0.0402/0.980\n"
          ]
        },
        {
          "output_type": "stream",
          "name": "stderr",
          "text": [
            "100%|██████████| 32/32 [00:02<00:00, 14.27it/s]\n",
            "100%|██████████| 4/4 [00:00<00:00,  7.40it/s]\n"
          ]
        },
        {
          "output_type": "stream",
          "name": "stdout",
          "text": [
            "[86/100] Train 0.0000/1.000 | Val 0.0475/0.980\n"
          ]
        },
        {
          "output_type": "stream",
          "name": "stderr",
          "text": [
            "100%|██████████| 32/32 [00:02<00:00, 14.78it/s]\n",
            "100%|██████████| 4/4 [00:00<00:00,  7.43it/s]\n"
          ]
        },
        {
          "output_type": "stream",
          "name": "stdout",
          "text": [
            "[87/100] Train 0.0000/1.000 | Val 0.0413/0.980\n"
          ]
        },
        {
          "output_type": "stream",
          "name": "stderr",
          "text": [
            "100%|██████████| 32/32 [00:02<00:00, 14.72it/s]\n",
            "100%|██████████| 4/4 [00:00<00:00,  7.46it/s]\n"
          ]
        },
        {
          "output_type": "stream",
          "name": "stdout",
          "text": [
            "[88/100] Train 0.0001/1.000 | Val 0.0436/0.984\n"
          ]
        },
        {
          "output_type": "stream",
          "name": "stderr",
          "text": [
            "100%|██████████| 32/32 [00:02<00:00, 14.68it/s]\n",
            "100%|██████████| 4/4 [00:00<00:00,  7.34it/s]\n"
          ]
        },
        {
          "output_type": "stream",
          "name": "stdout",
          "text": [
            "[89/100] Train 0.0000/1.000 | Val 0.0412/0.980\n"
          ]
        },
        {
          "output_type": "stream",
          "name": "stderr",
          "text": [
            "100%|██████████| 32/32 [00:02<00:00, 14.57it/s]\n",
            "100%|██████████| 4/4 [00:00<00:00,  7.42it/s]\n"
          ]
        },
        {
          "output_type": "stream",
          "name": "stdout",
          "text": [
            "[90/100] Train 0.0000/1.000 | Val 0.0372/0.980\n"
          ]
        },
        {
          "output_type": "stream",
          "name": "stderr",
          "text": [
            "100%|██████████| 32/32 [00:02<00:00, 14.51it/s]\n",
            "100%|██████████| 4/4 [00:00<00:00,  7.44it/s]\n"
          ]
        },
        {
          "output_type": "stream",
          "name": "stdout",
          "text": [
            "[91/100] Train 0.0000/1.000 | Val 0.0378/0.980\n"
          ]
        },
        {
          "output_type": "stream",
          "name": "stderr",
          "text": [
            "100%|██████████| 32/32 [00:02<00:00, 14.71it/s]\n",
            "100%|██████████| 4/4 [00:00<00:00,  7.43it/s]\n"
          ]
        },
        {
          "output_type": "stream",
          "name": "stdout",
          "text": [
            "[92/100] Train 0.0000/1.000 | Val 0.0502/0.980\n"
          ]
        },
        {
          "output_type": "stream",
          "name": "stderr",
          "text": [
            "100%|██████████| 32/32 [00:02<00:00, 14.75it/s]\n",
            "100%|██████████| 4/4 [00:00<00:00,  7.31it/s]\n"
          ]
        },
        {
          "output_type": "stream",
          "name": "stdout",
          "text": [
            "[93/100] Train 0.0000/1.000 | Val 0.0369/0.980\n"
          ]
        },
        {
          "output_type": "stream",
          "name": "stderr",
          "text": [
            "100%|██████████| 32/32 [00:02<00:00, 14.63it/s]\n",
            "100%|██████████| 4/4 [00:00<00:00,  7.40it/s]\n"
          ]
        },
        {
          "output_type": "stream",
          "name": "stdout",
          "text": [
            "[94/100] Train 0.0000/1.000 | Val 0.0363/0.980\n"
          ]
        },
        {
          "output_type": "stream",
          "name": "stderr",
          "text": [
            "100%|██████████| 32/32 [00:02<00:00, 14.54it/s]\n",
            "100%|██████████| 4/4 [00:00<00:00,  7.30it/s]\n"
          ]
        },
        {
          "output_type": "stream",
          "name": "stdout",
          "text": [
            "[95/100] Train 0.0000/1.000 | Val 0.0364/0.980\n"
          ]
        },
        {
          "output_type": "stream",
          "name": "stderr",
          "text": [
            "100%|██████████| 32/32 [00:02<00:00, 14.51it/s]\n",
            "100%|██████████| 4/4 [00:00<00:00,  7.40it/s]\n"
          ]
        },
        {
          "output_type": "stream",
          "name": "stdout",
          "text": [
            "[96/100] Train 0.0000/1.000 | Val 0.0653/0.988\n"
          ]
        },
        {
          "output_type": "stream",
          "name": "stderr",
          "text": [
            "100%|██████████| 32/32 [00:02<00:00, 14.44it/s]\n",
            "100%|██████████| 4/4 [00:00<00:00,  7.48it/s]\n"
          ]
        },
        {
          "output_type": "stream",
          "name": "stdout",
          "text": [
            "[97/100] Train 0.0000/1.000 | Val 0.0459/0.980\n"
          ]
        },
        {
          "output_type": "stream",
          "name": "stderr",
          "text": [
            "100%|██████████| 32/32 [00:02<00:00, 14.76it/s]\n",
            "100%|██████████| 4/4 [00:00<00:00,  7.28it/s]\n"
          ]
        },
        {
          "output_type": "stream",
          "name": "stdout",
          "text": [
            "[98/100] Train 0.0000/1.000 | Val 0.0515/0.984\n"
          ]
        },
        {
          "output_type": "stream",
          "name": "stderr",
          "text": [
            "100%|██████████| 32/32 [00:02<00:00, 14.58it/s]\n",
            "100%|██████████| 4/4 [00:00<00:00,  7.32it/s]\n"
          ]
        },
        {
          "output_type": "stream",
          "name": "stdout",
          "text": [
            "[99/100] Train 0.0000/1.000 | Val 0.0433/0.980\n"
          ]
        },
        {
          "output_type": "stream",
          "name": "stderr",
          "text": [
            "100%|██████████| 32/32 [00:02<00:00, 14.75it/s]\n",
            "100%|██████████| 4/4 [00:00<00:00,  7.31it/s]"
          ]
        },
        {
          "output_type": "stream",
          "name": "stdout",
          "text": [
            "[100/100] Train 0.0000/1.000 | Val 0.0467/0.976\n"
          ]
        },
        {
          "output_type": "stream",
          "name": "stderr",
          "text": [
            "\n"
          ]
        }
      ]
    },
    {
      "cell_type": "code",
      "source": [
        "# === Test evaluation ===\n",
        "import numpy as np\n",
        "from sklearn.metrics import accuracy_score, precision_recall_fscore_support, confusion_matrix, roc_auc_score, classification_report\n",
        "\n",
        "# 베스트 로드\n",
        "model.load_state_dict(torch.load(\"/content/resnet18_real_vs_fake_best.pth\", map_location=DEVICE))\n",
        "model.eval()\n",
        "\n",
        "all_labels, all_probs, all_preds = [], [], []\n",
        "\n",
        "with torch.no_grad():\n",
        "    for imgs, labels in tqdm(test_loader, disable=False):\n",
        "        imgs = imgs.to(DEVICE)\n",
        "        labels = labels.to(DEVICE)\n",
        "        logits = model(imgs)\n",
        "        probs = torch.sigmoid(logits).squeeze(1)\n",
        "        preds = (probs > 0.5).long()\n",
        "        all_labels.append(labels.cpu().numpy())\n",
        "        all_probs.append(probs.cpu().numpy())\n",
        "        all_preds.append(preds.cpu().numpy())\n",
        "\n",
        "y_true = np.concatenate(all_labels)\n",
        "y_prob = np.concatenate(all_probs)\n",
        "y_pred = np.concatenate(all_preds)\n",
        "\n",
        "acc = accuracy_score(y_true, y_pred)\n",
        "prec, rec, f1, _ = precision_recall_fscore_support(y_true, y_pred, average=\"binary\", zero_division=0)\n",
        "cm = confusion_matrix(y_true, y_pred)\n",
        "try:\n",
        "    auc = roc_auc_score(y_true, y_prob)\n",
        "except Exception:\n",
        "    auc = float('nan')\n",
        "\n",
        "print(f\"\\n=== Test Metrics ===\")\n",
        "print(f\"Accuracy : {acc:.3f}\")\n",
        "print(f\"Precision: {prec:.3f} | Recall: {rec:.3f} | F1: {f1:.3f}\")\n",
        "print(f\"ROC-AUC  : {auc:.3f}\")\n",
        "print(\"Confusion Matrix (rows=true [0=fake,1=real], cols=pred):\\n\", cm)\n",
        "print(\"\\nClassification Report:\\n\", classification_report(y_true, y_pred, digits=3, zero_division=0))\n"
      ],
      "metadata": {
        "id": "f3KJTeS3zLAe",
        "colab": {
          "base_uri": "https://localhost:8080/"
        },
        "outputId": "ae1785c8-4f46-4b91-c5bc-631b1fd6aada"
      },
      "execution_count": null,
      "outputs": [
        {
          "output_type": "stream",
          "name": "stderr",
          "text": [
            "100%|██████████| 4/4 [00:00<00:00,  7.46it/s]"
          ]
        },
        {
          "output_type": "stream",
          "name": "stdout",
          "text": [
            "\n",
            "=== Test Metrics ===\n",
            "Accuracy : 0.992\n",
            "Precision: 0.992 | Recall: 0.992 | F1: 0.992\n",
            "ROC-AUC  : 1.000\n",
            "Confusion Matrix (rows=true [0=fake,1=real], cols=pred):\n",
            " [[119   1]\n",
            " [  1 130]]\n",
            "\n",
            "Classification Report:\n",
            "               precision    recall  f1-score   support\n",
            "\n",
            "           0      0.992     0.992     0.992       120\n",
            "           1      0.992     0.992     0.992       131\n",
            "\n",
            "    accuracy                          0.992       251\n",
            "   macro avg      0.992     0.992     0.992       251\n",
            "weighted avg      0.992     0.992     0.992       251\n",
            "\n"
          ]
        },
        {
          "output_type": "stream",
          "name": "stderr",
          "text": [
            "\n"
          ]
        }
      ]
    },
    {
      "cell_type": "markdown",
      "source": [
        "## **프롬프트**"
      ],
      "metadata": {
        "id": "LIoRt3sPH8Ry"
      }
    },
    {
      "cell_type": "markdown",
      "source": [],
      "metadata": {
        "id": "WB6yq0Rj37mH"
      }
    },
    {
      "cell_type": "code",
      "source": [
        "prompt = \"a single plate, ceramic, ultra detailed, one color background, no shadow\"\n",
        "negative_prompt = \"blurry, lowres, text, watermark, logo, distorted\"\n",
        "\n",
        "num_inference_steps = 30        # 20~35 권장 (빠르게는 20)\n",
        "guidance_scale = 7.0            # 6.5~8.0 권장 (너무 높으면 과제약/노이즈)\n",
        "height, width = 512, 512        # SD 1.x 기본 512 (다를 경우 UNet 타일링/VRAM 주의)\n",
        "seed = 42                       # 재현성 필요하면 고정\n",
        "\n",
        "generator = torch.Generator(device).manual_seed(seed)\n",
        "\n",
        "with torch.inference_mode():\n",
        "    out = pipe(\n",
        "        prompt=prompt,\n",
        "        negative_prompt=negative_prompt,\n",
        "        num_inference_steps=num_inference_steps,\n",
        "        guidance_scale=guidance_scale,\n",
        "        height=height, width=width,\n",
        "        generator=generator,\n",
        "        output_type=\"latent\"    # 라틴트만 받기\n",
        "    )\n",
        "latents = out.images            # [B,4,64,64], 스케일 적용됨\n"
      ],
      "metadata": {
        "colab": {
          "base_uri": "https://localhost:8080/",
          "height": 49,
          "referenced_widgets": [
            "17ac24a5670548a59ef7fdf2916bcb53",
            "a841f33883684b76abc27474c13ac10a",
            "a30833aef9534ad2bcdd28c88bd5782b",
            "bf1d189792bf4c669c6fdb7f87433159",
            "b5c456886f1647c0b2f6b7dc0aff1f0a",
            "4a79c44740524490a17e737e55d36779",
            "2c42f28994d44dcf8504da29856804d4",
            "c7dd8547133841cd870c9d8a8d020f8d",
            "44399082e65d4031b207d5e937a90d1a",
            "8495174305a641c9a630907520a4098f",
            "18f5766b12554d3cbba7bbe4ef716b0b"
          ]
        },
        "id": "knyUqFd6H8V1",
        "outputId": "9b703f1a-b30e-4be8-875f-3df50a829746"
      },
      "execution_count": null,
      "outputs": [
        {
          "output_type": "display_data",
          "data": {
            "text/plain": [
              "  0%|          | 0/30 [00:00<?, ?it/s]"
            ],
            "application/vnd.jupyter.widget-view+json": {
              "version_major": 2,
              "version_minor": 0,
              "model_id": "17ac24a5670548a59ef7fdf2916bcb53"
            }
          },
          "metadata": {}
        }
      ]
    },
    {
      "cell_type": "markdown",
      "source": [
        "## **DCGAN 이미지 저장 (작동 X)**"
      ],
      "metadata": {
        "id": "Q6IWtRtxwUQ5"
      }
    },
    {
      "cell_type": "code",
      "source": [
        "with torch.no_grad():\n",
        "    dtype = next(decoder_same.parameters()).dtype\n",
        "    z = latents.to(device, dtype=dtype)\n",
        "    x = decoder_same(z)                       # [-1,1]\n",
        "x01 = ((x.clamp(-1,1) + 1) / 2)\n",
        "\n",
        "save_path = \"/content/images/test1.png\"\n",
        "pil_images[0].save(save_path)\n",
        "print(\"Saved:\", save_path)"
      ],
      "metadata": {
        "id": "9xxtVjh5wQSp",
        "colab": {
          "base_uri": "https://localhost:8080/",
          "height": 331
        },
        "outputId": "114674ca-8276-4abb-8ebb-2b7948a64095",
        "collapsed": true
      },
      "execution_count": null,
      "outputs": [
        {
          "output_type": "error",
          "ename": "FileNotFoundError",
          "evalue": "[Errno 2] No such file or directory: '/content/images/test1.png'",
          "traceback": [
            "\u001b[0;31m---------------------------------------------------------------------------\u001b[0m",
            "\u001b[0;31mFileNotFoundError\u001b[0m                         Traceback (most recent call last)",
            "\u001b[0;32m/tmp/ipython-input-48666461.py\u001b[0m in \u001b[0;36m<cell line: 0>\u001b[0;34m()\u001b[0m\n\u001b[1;32m      6\u001b[0m \u001b[0;34m\u001b[0m\u001b[0m\n\u001b[1;32m      7\u001b[0m \u001b[0msave_path\u001b[0m \u001b[0;34m=\u001b[0m \u001b[0;34m\"/content/images/test1.png\"\u001b[0m\u001b[0;34m\u001b[0m\u001b[0;34m\u001b[0m\u001b[0m\n\u001b[0;32m----> 8\u001b[0;31m \u001b[0mpil_images\u001b[0m\u001b[0;34m[\u001b[0m\u001b[0;36m0\u001b[0m\u001b[0;34m]\u001b[0m\u001b[0;34m.\u001b[0m\u001b[0msave\u001b[0m\u001b[0;34m(\u001b[0m\u001b[0msave_path\u001b[0m\u001b[0;34m)\u001b[0m\u001b[0;34m\u001b[0m\u001b[0;34m\u001b[0m\u001b[0m\n\u001b[0m\u001b[1;32m      9\u001b[0m \u001b[0mprint\u001b[0m\u001b[0;34m(\u001b[0m\u001b[0;34m\"Saved:\"\u001b[0m\u001b[0;34m,\u001b[0m \u001b[0msave_path\u001b[0m\u001b[0;34m)\u001b[0m\u001b[0;34m\u001b[0m\u001b[0;34m\u001b[0m\u001b[0m\n",
            "\u001b[0;32m/usr/local/lib/python3.12/dist-packages/PIL/Image.py\u001b[0m in \u001b[0;36msave\u001b[0;34m(self, fp, format, **params)\u001b[0m\n\u001b[1;32m   2581\u001b[0m                 \u001b[0mfp\u001b[0m \u001b[0;34m=\u001b[0m \u001b[0mbuiltins\u001b[0m\u001b[0;34m.\u001b[0m\u001b[0mopen\u001b[0m\u001b[0;34m(\u001b[0m\u001b[0mfilename\u001b[0m\u001b[0;34m,\u001b[0m \u001b[0;34m\"r+b\"\u001b[0m\u001b[0;34m)\u001b[0m\u001b[0;34m\u001b[0m\u001b[0;34m\u001b[0m\u001b[0m\n\u001b[1;32m   2582\u001b[0m             \u001b[0;32melse\u001b[0m\u001b[0;34m:\u001b[0m\u001b[0;34m\u001b[0m\u001b[0;34m\u001b[0m\u001b[0m\n\u001b[0;32m-> 2583\u001b[0;31m                 \u001b[0mfp\u001b[0m \u001b[0;34m=\u001b[0m \u001b[0mbuiltins\u001b[0m\u001b[0;34m.\u001b[0m\u001b[0mopen\u001b[0m\u001b[0;34m(\u001b[0m\u001b[0mfilename\u001b[0m\u001b[0;34m,\u001b[0m \u001b[0;34m\"w+b\"\u001b[0m\u001b[0;34m)\u001b[0m\u001b[0;34m\u001b[0m\u001b[0;34m\u001b[0m\u001b[0m\n\u001b[0m\u001b[1;32m   2584\u001b[0m         \u001b[0;32melse\u001b[0m\u001b[0;34m:\u001b[0m\u001b[0;34m\u001b[0m\u001b[0;34m\u001b[0m\u001b[0m\n\u001b[1;32m   2585\u001b[0m             \u001b[0mfp\u001b[0m \u001b[0;34m=\u001b[0m \u001b[0mcast\u001b[0m\u001b[0;34m(\u001b[0m\u001b[0mIO\u001b[0m\u001b[0;34m[\u001b[0m\u001b[0mbytes\u001b[0m\u001b[0;34m]\u001b[0m\u001b[0;34m,\u001b[0m \u001b[0mfp\u001b[0m\u001b[0;34m)\u001b[0m\u001b[0;34m\u001b[0m\u001b[0;34m\u001b[0m\u001b[0m\n",
            "\u001b[0;31mFileNotFoundError\u001b[0m: [Errno 2] No such file or directory: '/content/images/test1.png'"
          ]
        }
      ]
    },
    {
      "cell_type": "markdown",
      "source": [
        "## **디버깅용**"
      ],
      "metadata": {
        "id": "ryWTPWp8xP5T"
      }
    },
    {
      "cell_type": "code",
      "source": [
        "print(\"latents:\", latents.dtype if 'latents' in globals() else None)\n",
        "try:\n",
        "    p = next(dcgan_decoder.parameters())\n",
        "    print(\"decoder weight:\", p.dtype)\n",
        "except Exception as e:\n",
        "    print(\"decoder:\", e)"
      ],
      "metadata": {
        "colab": {
          "base_uri": "https://localhost:8080/"
        },
        "id": "sEpU2TIyxQEm",
        "outputId": "fd4fd9dd-19d0-4e2c-fa29-3c7521541548"
      },
      "execution_count": null,
      "outputs": [
        {
          "output_type": "stream",
          "name": "stdout",
          "text": [
            "latents: torch.float32\n",
            "decoder weight: torch.float32\n"
          ]
        }
      ]
    },
    {
      "cell_type": "code",
      "source": [
        "import shutil\n",
        "\n",
        "# 저장된 이미지 폴더 경로\n",
        "folder_path = \"/content/generated\"\n",
        "\n",
        "# 압축파일 이름 (확장자 제외)\n",
        "zip_name = \"/content/fake\"\n",
        "\n",
        "# zip 파일 생성: /content/generated_images.zip\n",
        "shutil.make_archive(zip_name, 'zip', folder_path)\n",
        "\n",
        "print(\"압축 완료:\", zip_name + \".zip\")"
      ],
      "metadata": {
        "colab": {
          "base_uri": "https://localhost:8080/"
        },
        "id": "PrB3jNYcsy8g",
        "outputId": "5e66a44e-081a-4eba-889d-3bc5c76a9fac"
      },
      "execution_count": null,
      "outputs": [
        {
          "output_type": "stream",
          "name": "stdout",
          "text": [
            "압축 완료: /content/fake.zip\n"
          ]
        }
      ]
    }
  ]
}